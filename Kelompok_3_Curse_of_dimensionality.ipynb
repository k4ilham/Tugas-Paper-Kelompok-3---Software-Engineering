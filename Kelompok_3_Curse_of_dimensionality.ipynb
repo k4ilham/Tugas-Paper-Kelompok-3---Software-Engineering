{
  "cells": [
    {
      "cell_type": "markdown",
      "metadata": {
        "id": "NFjYVQlWqx3g"
      },
      "source": [
        "# **Curse of dimensionality**"
      ]
    },
    {
      "cell_type": "markdown",
      "metadata": {
        "id": "way7jRVqpLbd"
      },
      "source": [
        "# `1. Darwin Dataset`"
      ]
    },
    {
      "cell_type": "markdown",
      "metadata": {
        "id": "YD13ci2DUKOz"
      },
      "source": [
        "### Data Cleaning"
      ]
    },
    {
      "cell_type": "code",
      "execution_count": 4,
      "metadata": {
        "colab": {
          "base_uri": "https://localhost:8080/",
          "height": 34
        },
        "id": "Dlo8dF7JQ3ag",
        "outputId": "a2f6f7b4-abe6-4048-e739-e6deb97e9239"
      },
      "outputs": [
        {
          "data": {
            "text/html": [
              "        <script type=\"text/javascript\">\n",
              "        window.PlotlyConfig = {MathJaxConfig: 'local'};\n",
              "        if (window.MathJax && window.MathJax.Hub && window.MathJax.Hub.Config) {window.MathJax.Hub.Config({SVG: {font: \"STIX-Web\"}});}\n",
              "        if (typeof require !== 'undefined') {\n",
              "        require.undef(\"plotly\");\n",
              "        requirejs.config({\n",
              "            paths: {\n",
              "                'plotly': ['https://cdn.plot.ly/plotly-2.29.1.min']\n",
              "            }\n",
              "        });\n",
              "        require(['plotly'], function(Plotly) {\n",
              "            window._Plotly = Plotly;\n",
              "        });\n",
              "        }\n",
              "        </script>\n",
              "        "
            ]
          },
          "metadata": {},
          "output_type": "display_data"
        },
        {
          "data": {
            "text/html": [
              "        <script type=\"text/javascript\">\n",
              "        window.PlotlyConfig = {MathJaxConfig: 'local'};\n",
              "        if (window.MathJax && window.MathJax.Hub && window.MathJax.Hub.Config) {window.MathJax.Hub.Config({SVG: {font: \"STIX-Web\"}});}\n",
              "        if (typeof require !== 'undefined') {\n",
              "        require.undef(\"plotly\");\n",
              "        requirejs.config({\n",
              "            paths: {\n",
              "                'plotly': ['https://cdn.plot.ly/plotly-2.29.1.min']\n",
              "            }\n",
              "        });\n",
              "        require(['plotly'], function(Plotly) {\n",
              "            window._Plotly = Plotly;\n",
              "        });\n",
              "        }\n",
              "        </script>\n",
              "        "
            ]
          },
          "metadata": {},
          "output_type": "display_data"
        }
      ],
      "source": [
        "import numpy as np\n",
        "import pandas as pd\n",
        "from pandas import Series, DataFrame\n",
        "from numpy import arange\n",
        "\n",
        "import plotly.graph_objs as go\n",
        "from plotly.offline import download_plotlyjs, init_notebook_mode, plot,iplot\n",
        "init_notebook_mode(connected=True)\n",
        "\n",
        "import seaborn as sns\n",
        "import matplotlib.pyplot as plt\n",
        "from plotly.offline import init_notebook_mode, iplot\n",
        "init_notebook_mode(connected=True)\n",
        "\n",
        "from scipy import stats\n",
        "%matplotlib inline\n",
        "from sklearn.preprocessing import LabelEncoder, MinMaxScaler\n",
        "from sklearn.model_selection import train_test_split\n",
        "\n",
        "import warnings\n",
        "warnings.filterwarnings(\"ignore\")"
      ]
    },
    {
      "cell_type": "markdown",
      "metadata": {
        "id": "SYcuiK8NToXO"
      },
      "source": [
        "####Load Dataset"
      ]
    },
    {
      "cell_type": "code",
      "execution_count": 5,
      "metadata": {
        "id": "xNWrqKfSTrOC"
      },
      "outputs": [],
      "source": [
        "# Path untuk dataset\n",
        "path = \"C:/Users/user01/Downloads/Advance Software Engineering/Tugas Paper Kelompok 3/dataset.csv\"\n",
        "\n",
        "# Baca dataset dengan menyediakan encoding yang sesuai\n",
        "df_dw = pd.read_csv(path, encoding='latin1')  # Atau encoding='windows-1252'\n"
      ]
    },
    {
      "cell_type": "markdown",
      "metadata": {
        "id": "zXO5Mtw4FVEV"
      },
      "source": [
        "####Show top 10 Data"
      ]
    },
    {
      "cell_type": "code",
      "execution_count": 6,
      "metadata": {
        "colab": {
          "base_uri": "https://localhost:8080/",
          "height": 412
        },
        "id": "9nQBOrpzUBDK",
        "outputId": "ae9363fe-27c9-4af4-d2a4-0256a2521107"
      },
      "outputs": [
        {
          "data": {
            "text/html": [
              "<div>\n",
              "<style scoped>\n",
              "    .dataframe tbody tr th:only-of-type {\n",
              "        vertical-align: middle;\n",
              "    }\n",
              "\n",
              "    .dataframe tbody tr th {\n",
              "        vertical-align: top;\n",
              "    }\n",
              "\n",
              "    .dataframe thead th {\n",
              "        text-align: right;\n",
              "    }\n",
              "</style>\n",
              "<table border=\"1\" class=\"dataframe\">\n",
              "  <thead>\n",
              "    <tr style=\"text-align: right;\">\n",
              "      <th></th>\n",
              "      <th>project_name</th>\n",
              "      <th>web_url</th>\n",
              "      <th>data_release</th>\n",
              "      <th>about</th>\n",
              "      <th>languages</th>\n",
              "      <th>watch</th>\n",
              "      <th>fork</th>\n",
              "      <th>star</th>\n",
              "      <th>brances</th>\n",
              "      <th>tags</th>\n",
              "      <th>...</th>\n",
              "      <th>duplication</th>\n",
              "      <th>branch</th>\n",
              "      <th>severity_minor</th>\n",
              "      <th>severity_medium</th>\n",
              "      <th>severity_critical</th>\n",
              "      <th>grade</th>\n",
              "      <th>security.1</th>\n",
              "      <th>performance.1</th>\n",
              "      <th>error_prone</th>\n",
              "      <th>code_style</th>\n",
              "    </tr>\n",
              "  </thead>\n",
              "  <tbody>\n",
              "    <tr>\n",
              "      <th>0</th>\n",
              "      <td>pytorch / vision</td>\n",
              "      <td>Releases · pytorch/vision (github.com)</td>\n",
              "      <td>05-Oct-23</td>\n",
              "      <td>Datasets, Transforms and Models specific to Co...</td>\n",
              "      <td>Python</td>\n",
              "      <td>398</td>\n",
              "      <td>6800</td>\n",
              "      <td>14800</td>\n",
              "      <td>108</td>\n",
              "      <td>113</td>\n",
              "      <td>...</td>\n",
              "      <td>31%</td>\n",
              "      <td>1</td>\n",
              "      <td>882</td>\n",
              "      <td>506</td>\n",
              "      <td>50</td>\n",
              "      <td>A</td>\n",
              "      <td>108</td>\n",
              "      <td>5</td>\n",
              "      <td>1</td>\n",
              "      <td>1324</td>\n",
              "    </tr>\n",
              "    <tr>\n",
              "      <th>1</th>\n",
              "      <td>opencv</td>\n",
              "      <td>opencv/opencv: Open Source Computer Vision Lib...</td>\n",
              "      <td>04-Jul-13</td>\n",
              "      <td>Open Source Computer Vision Library</td>\n",
              "      <td>C++</td>\n",
              "      <td>2700</td>\n",
              "      <td>55700</td>\n",
              "      <td>72400</td>\n",
              "      <td>6</td>\n",
              "      <td>123</td>\n",
              "      <td>...</td>\n",
              "      <td>28%</td>\n",
              "      <td>1</td>\n",
              "      <td>11843</td>\n",
              "      <td>1941</td>\n",
              "      <td>608</td>\n",
              "      <td>A</td>\n",
              "      <td>550</td>\n",
              "      <td>233</td>\n",
              "      <td>907</td>\n",
              "      <td>12625</td>\n",
              "    </tr>\n",
              "    <tr>\n",
              "      <th>2</th>\n",
              "      <td>mmcv</td>\n",
              "      <td>open-mmlab/mmcv: OpenMMLab Computer Vision Fou...</td>\n",
              "      <td>03-Aug-20</td>\n",
              "      <td>OpenMMLab Computer Vision Foundation</td>\n",
              "      <td>Python</td>\n",
              "      <td>87</td>\n",
              "      <td>1600</td>\n",
              "      <td>5300</td>\n",
              "      <td>10</td>\n",
              "      <td>106</td>\n",
              "      <td>...</td>\n",
              "      <td>32%</td>\n",
              "      <td>1</td>\n",
              "      <td>349</td>\n",
              "      <td>68</td>\n",
              "      <td>29</td>\n",
              "      <td>A</td>\n",
              "      <td>16</td>\n",
              "      <td>30</td>\n",
              "      <td>16</td>\n",
              "      <td>384</td>\n",
              "    </tr>\n",
              "    <tr>\n",
              "      <th>3</th>\n",
              "      <td>AliceVision</td>\n",
              "      <td>alicevision/AliceVision: Photogrammetric Compu...</td>\n",
              "      <td>09-Aug-18</td>\n",
              "      <td>Photogrammetric Computer Vision Framework</td>\n",
              "      <td>C++</td>\n",
              "      <td>133</td>\n",
              "      <td>770</td>\n",
              "      <td>2700</td>\n",
              "      <td>121</td>\n",
              "      <td>22</td>\n",
              "      <td>...</td>\n",
              "      <td>35%</td>\n",
              "      <td>1</td>\n",
              "      <td>832</td>\n",
              "      <td>638</td>\n",
              "      <td>15</td>\n",
              "      <td>A</td>\n",
              "      <td>54</td>\n",
              "      <td>22</td>\n",
              "      <td>37</td>\n",
              "      <td>1372</td>\n",
              "    </tr>\n",
              "    <tr>\n",
              "      <th>4</th>\n",
              "      <td>computervision-recipes</td>\n",
              "      <td>microsoft/computervision-recipes: Best Practic...</td>\n",
              "      <td>01-Oct-19</td>\n",
              "      <td>Best Practices, code samples, and documentatio...</td>\n",
              "      <td>Jupyter Notebook</td>\n",
              "      <td>288</td>\n",
              "      <td>1200</td>\n",
              "      <td>9200</td>\n",
              "      <td>28</td>\n",
              "      <td>3</td>\n",
              "      <td>...</td>\n",
              "      <td>16%</td>\n",
              "      <td>1</td>\n",
              "      <td>2390</td>\n",
              "      <td>1292</td>\n",
              "      <td>87</td>\n",
              "      <td>B</td>\n",
              "      <td>83</td>\n",
              "      <td>0</td>\n",
              "      <td>30</td>\n",
              "      <td>3656</td>\n",
              "    </tr>\n",
              "    <tr>\n",
              "      <th>5</th>\n",
              "      <td>ccv</td>\n",
              "      <td>liuliu/ccv: C-based/Cached/Core Computer Visio...</td>\n",
              "      <td>2013</td>\n",
              "      <td>C-based/Cached/Core Computer Vision Library, A...</td>\n",
              "      <td>C</td>\n",
              "      <td>354</td>\n",
              "      <td>1800</td>\n",
              "      <td>7000</td>\n",
              "      <td>11</td>\n",
              "      <td>0</td>\n",
              "      <td>...</td>\n",
              "      <td>51%</td>\n",
              "      <td>1</td>\n",
              "      <td>979</td>\n",
              "      <td>434</td>\n",
              "      <td>15</td>\n",
              "      <td>A</td>\n",
              "      <td>83</td>\n",
              "      <td>2</td>\n",
              "      <td>105</td>\n",
              "      <td>1238</td>\n",
              "    </tr>\n",
              "    <tr>\n",
              "      <th>6</th>\n",
              "      <td>computer-vision</td>\n",
              "      <td>khanhnamle1994/computer-vision: Programming As...</td>\n",
              "      <td>03-Apr-17</td>\n",
              "      <td>Programming Assignments and Lectures for Stanf...</td>\n",
              "      <td>Jupyter Notebook</td>\n",
              "      <td>28</td>\n",
              "      <td>250</td>\n",
              "      <td>476</td>\n",
              "      <td>1</td>\n",
              "      <td>0</td>\n",
              "      <td>...</td>\n",
              "      <td>22%</td>\n",
              "      <td>1</td>\n",
              "      <td>427</td>\n",
              "      <td>229</td>\n",
              "      <td>12</td>\n",
              "      <td>B</td>\n",
              "      <td>5</td>\n",
              "      <td>0</td>\n",
              "      <td>11</td>\n",
              "      <td>654</td>\n",
              "    </tr>\n",
              "    <tr>\n",
              "      <th>7</th>\n",
              "      <td>kornia</td>\n",
              "      <td>kornia/kornia: Geometric Computer Vision Libra...</td>\n",
              "      <td>03-Oct-18</td>\n",
              "      <td>Geometric Computer Vision Library for AI</td>\n",
              "      <td>Python</td>\n",
              "      <td>125</td>\n",
              "      <td>902</td>\n",
              "      <td>8800</td>\n",
              "      <td>13</td>\n",
              "      <td>41</td>\n",
              "      <td>...</td>\n",
              "      <td>40%</td>\n",
              "      <td>1</td>\n",
              "      <td>895</td>\n",
              "      <td>176</td>\n",
              "      <td>8</td>\n",
              "      <td>B</td>\n",
              "      <td>6</td>\n",
              "      <td>0</td>\n",
              "      <td>7</td>\n",
              "      <td>1066</td>\n",
              "    </tr>\n",
              "    <tr>\n",
              "      <th>8</th>\n",
              "      <td>supervision</td>\n",
              "      <td>roboflow/supervision: We write your reusable c...</td>\n",
              "      <td>19-Jan-23</td>\n",
              "      <td>We write your reusable computer vision tools.</td>\n",
              "      <td>Python</td>\n",
              "      <td>69</td>\n",
              "      <td>501</td>\n",
              "      <td>7000</td>\n",
              "      <td>67</td>\n",
              "      <td>31</td>\n",
              "      <td>...</td>\n",
              "      <td>12%</td>\n",
              "      <td>1</td>\n",
              "      <td>93</td>\n",
              "      <td>25</td>\n",
              "      <td>1</td>\n",
              "      <td>B</td>\n",
              "      <td>2</td>\n",
              "      <td>0</td>\n",
              "      <td>0</td>\n",
              "      <td>119</td>\n",
              "    </tr>\n",
              "    <tr>\n",
              "      <th>9</th>\n",
              "      <td>tracking.js</td>\n",
              "      <td>eduardolundgren/tracking.js: A modern approach...</td>\n",
              "      <td>16-Jul-14</td>\n",
              "      <td>A modern approach for Computer Vision on the web</td>\n",
              "      <td>JavaScript</td>\n",
              "      <td>290</td>\n",
              "      <td>1500</td>\n",
              "      <td>9400</td>\n",
              "      <td>4</td>\n",
              "      <td>6</td>\n",
              "      <td>...</td>\n",
              "      <td>8%</td>\n",
              "      <td>1</td>\n",
              "      <td>632</td>\n",
              "      <td>403</td>\n",
              "      <td>93</td>\n",
              "      <td>C</td>\n",
              "      <td>415</td>\n",
              "      <td>0</td>\n",
              "      <td>94</td>\n",
              "      <td>619</td>\n",
              "    </tr>\n",
              "  </tbody>\n",
              "</table>\n",
              "<p>10 rows × 40 columns</p>\n",
              "</div>"
            ],
            "text/plain": [
              "             project_name                                            web_url  \\\n",
              "0        pytorch / vision             Releases · pytorch/vision (github.com)   \n",
              "1                  opencv  opencv/opencv: Open Source Computer Vision Lib...   \n",
              "2                    mmcv  open-mmlab/mmcv: OpenMMLab Computer Vision Fou...   \n",
              "3             AliceVision  alicevision/AliceVision: Photogrammetric Compu...   \n",
              "4  computervision-recipes  microsoft/computervision-recipes: Best Practic...   \n",
              "5                     ccv  liuliu/ccv: C-based/Cached/Core Computer Visio...   \n",
              "6         computer-vision  khanhnamle1994/computer-vision: Programming As...   \n",
              "7                  kornia  kornia/kornia: Geometric Computer Vision Libra...   \n",
              "8             supervision  roboflow/supervision: We write your reusable c...   \n",
              "9             tracking.js  eduardolundgren/tracking.js: A modern approach...   \n",
              "\n",
              "  data_release                                              about  \\\n",
              "0    05-Oct-23  Datasets, Transforms and Models specific to Co...   \n",
              "1    04-Jul-13                Open Source Computer Vision Library   \n",
              "2    03-Aug-20               OpenMMLab Computer Vision Foundation   \n",
              "3    09-Aug-18          Photogrammetric Computer Vision Framework   \n",
              "4    01-Oct-19  Best Practices, code samples, and documentatio...   \n",
              "5         2013  C-based/Cached/Core Computer Vision Library, A...   \n",
              "6    03-Apr-17  Programming Assignments and Lectures for Stanf...   \n",
              "7    03-Oct-18           Geometric Computer Vision Library for AI   \n",
              "8    19-Jan-23     We write your reusable computer vision tools.    \n",
              "9    16-Jul-14   A modern approach for Computer Vision on the web   \n",
              "\n",
              "          languages  watch   fork   star  brances  tags  ...  duplication  \\\n",
              "0            Python    398   6800  14800      108   113  ...          31%   \n",
              "1               C++   2700  55700  72400        6   123  ...          28%   \n",
              "2            Python     87   1600   5300       10   106  ...          32%   \n",
              "3               C++    133    770   2700      121    22  ...          35%   \n",
              "4  Jupyter Notebook    288   1200   9200       28     3  ...          16%   \n",
              "5                 C    354   1800   7000       11     0  ...          51%   \n",
              "6  Jupyter Notebook     28    250    476        1     0  ...          22%   \n",
              "7            Python    125    902   8800       13    41  ...          40%   \n",
              "8            Python     69    501   7000       67    31  ...          12%   \n",
              "9        JavaScript    290   1500   9400        4     6  ...           8%   \n",
              "\n",
              "   branch  severity_minor  severity_medium  severity_critical  grade  \\\n",
              "0       1             882              506                 50      A   \n",
              "1       1           11843             1941                608      A   \n",
              "2       1             349               68                 29      A   \n",
              "3       1             832              638                 15      A   \n",
              "4       1            2390             1292                 87      B   \n",
              "5       1             979              434                 15      A   \n",
              "6       1             427              229                 12      B   \n",
              "7       1             895              176                  8      B   \n",
              "8       1              93               25                  1      B   \n",
              "9       1             632              403                 93      C   \n",
              "\n",
              "   security.1  performance.1  error_prone  code_style  \n",
              "0         108              5            1        1324  \n",
              "1         550            233          907       12625  \n",
              "2          16             30           16         384  \n",
              "3          54             22           37        1372  \n",
              "4          83              0           30        3656  \n",
              "5          83              2          105        1238  \n",
              "6           5              0           11         654  \n",
              "7           6              0            7        1066  \n",
              "8           2              0            0         119  \n",
              "9         415              0           94         619  \n",
              "\n",
              "[10 rows x 40 columns]"
            ]
          },
          "execution_count": 6,
          "metadata": {},
          "output_type": "execute_result"
        }
      ],
      "source": [
        "df_dw.head(10)"
      ]
    },
    {
      "cell_type": "code",
      "execution_count": 7,
      "metadata": {
        "colab": {
          "base_uri": "https://localhost:8080/"
        },
        "id": "dKqnxhdscPYP",
        "outputId": "1746d9cf-38e7-4cf2-8cae-16c80245e4ea"
      },
      "outputs": [
        {
          "data": {
            "text/plain": [
              "(30, 40)"
            ]
          },
          "execution_count": 7,
          "metadata": {},
          "output_type": "execute_result"
        }
      ],
      "source": [
        "df_dw.shape"
      ]
    },
    {
      "cell_type": "code",
      "execution_count": 8,
      "metadata": {
        "colab": {
          "base_uri": "https://localhost:8080/",
          "height": 224
        },
        "id": "lFz92PHrr643",
        "outputId": "33753ee4-8c3a-4e8e-8232-f0f73254110a"
      },
      "outputs": [
        {
          "data": {
            "text/html": [
              "<div>\n",
              "<style scoped>\n",
              "    .dataframe tbody tr th:only-of-type {\n",
              "        vertical-align: middle;\n",
              "    }\n",
              "\n",
              "    .dataframe tbody tr th {\n",
              "        vertical-align: top;\n",
              "    }\n",
              "\n",
              "    .dataframe thead tr th {\n",
              "        text-align: left;\n",
              "    }\n",
              "\n",
              "    .dataframe thead tr:last-of-type th {\n",
              "        text-align: right;\n",
              "    }\n",
              "</style>\n",
              "<table border=\"1\" class=\"dataframe\">\n",
              "  <thead>\n",
              "    <tr>\n",
              "      <th></th>\n",
              "      <th colspan=\"8\" halign=\"left\">watch</th>\n",
              "      <th colspan=\"2\" halign=\"left\">fork</th>\n",
              "      <th>...</th>\n",
              "      <th colspan=\"2\" halign=\"left\">error_prone</th>\n",
              "      <th colspan=\"8\" halign=\"left\">code_style</th>\n",
              "    </tr>\n",
              "    <tr>\n",
              "      <th></th>\n",
              "      <th>count</th>\n",
              "      <th>mean</th>\n",
              "      <th>std</th>\n",
              "      <th>min</th>\n",
              "      <th>25%</th>\n",
              "      <th>50%</th>\n",
              "      <th>75%</th>\n",
              "      <th>max</th>\n",
              "      <th>count</th>\n",
              "      <th>mean</th>\n",
              "      <th>...</th>\n",
              "      <th>75%</th>\n",
              "      <th>max</th>\n",
              "      <th>count</th>\n",
              "      <th>mean</th>\n",
              "      <th>std</th>\n",
              "      <th>min</th>\n",
              "      <th>25%</th>\n",
              "      <th>50%</th>\n",
              "      <th>75%</th>\n",
              "      <th>max</th>\n",
              "    </tr>\n",
              "    <tr>\n",
              "      <th>class</th>\n",
              "      <th></th>\n",
              "      <th></th>\n",
              "      <th></th>\n",
              "      <th></th>\n",
              "      <th></th>\n",
              "      <th></th>\n",
              "      <th></th>\n",
              "      <th></th>\n",
              "      <th></th>\n",
              "      <th></th>\n",
              "      <th></th>\n",
              "      <th></th>\n",
              "      <th></th>\n",
              "      <th></th>\n",
              "      <th></th>\n",
              "      <th></th>\n",
              "      <th></th>\n",
              "      <th></th>\n",
              "      <th></th>\n",
              "      <th></th>\n",
              "      <th></th>\n",
              "    </tr>\n",
              "  </thead>\n",
              "  <tbody>\n",
              "    <tr>\n",
              "      <th>0</th>\n",
              "      <td>2.0</td>\n",
              "      <td>162.0</td>\n",
              "      <td>181.019336</td>\n",
              "      <td>34.0</td>\n",
              "      <td>98.0</td>\n",
              "      <td>162.0</td>\n",
              "      <td>226.0</td>\n",
              "      <td>290.0</td>\n",
              "      <td>2.0</td>\n",
              "      <td>1161.5</td>\n",
              "      <td>...</td>\n",
              "      <td>70.5</td>\n",
              "      <td>94.0</td>\n",
              "      <td>2.0</td>\n",
              "      <td>393.5</td>\n",
              "      <td>318.905158</td>\n",
              "      <td>168.0</td>\n",
              "      <td>280.75</td>\n",
              "      <td>393.5</td>\n",
              "      <td>506.25</td>\n",
              "      <td>619.0</td>\n",
              "    </tr>\n",
              "    <tr>\n",
              "      <th>6</th>\n",
              "      <td>1.0</td>\n",
              "      <td>398.0</td>\n",
              "      <td>NaN</td>\n",
              "      <td>398.0</td>\n",
              "      <td>398.0</td>\n",
              "      <td>398.0</td>\n",
              "      <td>398.0</td>\n",
              "      <td>398.0</td>\n",
              "      <td>1.0</td>\n",
              "      <td>6800.0</td>\n",
              "      <td>...</td>\n",
              "      <td>1.0</td>\n",
              "      <td>1.0</td>\n",
              "      <td>1.0</td>\n",
              "      <td>1324.0</td>\n",
              "      <td>NaN</td>\n",
              "      <td>1324.0</td>\n",
              "      <td>1324.00</td>\n",
              "      <td>1324.0</td>\n",
              "      <td>1324.00</td>\n",
              "      <td>1324.0</td>\n",
              "    </tr>\n",
              "    <tr>\n",
              "      <th>7</th>\n",
              "      <td>1.0</td>\n",
              "      <td>117.0</td>\n",
              "      <td>NaN</td>\n",
              "      <td>117.0</td>\n",
              "      <td>117.0</td>\n",
              "      <td>117.0</td>\n",
              "      <td>117.0</td>\n",
              "      <td>117.0</td>\n",
              "      <td>1.0</td>\n",
              "      <td>473.0</td>\n",
              "      <td>...</td>\n",
              "      <td>5.0</td>\n",
              "      <td>5.0</td>\n",
              "      <td>1.0</td>\n",
              "      <td>163.0</td>\n",
              "      <td>NaN</td>\n",
              "      <td>163.0</td>\n",
              "      <td>163.00</td>\n",
              "      <td>163.0</td>\n",
              "      <td>163.00</td>\n",
              "      <td>163.0</td>\n",
              "    </tr>\n",
              "    <tr>\n",
              "      <th>12</th>\n",
              "      <td>1.0</td>\n",
              "      <td>28.0</td>\n",
              "      <td>NaN</td>\n",
              "      <td>28.0</td>\n",
              "      <td>28.0</td>\n",
              "      <td>28.0</td>\n",
              "      <td>28.0</td>\n",
              "      <td>28.0</td>\n",
              "      <td>1.0</td>\n",
              "      <td>250.0</td>\n",
              "      <td>...</td>\n",
              "      <td>11.0</td>\n",
              "      <td>11.0</td>\n",
              "      <td>1.0</td>\n",
              "      <td>654.0</td>\n",
              "      <td>NaN</td>\n",
              "      <td>654.0</td>\n",
              "      <td>654.00</td>\n",
              "      <td>654.0</td>\n",
              "      <td>654.00</td>\n",
              "      <td>654.0</td>\n",
              "    </tr>\n",
              "    <tr>\n",
              "      <th>17</th>\n",
              "      <td>1.0</td>\n",
              "      <td>100.0</td>\n",
              "      <td>NaN</td>\n",
              "      <td>100.0</td>\n",
              "      <td>100.0</td>\n",
              "      <td>100.0</td>\n",
              "      <td>100.0</td>\n",
              "      <td>100.0</td>\n",
              "      <td>1.0</td>\n",
              "      <td>473.0</td>\n",
              "      <td>...</td>\n",
              "      <td>0.0</td>\n",
              "      <td>0.0</td>\n",
              "      <td>1.0</td>\n",
              "      <td>857.0</td>\n",
              "      <td>NaN</td>\n",
              "      <td>857.0</td>\n",
              "      <td>857.00</td>\n",
              "      <td>857.0</td>\n",
              "      <td>857.00</td>\n",
              "      <td>857.0</td>\n",
              "    </tr>\n",
              "    <tr>\n",
              "      <th>26</th>\n",
              "      <td>1.0</td>\n",
              "      <td>166.0</td>\n",
              "      <td>NaN</td>\n",
              "      <td>166.0</td>\n",
              "      <td>166.0</td>\n",
              "      <td>166.0</td>\n",
              "      <td>166.0</td>\n",
              "      <td>166.0</td>\n",
              "      <td>1.0</td>\n",
              "      <td>708.0</td>\n",
              "      <td>...</td>\n",
              "      <td>0.0</td>\n",
              "      <td>0.0</td>\n",
              "      <td>1.0</td>\n",
              "      <td>614.0</td>\n",
              "      <td>NaN</td>\n",
              "      <td>614.0</td>\n",
              "      <td>614.00</td>\n",
              "      <td>614.0</td>\n",
              "      <td>614.00</td>\n",
              "      <td>614.0</td>\n",
              "    </tr>\n",
              "    <tr>\n",
              "      <th>28</th>\n",
              "      <td>1.0</td>\n",
              "      <td>151.0</td>\n",
              "      <td>NaN</td>\n",
              "      <td>151.0</td>\n",
              "      <td>151.0</td>\n",
              "      <td>151.0</td>\n",
              "      <td>151.0</td>\n",
              "      <td>151.0</td>\n",
              "      <td>1.0</td>\n",
              "      <td>870.0</td>\n",
              "      <td>...</td>\n",
              "      <td>2.0</td>\n",
              "      <td>2.0</td>\n",
              "      <td>1.0</td>\n",
              "      <td>163.0</td>\n",
              "      <td>NaN</td>\n",
              "      <td>163.0</td>\n",
              "      <td>163.00</td>\n",
              "      <td>163.0</td>\n",
              "      <td>163.00</td>\n",
              "      <td>163.0</td>\n",
              "    </tr>\n",
              "    <tr>\n",
              "      <th>43</th>\n",
              "      <td>1.0</td>\n",
              "      <td>43.0</td>\n",
              "      <td>NaN</td>\n",
              "      <td>43.0</td>\n",
              "      <td>43.0</td>\n",
              "      <td>43.0</td>\n",
              "      <td>43.0</td>\n",
              "      <td>43.0</td>\n",
              "      <td>1.0</td>\n",
              "      <td>1400.0</td>\n",
              "      <td>...</td>\n",
              "      <td>0.0</td>\n",
              "      <td>0.0</td>\n",
              "      <td>1.0</td>\n",
              "      <td>99.0</td>\n",
              "      <td>NaN</td>\n",
              "      <td>99.0</td>\n",
              "      <td>99.00</td>\n",
              "      <td>99.0</td>\n",
              "      <td>99.00</td>\n",
              "      <td>99.0</td>\n",
              "    </tr>\n",
              "    <tr>\n",
              "      <th>48</th>\n",
              "      <td>1.0</td>\n",
              "      <td>69.0</td>\n",
              "      <td>NaN</td>\n",
              "      <td>69.0</td>\n",
              "      <td>69.0</td>\n",
              "      <td>69.0</td>\n",
              "      <td>69.0</td>\n",
              "      <td>69.0</td>\n",
              "      <td>1.0</td>\n",
              "      <td>501.0</td>\n",
              "      <td>...</td>\n",
              "      <td>0.0</td>\n",
              "      <td>0.0</td>\n",
              "      <td>1.0</td>\n",
              "      <td>119.0</td>\n",
              "      <td>NaN</td>\n",
              "      <td>119.0</td>\n",
              "      <td>119.00</td>\n",
              "      <td>119.0</td>\n",
              "      <td>119.00</td>\n",
              "      <td>119.0</td>\n",
              "    </tr>\n",
              "    <tr>\n",
              "      <th>54</th>\n",
              "      <td>1.0</td>\n",
              "      <td>130.0</td>\n",
              "      <td>NaN</td>\n",
              "      <td>130.0</td>\n",
              "      <td>130.0</td>\n",
              "      <td>130.0</td>\n",
              "      <td>130.0</td>\n",
              "      <td>130.0</td>\n",
              "      <td>1.0</td>\n",
              "      <td>410.0</td>\n",
              "      <td>...</td>\n",
              "      <td>2.0</td>\n",
              "      <td>2.0</td>\n",
              "      <td>1.0</td>\n",
              "      <td>141.0</td>\n",
              "      <td>NaN</td>\n",
              "      <td>141.0</td>\n",
              "      <td>141.00</td>\n",
              "      <td>141.0</td>\n",
              "      <td>141.00</td>\n",
              "      <td>141.0</td>\n",
              "    </tr>\n",
              "    <tr>\n",
              "      <th>64</th>\n",
              "      <td>1.0</td>\n",
              "      <td>288.0</td>\n",
              "      <td>NaN</td>\n",
              "      <td>288.0</td>\n",
              "      <td>288.0</td>\n",
              "      <td>288.0</td>\n",
              "      <td>288.0</td>\n",
              "      <td>288.0</td>\n",
              "      <td>1.0</td>\n",
              "      <td>2100.0</td>\n",
              "      <td>...</td>\n",
              "      <td>0.0</td>\n",
              "      <td>0.0</td>\n",
              "      <td>1.0</td>\n",
              "      <td>1162.0</td>\n",
              "      <td>NaN</td>\n",
              "      <td>1162.0</td>\n",
              "      <td>1162.00</td>\n",
              "      <td>1162.0</td>\n",
              "      <td>1162.00</td>\n",
              "      <td>1162.0</td>\n",
              "    </tr>\n",
              "    <tr>\n",
              "      <th>101</th>\n",
              "      <td>1.0</td>\n",
              "      <td>20.0</td>\n",
              "      <td>NaN</td>\n",
              "      <td>20.0</td>\n",
              "      <td>20.0</td>\n",
              "      <td>20.0</td>\n",
              "      <td>20.0</td>\n",
              "      <td>20.0</td>\n",
              "      <td>1.0</td>\n",
              "      <td>172.0</td>\n",
              "      <td>...</td>\n",
              "      <td>4.0</td>\n",
              "      <td>4.0</td>\n",
              "      <td>1.0</td>\n",
              "      <td>379.0</td>\n",
              "      <td>NaN</td>\n",
              "      <td>379.0</td>\n",
              "      <td>379.00</td>\n",
              "      <td>379.0</td>\n",
              "      <td>379.00</td>\n",
              "      <td>379.0</td>\n",
              "    </tr>\n",
              "    <tr>\n",
              "      <th>142</th>\n",
              "      <td>1.0</td>\n",
              "      <td>288.0</td>\n",
              "      <td>NaN</td>\n",
              "      <td>288.0</td>\n",
              "      <td>288.0</td>\n",
              "      <td>288.0</td>\n",
              "      <td>288.0</td>\n",
              "      <td>288.0</td>\n",
              "      <td>1.0</td>\n",
              "      <td>1200.0</td>\n",
              "      <td>...</td>\n",
              "      <td>30.0</td>\n",
              "      <td>30.0</td>\n",
              "      <td>1.0</td>\n",
              "      <td>3656.0</td>\n",
              "      <td>NaN</td>\n",
              "      <td>3656.0</td>\n",
              "      <td>3656.00</td>\n",
              "      <td>3656.0</td>\n",
              "      <td>3656.00</td>\n",
              "      <td>3656.0</td>\n",
              "    </tr>\n",
              "    <tr>\n",
              "      <th>252</th>\n",
              "      <td>1.0</td>\n",
              "      <td>157.0</td>\n",
              "      <td>NaN</td>\n",
              "      <td>157.0</td>\n",
              "      <td>157.0</td>\n",
              "      <td>157.0</td>\n",
              "      <td>157.0</td>\n",
              "      <td>157.0</td>\n",
              "      <td>1.0</td>\n",
              "      <td>652.0</td>\n",
              "      <td>...</td>\n",
              "      <td>6.0</td>\n",
              "      <td>6.0</td>\n",
              "      <td>1.0</td>\n",
              "      <td>327.0</td>\n",
              "      <td>NaN</td>\n",
              "      <td>327.0</td>\n",
              "      <td>327.00</td>\n",
              "      <td>327.0</td>\n",
              "      <td>327.00</td>\n",
              "      <td>327.0</td>\n",
              "    </tr>\n",
              "    <tr>\n",
              "      <th>317</th>\n",
              "      <td>1.0</td>\n",
              "      <td>32.0</td>\n",
              "      <td>NaN</td>\n",
              "      <td>32.0</td>\n",
              "      <td>32.0</td>\n",
              "      <td>32.0</td>\n",
              "      <td>32.0</td>\n",
              "      <td>32.0</td>\n",
              "      <td>1.0</td>\n",
              "      <td>194.0</td>\n",
              "      <td>...</td>\n",
              "      <td>0.0</td>\n",
              "      <td>0.0</td>\n",
              "      <td>1.0</td>\n",
              "      <td>402.0</td>\n",
              "      <td>NaN</td>\n",
              "      <td>402.0</td>\n",
              "      <td>402.00</td>\n",
              "      <td>402.0</td>\n",
              "      <td>402.00</td>\n",
              "      <td>402.0</td>\n",
              "    </tr>\n",
              "    <tr>\n",
              "      <th>575</th>\n",
              "      <td>1.0</td>\n",
              "      <td>36.0</td>\n",
              "      <td>NaN</td>\n",
              "      <td>36.0</td>\n",
              "      <td>36.0</td>\n",
              "      <td>36.0</td>\n",
              "      <td>36.0</td>\n",
              "      <td>36.0</td>\n",
              "      <td>1.0</td>\n",
              "      <td>353.0</td>\n",
              "      <td>...</td>\n",
              "      <td>0.0</td>\n",
              "      <td>0.0</td>\n",
              "      <td>1.0</td>\n",
              "      <td>8322.0</td>\n",
              "      <td>NaN</td>\n",
              "      <td>8322.0</td>\n",
              "      <td>8322.00</td>\n",
              "      <td>8322.0</td>\n",
              "      <td>8322.00</td>\n",
              "      <td>8322.0</td>\n",
              "    </tr>\n",
              "    <tr>\n",
              "      <th>619</th>\n",
              "      <td>1.0</td>\n",
              "      <td>87.0</td>\n",
              "      <td>NaN</td>\n",
              "      <td>87.0</td>\n",
              "      <td>87.0</td>\n",
              "      <td>87.0</td>\n",
              "      <td>87.0</td>\n",
              "      <td>87.0</td>\n",
              "      <td>1.0</td>\n",
              "      <td>1600.0</td>\n",
              "      <td>...</td>\n",
              "      <td>16.0</td>\n",
              "      <td>16.0</td>\n",
              "      <td>1.0</td>\n",
              "      <td>384.0</td>\n",
              "      <td>NaN</td>\n",
              "      <td>384.0</td>\n",
              "      <td>384.00</td>\n",
              "      <td>384.0</td>\n",
              "      <td>384.00</td>\n",
              "      <td>384.0</td>\n",
              "    </tr>\n",
              "    <tr>\n",
              "      <th>703</th>\n",
              "      <td>1.0</td>\n",
              "      <td>133.0</td>\n",
              "      <td>NaN</td>\n",
              "      <td>133.0</td>\n",
              "      <td>133.0</td>\n",
              "      <td>133.0</td>\n",
              "      <td>133.0</td>\n",
              "      <td>133.0</td>\n",
              "      <td>1.0</td>\n",
              "      <td>770.0</td>\n",
              "      <td>...</td>\n",
              "      <td>37.0</td>\n",
              "      <td>37.0</td>\n",
              "      <td>1.0</td>\n",
              "      <td>1372.0</td>\n",
              "      <td>NaN</td>\n",
              "      <td>1372.0</td>\n",
              "      <td>1372.00</td>\n",
              "      <td>1372.0</td>\n",
              "      <td>1372.00</td>\n",
              "      <td>1372.0</td>\n",
              "    </tr>\n",
              "    <tr>\n",
              "      <th>1092</th>\n",
              "      <td>1.0</td>\n",
              "      <td>125.0</td>\n",
              "      <td>NaN</td>\n",
              "      <td>125.0</td>\n",
              "      <td>125.0</td>\n",
              "      <td>125.0</td>\n",
              "      <td>125.0</td>\n",
              "      <td>125.0</td>\n",
              "      <td>1.0</td>\n",
              "      <td>902.0</td>\n",
              "      <td>...</td>\n",
              "      <td>7.0</td>\n",
              "      <td>7.0</td>\n",
              "      <td>1.0</td>\n",
              "      <td>1066.0</td>\n",
              "      <td>NaN</td>\n",
              "      <td>1066.0</td>\n",
              "      <td>1066.00</td>\n",
              "      <td>1066.0</td>\n",
              "      <td>1066.00</td>\n",
              "      <td>1066.0</td>\n",
              "    </tr>\n",
              "    <tr>\n",
              "      <th>1107</th>\n",
              "      <td>1.0</td>\n",
              "      <td>30.0</td>\n",
              "      <td>NaN</td>\n",
              "      <td>30.0</td>\n",
              "      <td>30.0</td>\n",
              "      <td>30.0</td>\n",
              "      <td>30.0</td>\n",
              "      <td>30.0</td>\n",
              "      <td>1.0</td>\n",
              "      <td>166.0</td>\n",
              "      <td>...</td>\n",
              "      <td>2.0</td>\n",
              "      <td>2.0</td>\n",
              "      <td>1.0</td>\n",
              "      <td>1729.0</td>\n",
              "      <td>NaN</td>\n",
              "      <td>1729.0</td>\n",
              "      <td>1729.00</td>\n",
              "      <td>1729.0</td>\n",
              "      <td>1729.00</td>\n",
              "      <td>1729.0</td>\n",
              "    </tr>\n",
              "    <tr>\n",
              "      <th>1157</th>\n",
              "      <td>1.0</td>\n",
              "      <td>42.0</td>\n",
              "      <td>NaN</td>\n",
              "      <td>42.0</td>\n",
              "      <td>42.0</td>\n",
              "      <td>42.0</td>\n",
              "      <td>42.0</td>\n",
              "      <td>42.0</td>\n",
              "      <td>1.0</td>\n",
              "      <td>410.0</td>\n",
              "      <td>...</td>\n",
              "      <td>2.0</td>\n",
              "      <td>2.0</td>\n",
              "      <td>1.0</td>\n",
              "      <td>1081.0</td>\n",
              "      <td>NaN</td>\n",
              "      <td>1081.0</td>\n",
              "      <td>1081.00</td>\n",
              "      <td>1081.0</td>\n",
              "      <td>1081.00</td>\n",
              "      <td>1081.0</td>\n",
              "    </tr>\n",
              "    <tr>\n",
              "      <th>1173</th>\n",
              "      <td>1.0</td>\n",
              "      <td>40.0</td>\n",
              "      <td>NaN</td>\n",
              "      <td>40.0</td>\n",
              "      <td>40.0</td>\n",
              "      <td>40.0</td>\n",
              "      <td>40.0</td>\n",
              "      <td>40.0</td>\n",
              "      <td>1.0</td>\n",
              "      <td>183.0</td>\n",
              "      <td>...</td>\n",
              "      <td>101.0</td>\n",
              "      <td>101.0</td>\n",
              "      <td>1.0</td>\n",
              "      <td>623.0</td>\n",
              "      <td>NaN</td>\n",
              "      <td>623.0</td>\n",
              "      <td>623.00</td>\n",
              "      <td>623.0</td>\n",
              "      <td>623.00</td>\n",
              "      <td>623.0</td>\n",
              "    </tr>\n",
              "    <tr>\n",
              "      <th>1416</th>\n",
              "      <td>1.0</td>\n",
              "      <td>52.0</td>\n",
              "      <td>NaN</td>\n",
              "      <td>52.0</td>\n",
              "      <td>52.0</td>\n",
              "      <td>52.0</td>\n",
              "      <td>52.0</td>\n",
              "      <td>52.0</td>\n",
              "      <td>1.0</td>\n",
              "      <td>436.0</td>\n",
              "      <td>...</td>\n",
              "      <td>9.0</td>\n",
              "      <td>9.0</td>\n",
              "      <td>1.0</td>\n",
              "      <td>4945.0</td>\n",
              "      <td>NaN</td>\n",
              "      <td>4945.0</td>\n",
              "      <td>4945.00</td>\n",
              "      <td>4945.0</td>\n",
              "      <td>4945.00</td>\n",
              "      <td>4945.0</td>\n",
              "    </tr>\n",
              "    <tr>\n",
              "      <th>1678</th>\n",
              "      <td>1.0</td>\n",
              "      <td>354.0</td>\n",
              "      <td>NaN</td>\n",
              "      <td>354.0</td>\n",
              "      <td>354.0</td>\n",
              "      <td>354.0</td>\n",
              "      <td>354.0</td>\n",
              "      <td>354.0</td>\n",
              "      <td>1.0</td>\n",
              "      <td>1800.0</td>\n",
              "      <td>...</td>\n",
              "      <td>105.0</td>\n",
              "      <td>105.0</td>\n",
              "      <td>1.0</td>\n",
              "      <td>1238.0</td>\n",
              "      <td>NaN</td>\n",
              "      <td>1238.0</td>\n",
              "      <td>1238.00</td>\n",
              "      <td>1238.0</td>\n",
              "      <td>1238.00</td>\n",
              "      <td>1238.0</td>\n",
              "    </tr>\n",
              "    <tr>\n",
              "      <th>1712</th>\n",
              "      <td>1.0</td>\n",
              "      <td>50.0</td>\n",
              "      <td>NaN</td>\n",
              "      <td>50.0</td>\n",
              "      <td>50.0</td>\n",
              "      <td>50.0</td>\n",
              "      <td>50.0</td>\n",
              "      <td>50.0</td>\n",
              "      <td>1.0</td>\n",
              "      <td>434.0</td>\n",
              "      <td>...</td>\n",
              "      <td>0.0</td>\n",
              "      <td>0.0</td>\n",
              "      <td>1.0</td>\n",
              "      <td>623.0</td>\n",
              "      <td>NaN</td>\n",
              "      <td>623.0</td>\n",
              "      <td>623.00</td>\n",
              "      <td>623.0</td>\n",
              "      <td>623.00</td>\n",
              "      <td>623.0</td>\n",
              "    </tr>\n",
              "    <tr>\n",
              "      <th>3735</th>\n",
              "      <td>1.0</td>\n",
              "      <td>235.0</td>\n",
              "      <td>NaN</td>\n",
              "      <td>235.0</td>\n",
              "      <td>235.0</td>\n",
              "      <td>235.0</td>\n",
              "      <td>235.0</td>\n",
              "      <td>235.0</td>\n",
              "      <td>1.0</td>\n",
              "      <td>759.0</td>\n",
              "      <td>...</td>\n",
              "      <td>0.0</td>\n",
              "      <td>0.0</td>\n",
              "      <td>1.0</td>\n",
              "      <td>3804.0</td>\n",
              "      <td>NaN</td>\n",
              "      <td>3804.0</td>\n",
              "      <td>3804.00</td>\n",
              "      <td>3804.0</td>\n",
              "      <td>3804.00</td>\n",
              "      <td>3804.0</td>\n",
              "    </tr>\n",
              "    <tr>\n",
              "      <th>6254</th>\n",
              "      <td>1.0</td>\n",
              "      <td>70.0</td>\n",
              "      <td>NaN</td>\n",
              "      <td>70.0</td>\n",
              "      <td>70.0</td>\n",
              "      <td>70.0</td>\n",
              "      <td>70.0</td>\n",
              "      <td>70.0</td>\n",
              "      <td>1.0</td>\n",
              "      <td>257.0</td>\n",
              "      <td>...</td>\n",
              "      <td>0.0</td>\n",
              "      <td>0.0</td>\n",
              "      <td>1.0</td>\n",
              "      <td>72924.0</td>\n",
              "      <td>NaN</td>\n",
              "      <td>72924.0</td>\n",
              "      <td>72924.00</td>\n",
              "      <td>72924.0</td>\n",
              "      <td>72924.00</td>\n",
              "      <td>72924.0</td>\n",
              "    </tr>\n",
              "    <tr>\n",
              "      <th>7317</th>\n",
              "      <td>1.0</td>\n",
              "      <td>274.0</td>\n",
              "      <td>NaN</td>\n",
              "      <td>274.0</td>\n",
              "      <td>274.0</td>\n",
              "      <td>274.0</td>\n",
              "      <td>274.0</td>\n",
              "      <td>274.0</td>\n",
              "      <td>1.0</td>\n",
              "      <td>1600.0</td>\n",
              "      <td>...</td>\n",
              "      <td>20.0</td>\n",
              "      <td>20.0</td>\n",
              "      <td>1.0</td>\n",
              "      <td>919.0</td>\n",
              "      <td>NaN</td>\n",
              "      <td>919.0</td>\n",
              "      <td>919.00</td>\n",
              "      <td>919.0</td>\n",
              "      <td>919.00</td>\n",
              "      <td>919.0</td>\n",
              "    </tr>\n",
              "    <tr>\n",
              "      <th>18374</th>\n",
              "      <td>1.0</td>\n",
              "      <td>2700.0</td>\n",
              "      <td>NaN</td>\n",
              "      <td>2700.0</td>\n",
              "      <td>2700.0</td>\n",
              "      <td>2700.0</td>\n",
              "      <td>2700.0</td>\n",
              "      <td>2700.0</td>\n",
              "      <td>1.0</td>\n",
              "      <td>55700.0</td>\n",
              "      <td>...</td>\n",
              "      <td>907.0</td>\n",
              "      <td>907.0</td>\n",
              "      <td>1.0</td>\n",
              "      <td>12625.0</td>\n",
              "      <td>NaN</td>\n",
              "      <td>12625.0</td>\n",
              "      <td>12625.00</td>\n",
              "      <td>12625.0</td>\n",
              "      <td>12625.00</td>\n",
              "      <td>12625.0</td>\n",
              "    </tr>\n",
              "  </tbody>\n",
              "</table>\n",
              "<p>29 rows × 232 columns</p>\n",
              "</div>"
            ],
            "text/plain": [
              "      watch                                                              fork  \\\n",
              "      count    mean         std     min     25%     50%     75%     max count   \n",
              "class                                                                           \n",
              "0       2.0   162.0  181.019336    34.0    98.0   162.0   226.0   290.0   2.0   \n",
              "6       1.0   398.0         NaN   398.0   398.0   398.0   398.0   398.0   1.0   \n",
              "7       1.0   117.0         NaN   117.0   117.0   117.0   117.0   117.0   1.0   \n",
              "12      1.0    28.0         NaN    28.0    28.0    28.0    28.0    28.0   1.0   \n",
              "17      1.0   100.0         NaN   100.0   100.0   100.0   100.0   100.0   1.0   \n",
              "26      1.0   166.0         NaN   166.0   166.0   166.0   166.0   166.0   1.0   \n",
              "28      1.0   151.0         NaN   151.0   151.0   151.0   151.0   151.0   1.0   \n",
              "43      1.0    43.0         NaN    43.0    43.0    43.0    43.0    43.0   1.0   \n",
              "48      1.0    69.0         NaN    69.0    69.0    69.0    69.0    69.0   1.0   \n",
              "54      1.0   130.0         NaN   130.0   130.0   130.0   130.0   130.0   1.0   \n",
              "64      1.0   288.0         NaN   288.0   288.0   288.0   288.0   288.0   1.0   \n",
              "101     1.0    20.0         NaN    20.0    20.0    20.0    20.0    20.0   1.0   \n",
              "142     1.0   288.0         NaN   288.0   288.0   288.0   288.0   288.0   1.0   \n",
              "252     1.0   157.0         NaN   157.0   157.0   157.0   157.0   157.0   1.0   \n",
              "317     1.0    32.0         NaN    32.0    32.0    32.0    32.0    32.0   1.0   \n",
              "575     1.0    36.0         NaN    36.0    36.0    36.0    36.0    36.0   1.0   \n",
              "619     1.0    87.0         NaN    87.0    87.0    87.0    87.0    87.0   1.0   \n",
              "703     1.0   133.0         NaN   133.0   133.0   133.0   133.0   133.0   1.0   \n",
              "1092    1.0   125.0         NaN   125.0   125.0   125.0   125.0   125.0   1.0   \n",
              "1107    1.0    30.0         NaN    30.0    30.0    30.0    30.0    30.0   1.0   \n",
              "1157    1.0    42.0         NaN    42.0    42.0    42.0    42.0    42.0   1.0   \n",
              "1173    1.0    40.0         NaN    40.0    40.0    40.0    40.0    40.0   1.0   \n",
              "1416    1.0    52.0         NaN    52.0    52.0    52.0    52.0    52.0   1.0   \n",
              "1678    1.0   354.0         NaN   354.0   354.0   354.0   354.0   354.0   1.0   \n",
              "1712    1.0    50.0         NaN    50.0    50.0    50.0    50.0    50.0   1.0   \n",
              "3735    1.0   235.0         NaN   235.0   235.0   235.0   235.0   235.0   1.0   \n",
              "6254    1.0    70.0         NaN    70.0    70.0    70.0    70.0    70.0   1.0   \n",
              "7317    1.0   274.0         NaN   274.0   274.0   274.0   274.0   274.0   1.0   \n",
              "18374   1.0  2700.0         NaN  2700.0  2700.0  2700.0  2700.0  2700.0   1.0   \n",
              "\n",
              "                ... error_prone        code_style                       \\\n",
              "          mean  ...         75%    max      count     mean         std   \n",
              "class           ...                                                      \n",
              "0       1161.5  ...        70.5   94.0        2.0    393.5  318.905158   \n",
              "6       6800.0  ...         1.0    1.0        1.0   1324.0         NaN   \n",
              "7        473.0  ...         5.0    5.0        1.0    163.0         NaN   \n",
              "12       250.0  ...        11.0   11.0        1.0    654.0         NaN   \n",
              "17       473.0  ...         0.0    0.0        1.0    857.0         NaN   \n",
              "26       708.0  ...         0.0    0.0        1.0    614.0         NaN   \n",
              "28       870.0  ...         2.0    2.0        1.0    163.0         NaN   \n",
              "43      1400.0  ...         0.0    0.0        1.0     99.0         NaN   \n",
              "48       501.0  ...         0.0    0.0        1.0    119.0         NaN   \n",
              "54       410.0  ...         2.0    2.0        1.0    141.0         NaN   \n",
              "64      2100.0  ...         0.0    0.0        1.0   1162.0         NaN   \n",
              "101      172.0  ...         4.0    4.0        1.0    379.0         NaN   \n",
              "142     1200.0  ...        30.0   30.0        1.0   3656.0         NaN   \n",
              "252      652.0  ...         6.0    6.0        1.0    327.0         NaN   \n",
              "317      194.0  ...         0.0    0.0        1.0    402.0         NaN   \n",
              "575      353.0  ...         0.0    0.0        1.0   8322.0         NaN   \n",
              "619     1600.0  ...        16.0   16.0        1.0    384.0         NaN   \n",
              "703      770.0  ...        37.0   37.0        1.0   1372.0         NaN   \n",
              "1092     902.0  ...         7.0    7.0        1.0   1066.0         NaN   \n",
              "1107     166.0  ...         2.0    2.0        1.0   1729.0         NaN   \n",
              "1157     410.0  ...         2.0    2.0        1.0   1081.0         NaN   \n",
              "1173     183.0  ...       101.0  101.0        1.0    623.0         NaN   \n",
              "1416     436.0  ...         9.0    9.0        1.0   4945.0         NaN   \n",
              "1678    1800.0  ...       105.0  105.0        1.0   1238.0         NaN   \n",
              "1712     434.0  ...         0.0    0.0        1.0    623.0         NaN   \n",
              "3735     759.0  ...         0.0    0.0        1.0   3804.0         NaN   \n",
              "6254     257.0  ...         0.0    0.0        1.0  72924.0         NaN   \n",
              "7317    1600.0  ...        20.0   20.0        1.0    919.0         NaN   \n",
              "18374  55700.0  ...       907.0  907.0        1.0  12625.0         NaN   \n",
              "\n",
              "                                                      \n",
              "           min       25%      50%       75%      max  \n",
              "class                                                 \n",
              "0        168.0    280.75    393.5    506.25    619.0  \n",
              "6       1324.0   1324.00   1324.0   1324.00   1324.0  \n",
              "7        163.0    163.00    163.0    163.00    163.0  \n",
              "12       654.0    654.00    654.0    654.00    654.0  \n",
              "17       857.0    857.00    857.0    857.00    857.0  \n",
              "26       614.0    614.00    614.0    614.00    614.0  \n",
              "28       163.0    163.00    163.0    163.00    163.0  \n",
              "43        99.0     99.00     99.0     99.00     99.0  \n",
              "48       119.0    119.00    119.0    119.00    119.0  \n",
              "54       141.0    141.00    141.0    141.00    141.0  \n",
              "64      1162.0   1162.00   1162.0   1162.00   1162.0  \n",
              "101      379.0    379.00    379.0    379.00    379.0  \n",
              "142     3656.0   3656.00   3656.0   3656.00   3656.0  \n",
              "252      327.0    327.00    327.0    327.00    327.0  \n",
              "317      402.0    402.00    402.0    402.00    402.0  \n",
              "575     8322.0   8322.00   8322.0   8322.00   8322.0  \n",
              "619      384.0    384.00    384.0    384.00    384.0  \n",
              "703     1372.0   1372.00   1372.0   1372.00   1372.0  \n",
              "1092    1066.0   1066.00   1066.0   1066.00   1066.0  \n",
              "1107    1729.0   1729.00   1729.0   1729.00   1729.0  \n",
              "1157    1081.0   1081.00   1081.0   1081.00   1081.0  \n",
              "1173     623.0    623.00    623.0    623.00    623.0  \n",
              "1416    4945.0   4945.00   4945.0   4945.00   4945.0  \n",
              "1678    1238.0   1238.00   1238.0   1238.00   1238.0  \n",
              "1712     623.0    623.00    623.0    623.00    623.0  \n",
              "3735    3804.0   3804.00   3804.0   3804.00   3804.0  \n",
              "6254   72924.0  72924.00  72924.0  72924.00  72924.0  \n",
              "7317     919.0    919.00    919.0    919.00    919.0  \n",
              "18374  12625.0  12625.00  12625.0  12625.00  12625.0  \n",
              "\n",
              "[29 rows x 232 columns]"
            ]
          },
          "execution_count": 8,
          "metadata": {},
          "output_type": "execute_result"
        }
      ],
      "source": [
        "df_dw.groupby('class').describe()"
      ]
    },
    {
      "cell_type": "code",
      "execution_count": 9,
      "metadata": {
        "colab": {
          "base_uri": "https://localhost:8080/"
        },
        "id": "Mmj2Ll1TcRus",
        "outputId": "371de6e6-ad87-4a90-d270-ad0d4b95e1f5"
      },
      "outputs": [
        {
          "name": "stdout",
          "output_type": "stream",
          "text": [
            "<class 'pandas.core.frame.DataFrame'>\n",
            "RangeIndex: 30 entries, 0 to 29\n",
            "Data columns (total 40 columns):\n",
            " #   Column             Non-Null Count  Dtype \n",
            "---  ------             --------------  ----- \n",
            " 0   project_name       30 non-null     object\n",
            " 1   web_url            30 non-null     object\n",
            " 2   data_release       30 non-null     object\n",
            " 3   about              30 non-null     object\n",
            " 4   languages          30 non-null     object\n",
            " 5   watch              30 non-null     int64 \n",
            " 6   fork               30 non-null     int64 \n",
            " 7   star               30 non-null     int64 \n",
            " 8   brances            30 non-null     int64 \n",
            " 9   tags               30 non-null     int64 \n",
            " 10  issue              30 non-null     int64 \n",
            " 11  pull_request       30 non-null     int64 \n",
            " 12  file               30 non-null     int64 \n",
            " 13  total_lines        30 non-null     int64 \n",
            " 14  line_code          30 non-null     int64 \n",
            " 15  line_comment       30 non-null     int64 \n",
            " 16  line_blank         30 non-null     int64 \n",
            " 17  class              30 non-null     int64 \n",
            " 18  function           30 non-null     int64 \n",
            " 19  pull_request2      30 non-null     int64 \n",
            " 20  files              30 non-null     object\n",
            " 21  active_branch      30 non-null     int64 \n",
            " 22  total_issues       30 non-null     int64 \n",
            " 23  complexcity        30 non-null     int64 \n",
            " 24  style              30 non-null     int64 \n",
            " 25  performance        30 non-null     int64 \n",
            " 26  maintainability    30 non-null     int64 \n",
            " 27  security           30 non-null     int64 \n",
            " 28  issues             30 non-null     object\n",
            " 29  complexicy         30 non-null     object\n",
            " 30  duplication        30 non-null     object\n",
            " 31  branch             30 non-null     int64 \n",
            " 32  severity_minor     30 non-null     int64 \n",
            " 33  severity_medium    30 non-null     int64 \n",
            " 34  severity_critical  30 non-null     int64 \n",
            " 35  grade              30 non-null     object\n",
            " 36  security.1         30 non-null     int64 \n",
            " 37  performance.1      30 non-null     int64 \n",
            " 38  error_prone        30 non-null     int64 \n",
            " 39  code_style         30 non-null     int64 \n",
            "dtypes: int64(30), object(10)\n",
            "memory usage: 9.5+ KB\n"
          ]
        }
      ],
      "source": [
        "df_dw.info()"
      ]
    },
    {
      "cell_type": "markdown",
      "metadata": {
        "id": "yb62bzVcITsn"
      },
      "source": [
        "#### Removing unneeded column"
      ]
    },
    {
      "cell_type": "code",
      "execution_count": 12,
      "metadata": {
        "id": "rCFscRDmIQXN"
      },
      "outputs": [
        {
          "ename": "KeyError",
          "evalue": "\"['ID'] not found in axis\"",
          "output_type": "error",
          "traceback": [
            "\u001b[1;31m---------------------------------------------------------------------------\u001b[0m",
            "\u001b[1;31mKeyError\u001b[0m                                  Traceback (most recent call last)",
            "Cell \u001b[1;32mIn[12], line 1\u001b[0m\n\u001b[1;32m----> 1\u001b[0m \u001b[43mdf_dw\u001b[49m\u001b[38;5;241;43m.\u001b[39;49m\u001b[43mdrop\u001b[49m\u001b[43m(\u001b[49m\u001b[38;5;124;43m'\u001b[39;49m\u001b[38;5;124;43mID\u001b[39;49m\u001b[38;5;124;43m'\u001b[39;49m\u001b[43m,\u001b[49m\u001b[43m \u001b[49m\u001b[43maxis\u001b[49m\u001b[38;5;241;43m=\u001b[39;49m\u001b[38;5;241;43m1\u001b[39;49m\u001b[43m,\u001b[49m\u001b[43m \u001b[49m\u001b[43minplace\u001b[49m\u001b[38;5;241;43m=\u001b[39;49m\u001b[38;5;28;43;01mTrue\u001b[39;49;00m\u001b[43m)\u001b[49m\n",
            "File \u001b[1;32mc:\\Users\\user01\\AppData\\Local\\Programs\\Python\\Python311\\Lib\\site-packages\\pandas\\core\\frame.py:5347\u001b[0m, in \u001b[0;36mDataFrame.drop\u001b[1;34m(self, labels, axis, index, columns, level, inplace, errors)\u001b[0m\n\u001b[0;32m   5199\u001b[0m \u001b[38;5;28;01mdef\u001b[39;00m \u001b[38;5;21mdrop\u001b[39m(\n\u001b[0;32m   5200\u001b[0m     \u001b[38;5;28mself\u001b[39m,\n\u001b[0;32m   5201\u001b[0m     labels: IndexLabel \u001b[38;5;241m|\u001b[39m \u001b[38;5;28;01mNone\u001b[39;00m \u001b[38;5;241m=\u001b[39m \u001b[38;5;28;01mNone\u001b[39;00m,\n\u001b[1;32m   (...)\u001b[0m\n\u001b[0;32m   5208\u001b[0m     errors: IgnoreRaise \u001b[38;5;241m=\u001b[39m \u001b[38;5;124m\"\u001b[39m\u001b[38;5;124mraise\u001b[39m\u001b[38;5;124m\"\u001b[39m,\n\u001b[0;32m   5209\u001b[0m ) \u001b[38;5;241m-\u001b[39m\u001b[38;5;241m>\u001b[39m DataFrame \u001b[38;5;241m|\u001b[39m \u001b[38;5;28;01mNone\u001b[39;00m:\n\u001b[0;32m   5210\u001b[0m \u001b[38;5;250m    \u001b[39m\u001b[38;5;124;03m\"\"\"\u001b[39;00m\n\u001b[0;32m   5211\u001b[0m \u001b[38;5;124;03m    Drop specified labels from rows or columns.\u001b[39;00m\n\u001b[0;32m   5212\u001b[0m \n\u001b[1;32m   (...)\u001b[0m\n\u001b[0;32m   5345\u001b[0m \u001b[38;5;124;03m            weight  1.0     0.8\u001b[39;00m\n\u001b[0;32m   5346\u001b[0m \u001b[38;5;124;03m    \"\"\"\u001b[39;00m\n\u001b[1;32m-> 5347\u001b[0m     \u001b[38;5;28;01mreturn\u001b[39;00m \u001b[38;5;28;43msuper\u001b[39;49m\u001b[43m(\u001b[49m\u001b[43m)\u001b[49m\u001b[38;5;241;43m.\u001b[39;49m\u001b[43mdrop\u001b[49m\u001b[43m(\u001b[49m\n\u001b[0;32m   5348\u001b[0m \u001b[43m        \u001b[49m\u001b[43mlabels\u001b[49m\u001b[38;5;241;43m=\u001b[39;49m\u001b[43mlabels\u001b[49m\u001b[43m,\u001b[49m\n\u001b[0;32m   5349\u001b[0m \u001b[43m        \u001b[49m\u001b[43maxis\u001b[49m\u001b[38;5;241;43m=\u001b[39;49m\u001b[43maxis\u001b[49m\u001b[43m,\u001b[49m\n\u001b[0;32m   5350\u001b[0m \u001b[43m        \u001b[49m\u001b[43mindex\u001b[49m\u001b[38;5;241;43m=\u001b[39;49m\u001b[43mindex\u001b[49m\u001b[43m,\u001b[49m\n\u001b[0;32m   5351\u001b[0m \u001b[43m        \u001b[49m\u001b[43mcolumns\u001b[49m\u001b[38;5;241;43m=\u001b[39;49m\u001b[43mcolumns\u001b[49m\u001b[43m,\u001b[49m\n\u001b[0;32m   5352\u001b[0m \u001b[43m        \u001b[49m\u001b[43mlevel\u001b[49m\u001b[38;5;241;43m=\u001b[39;49m\u001b[43mlevel\u001b[49m\u001b[43m,\u001b[49m\n\u001b[0;32m   5353\u001b[0m \u001b[43m        \u001b[49m\u001b[43minplace\u001b[49m\u001b[38;5;241;43m=\u001b[39;49m\u001b[43minplace\u001b[49m\u001b[43m,\u001b[49m\n\u001b[0;32m   5354\u001b[0m \u001b[43m        \u001b[49m\u001b[43merrors\u001b[49m\u001b[38;5;241;43m=\u001b[39;49m\u001b[43merrors\u001b[49m\u001b[43m,\u001b[49m\n\u001b[0;32m   5355\u001b[0m \u001b[43m    \u001b[49m\u001b[43m)\u001b[49m\n",
            "File \u001b[1;32mc:\\Users\\user01\\AppData\\Local\\Programs\\Python\\Python311\\Lib\\site-packages\\pandas\\core\\generic.py:4711\u001b[0m, in \u001b[0;36mNDFrame.drop\u001b[1;34m(self, labels, axis, index, columns, level, inplace, errors)\u001b[0m\n\u001b[0;32m   4709\u001b[0m \u001b[38;5;28;01mfor\u001b[39;00m axis, labels \u001b[38;5;129;01min\u001b[39;00m axes\u001b[38;5;241m.\u001b[39mitems():\n\u001b[0;32m   4710\u001b[0m     \u001b[38;5;28;01mif\u001b[39;00m labels \u001b[38;5;129;01mis\u001b[39;00m \u001b[38;5;129;01mnot\u001b[39;00m \u001b[38;5;28;01mNone\u001b[39;00m:\n\u001b[1;32m-> 4711\u001b[0m         obj \u001b[38;5;241m=\u001b[39m \u001b[43mobj\u001b[49m\u001b[38;5;241;43m.\u001b[39;49m\u001b[43m_drop_axis\u001b[49m\u001b[43m(\u001b[49m\u001b[43mlabels\u001b[49m\u001b[43m,\u001b[49m\u001b[43m \u001b[49m\u001b[43maxis\u001b[49m\u001b[43m,\u001b[49m\u001b[43m \u001b[49m\u001b[43mlevel\u001b[49m\u001b[38;5;241;43m=\u001b[39;49m\u001b[43mlevel\u001b[49m\u001b[43m,\u001b[49m\u001b[43m \u001b[49m\u001b[43merrors\u001b[49m\u001b[38;5;241;43m=\u001b[39;49m\u001b[43merrors\u001b[49m\u001b[43m)\u001b[49m\n\u001b[0;32m   4713\u001b[0m \u001b[38;5;28;01mif\u001b[39;00m inplace:\n\u001b[0;32m   4714\u001b[0m     \u001b[38;5;28mself\u001b[39m\u001b[38;5;241m.\u001b[39m_update_inplace(obj)\n",
            "File \u001b[1;32mc:\\Users\\user01\\AppData\\Local\\Programs\\Python\\Python311\\Lib\\site-packages\\pandas\\core\\generic.py:4753\u001b[0m, in \u001b[0;36mNDFrame._drop_axis\u001b[1;34m(self, labels, axis, level, errors, only_slice)\u001b[0m\n\u001b[0;32m   4751\u001b[0m         new_axis \u001b[38;5;241m=\u001b[39m axis\u001b[38;5;241m.\u001b[39mdrop(labels, level\u001b[38;5;241m=\u001b[39mlevel, errors\u001b[38;5;241m=\u001b[39merrors)\n\u001b[0;32m   4752\u001b[0m     \u001b[38;5;28;01melse\u001b[39;00m:\n\u001b[1;32m-> 4753\u001b[0m         new_axis \u001b[38;5;241m=\u001b[39m \u001b[43maxis\u001b[49m\u001b[38;5;241;43m.\u001b[39;49m\u001b[43mdrop\u001b[49m\u001b[43m(\u001b[49m\u001b[43mlabels\u001b[49m\u001b[43m,\u001b[49m\u001b[43m \u001b[49m\u001b[43merrors\u001b[49m\u001b[38;5;241;43m=\u001b[39;49m\u001b[43merrors\u001b[49m\u001b[43m)\u001b[49m\n\u001b[0;32m   4754\u001b[0m     indexer \u001b[38;5;241m=\u001b[39m axis\u001b[38;5;241m.\u001b[39mget_indexer(new_axis)\n\u001b[0;32m   4756\u001b[0m \u001b[38;5;66;03m# Case for non-unique axis\u001b[39;00m\n\u001b[0;32m   4757\u001b[0m \u001b[38;5;28;01melse\u001b[39;00m:\n",
            "File \u001b[1;32mc:\\Users\\user01\\AppData\\Local\\Programs\\Python\\Python311\\Lib\\site-packages\\pandas\\core\\indexes\\base.py:6992\u001b[0m, in \u001b[0;36mIndex.drop\u001b[1;34m(self, labels, errors)\u001b[0m\n\u001b[0;32m   6990\u001b[0m \u001b[38;5;28;01mif\u001b[39;00m mask\u001b[38;5;241m.\u001b[39many():\n\u001b[0;32m   6991\u001b[0m     \u001b[38;5;28;01mif\u001b[39;00m errors \u001b[38;5;241m!=\u001b[39m \u001b[38;5;124m\"\u001b[39m\u001b[38;5;124mignore\u001b[39m\u001b[38;5;124m\"\u001b[39m:\n\u001b[1;32m-> 6992\u001b[0m         \u001b[38;5;28;01mraise\u001b[39;00m \u001b[38;5;167;01mKeyError\u001b[39;00m(\u001b[38;5;124mf\u001b[39m\u001b[38;5;124m\"\u001b[39m\u001b[38;5;132;01m{\u001b[39;00mlabels[mask]\u001b[38;5;241m.\u001b[39mtolist()\u001b[38;5;132;01m}\u001b[39;00m\u001b[38;5;124m not found in axis\u001b[39m\u001b[38;5;124m\"\u001b[39m)\n\u001b[0;32m   6993\u001b[0m     indexer \u001b[38;5;241m=\u001b[39m indexer[\u001b[38;5;241m~\u001b[39mmask]\n\u001b[0;32m   6994\u001b[0m \u001b[38;5;28;01mreturn\u001b[39;00m \u001b[38;5;28mself\u001b[39m\u001b[38;5;241m.\u001b[39mdelete(indexer)\n",
            "\u001b[1;31mKeyError\u001b[0m: \"['ID'] not found in axis\""
          ]
        }
      ],
      "source": [
        "#df_dw.drop('ID', axis=1, inplace=True)"
      ]
    },
    {
      "cell_type": "code",
      "execution_count": null,
      "metadata": {
        "colab": {
          "base_uri": "https://localhost:8080/",
          "height": 412
        },
        "id": "ciopO0y1dKRy",
        "outputId": "637dff9c-49fb-44e3-a6bf-ed435b6b19c1"
      },
      "outputs": [
        {
          "data": {
            "text/html": [
              "\n",
              "  <div id=\"df-356e3817-718e-449a-ab74-a5fd67a0f184\" class=\"colab-df-container\">\n",
              "    <div>\n",
              "<style scoped>\n",
              "    .dataframe tbody tr th:only-of-type {\n",
              "        vertical-align: middle;\n",
              "    }\n",
              "\n",
              "    .dataframe tbody tr th {\n",
              "        vertical-align: top;\n",
              "    }\n",
              "\n",
              "    .dataframe thead th {\n",
              "        text-align: right;\n",
              "    }\n",
              "</style>\n",
              "<table border=\"1\" class=\"dataframe\">\n",
              "  <thead>\n",
              "    <tr style=\"text-align: right;\">\n",
              "      <th></th>\n",
              "      <th>air_time1</th>\n",
              "      <th>disp_index1</th>\n",
              "      <th>gmrt_in_air1</th>\n",
              "      <th>gmrt_on_paper1</th>\n",
              "      <th>max_x_extension1</th>\n",
              "      <th>max_y_extension1</th>\n",
              "      <th>mean_acc_in_air1</th>\n",
              "      <th>mean_acc_on_paper1</th>\n",
              "      <th>mean_gmrt1</th>\n",
              "      <th>mean_jerk_in_air1</th>\n",
              "      <th>...</th>\n",
              "      <th>mean_jerk_in_air25</th>\n",
              "      <th>mean_jerk_on_paper25</th>\n",
              "      <th>mean_speed_in_air25</th>\n",
              "      <th>mean_speed_on_paper25</th>\n",
              "      <th>num_of_pendown25</th>\n",
              "      <th>paper_time25</th>\n",
              "      <th>pressure_mean25</th>\n",
              "      <th>pressure_var25</th>\n",
              "      <th>total_time25</th>\n",
              "      <th>class</th>\n",
              "    </tr>\n",
              "  </thead>\n",
              "  <tbody>\n",
              "    <tr>\n",
              "      <th>0</th>\n",
              "      <td>5160</td>\n",
              "      <td>0.000013</td>\n",
              "      <td>120.804174</td>\n",
              "      <td>86.853334</td>\n",
              "      <td>957</td>\n",
              "      <td>6601</td>\n",
              "      <td>0.361800</td>\n",
              "      <td>0.217459</td>\n",
              "      <td>103.828754</td>\n",
              "      <td>0.051836</td>\n",
              "      <td>...</td>\n",
              "      <td>0.141434</td>\n",
              "      <td>0.024471</td>\n",
              "      <td>5.596487</td>\n",
              "      <td>3.184589</td>\n",
              "      <td>71</td>\n",
              "      <td>40120</td>\n",
              "      <td>1749.278166</td>\n",
              "      <td>296102.7676</td>\n",
              "      <td>144605</td>\n",
              "      <td>P</td>\n",
              "    </tr>\n",
              "    <tr>\n",
              "      <th>1</th>\n",
              "      <td>51980</td>\n",
              "      <td>0.000016</td>\n",
              "      <td>115.318238</td>\n",
              "      <td>83.448681</td>\n",
              "      <td>1694</td>\n",
              "      <td>6998</td>\n",
              "      <td>0.272513</td>\n",
              "      <td>0.144880</td>\n",
              "      <td>99.383459</td>\n",
              "      <td>0.039827</td>\n",
              "      <td>...</td>\n",
              "      <td>0.049663</td>\n",
              "      <td>0.018368</td>\n",
              "      <td>1.665973</td>\n",
              "      <td>0.950249</td>\n",
              "      <td>129</td>\n",
              "      <td>126700</td>\n",
              "      <td>1504.768272</td>\n",
              "      <td>278744.2850</td>\n",
              "      <td>298640</td>\n",
              "      <td>P</td>\n",
              "    </tr>\n",
              "    <tr>\n",
              "      <th>2</th>\n",
              "      <td>2600</td>\n",
              "      <td>0.000010</td>\n",
              "      <td>229.933997</td>\n",
              "      <td>172.761858</td>\n",
              "      <td>2333</td>\n",
              "      <td>5802</td>\n",
              "      <td>0.387020</td>\n",
              "      <td>0.181342</td>\n",
              "      <td>201.347928</td>\n",
              "      <td>0.064220</td>\n",
              "      <td>...</td>\n",
              "      <td>0.178194</td>\n",
              "      <td>0.017174</td>\n",
              "      <td>4.000781</td>\n",
              "      <td>2.392521</td>\n",
              "      <td>74</td>\n",
              "      <td>45480</td>\n",
              "      <td>1431.443492</td>\n",
              "      <td>144411.7055</td>\n",
              "      <td>79025</td>\n",
              "      <td>P</td>\n",
              "    </tr>\n",
              "    <tr>\n",
              "      <th>3</th>\n",
              "      <td>2130</td>\n",
              "      <td>0.000010</td>\n",
              "      <td>369.403342</td>\n",
              "      <td>183.193104</td>\n",
              "      <td>1756</td>\n",
              "      <td>8159</td>\n",
              "      <td>0.556879</td>\n",
              "      <td>0.164502</td>\n",
              "      <td>276.298223</td>\n",
              "      <td>0.090408</td>\n",
              "      <td>...</td>\n",
              "      <td>0.113905</td>\n",
              "      <td>0.019860</td>\n",
              "      <td>4.206746</td>\n",
              "      <td>1.613522</td>\n",
              "      <td>123</td>\n",
              "      <td>67945</td>\n",
              "      <td>1465.843329</td>\n",
              "      <td>230184.7154</td>\n",
              "      <td>181220</td>\n",
              "      <td>P</td>\n",
              "    </tr>\n",
              "    <tr>\n",
              "      <th>4</th>\n",
              "      <td>2310</td>\n",
              "      <td>0.000007</td>\n",
              "      <td>257.997131</td>\n",
              "      <td>111.275889</td>\n",
              "      <td>987</td>\n",
              "      <td>4732</td>\n",
              "      <td>0.266077</td>\n",
              "      <td>0.145104</td>\n",
              "      <td>184.636510</td>\n",
              "      <td>0.037528</td>\n",
              "      <td>...</td>\n",
              "      <td>0.121782</td>\n",
              "      <td>0.020872</td>\n",
              "      <td>3.319036</td>\n",
              "      <td>1.680629</td>\n",
              "      <td>92</td>\n",
              "      <td>37285</td>\n",
              "      <td>1841.702561</td>\n",
              "      <td>158290.0255</td>\n",
              "      <td>72575</td>\n",
              "      <td>P</td>\n",
              "    </tr>\n",
              "    <tr>\n",
              "      <th>5</th>\n",
              "      <td>1920</td>\n",
              "      <td>0.000011</td>\n",
              "      <td>199.764957</td>\n",
              "      <td>109.902254</td>\n",
              "      <td>1548</td>\n",
              "      <td>6260</td>\n",
              "      <td>0.212523</td>\n",
              "      <td>0.143013</td>\n",
              "      <td>154.833606</td>\n",
              "      <td>0.028369</td>\n",
              "      <td>...</td>\n",
              "      <td>0.131135</td>\n",
              "      <td>0.018907</td>\n",
              "      <td>3.643543</td>\n",
              "      <td>1.667827</td>\n",
              "      <td>76</td>\n",
              "      <td>43790</td>\n",
              "      <td>1081.054579</td>\n",
              "      <td>152045.4446</td>\n",
              "      <td>74605</td>\n",
              "      <td>P</td>\n",
              "    </tr>\n",
              "    <tr>\n",
              "      <th>6</th>\n",
              "      <td>6415</td>\n",
              "      <td>0.000012</td>\n",
              "      <td>276.514601</td>\n",
              "      <td>279.725410</td>\n",
              "      <td>1837</td>\n",
              "      <td>13414</td>\n",
              "      <td>0.678487</td>\n",
              "      <td>0.193239</td>\n",
              "      <td>278.120005</td>\n",
              "      <td>0.121922</td>\n",
              "      <td>...</td>\n",
              "      <td>0.139827</td>\n",
              "      <td>0.021473</td>\n",
              "      <td>4.408127</td>\n",
              "      <td>3.461721</td>\n",
              "      <td>131</td>\n",
              "      <td>42515</td>\n",
              "      <td>1927.908032</td>\n",
              "      <td>110278.7889</td>\n",
              "      <td>187490</td>\n",
              "      <td>P</td>\n",
              "    </tr>\n",
              "    <tr>\n",
              "      <th>7</th>\n",
              "      <td>1510</td>\n",
              "      <td>0.000007</td>\n",
              "      <td>284.015654</td>\n",
              "      <td>154.783882</td>\n",
              "      <td>2883</td>\n",
              "      <td>4663</td>\n",
              "      <td>0.668661</td>\n",
              "      <td>0.168026</td>\n",
              "      <td>219.399768</td>\n",
              "      <td>0.123317</td>\n",
              "      <td>...</td>\n",
              "      <td>0.100256</td>\n",
              "      <td>0.024975</td>\n",
              "      <td>4.086628</td>\n",
              "      <td>3.047974</td>\n",
              "      <td>57</td>\n",
              "      <td>27660</td>\n",
              "      <td>1783.093999</td>\n",
              "      <td>183403.1459</td>\n",
              "      <td>40345</td>\n",
              "      <td>P</td>\n",
              "    </tr>\n",
              "    <tr>\n",
              "      <th>8</th>\n",
              "      <td>4860</td>\n",
              "      <td>0.000013</td>\n",
              "      <td>236.876312</td>\n",
              "      <td>308.575985</td>\n",
              "      <td>3171</td>\n",
              "      <td>7348</td>\n",
              "      <td>0.277021</td>\n",
              "      <td>0.214148</td>\n",
              "      <td>272.726149</td>\n",
              "      <td>0.040834</td>\n",
              "      <td>...</td>\n",
              "      <td>0.043534</td>\n",
              "      <td>0.021311</td>\n",
              "      <td>3.926618</td>\n",
              "      <td>3.026629</td>\n",
              "      <td>102</td>\n",
              "      <td>64740</td>\n",
              "      <td>1253.154541</td>\n",
              "      <td>193816.2765</td>\n",
              "      <td>108925</td>\n",
              "      <td>P</td>\n",
              "    </tr>\n",
              "    <tr>\n",
              "      <th>9</th>\n",
              "      <td>6265</td>\n",
              "      <td>0.000013</td>\n",
              "      <td>381.928872</td>\n",
              "      <td>354.110090</td>\n",
              "      <td>5568</td>\n",
              "      <td>12313</td>\n",
              "      <td>1.279171</td>\n",
              "      <td>0.193084</td>\n",
              "      <td>368.019481</td>\n",
              "      <td>0.234314</td>\n",
              "      <td>...</td>\n",
              "      <td>0.225087</td>\n",
              "      <td>0.019499</td>\n",
              "      <td>6.371888</td>\n",
              "      <td>3.659526</td>\n",
              "      <td>76</td>\n",
              "      <td>65600</td>\n",
              "      <td>1696.218826</td>\n",
              "      <td>169562.1039</td>\n",
              "      <td>166635</td>\n",
              "      <td>P</td>\n",
              "    </tr>\n",
              "  </tbody>\n",
              "</table>\n",
              "<p>10 rows × 451 columns</p>\n",
              "</div>\n",
              "    <div class=\"colab-df-buttons\">\n",
              "\n",
              "  <div class=\"colab-df-container\">\n",
              "    <button class=\"colab-df-convert\" onclick=\"convertToInteractive('df-356e3817-718e-449a-ab74-a5fd67a0f184')\"\n",
              "            title=\"Convert this dataframe to an interactive table.\"\n",
              "            style=\"display:none;\">\n",
              "\n",
              "  <svg xmlns=\"http://www.w3.org/2000/svg\" height=\"24px\" viewBox=\"0 -960 960 960\">\n",
              "    <path d=\"M120-120v-720h720v720H120Zm60-500h600v-160H180v160Zm220 220h160v-160H400v160Zm0 220h160v-160H400v160ZM180-400h160v-160H180v160Zm440 0h160v-160H620v160ZM180-180h160v-160H180v160Zm440 0h160v-160H620v160Z\"/>\n",
              "  </svg>\n",
              "    </button>\n",
              "\n",
              "  <style>\n",
              "    .colab-df-container {\n",
              "      display:flex;\n",
              "      gap: 12px;\n",
              "    }\n",
              "\n",
              "    .colab-df-convert {\n",
              "      background-color: #E8F0FE;\n",
              "      border: none;\n",
              "      border-radius: 50%;\n",
              "      cursor: pointer;\n",
              "      display: none;\n",
              "      fill: #1967D2;\n",
              "      height: 32px;\n",
              "      padding: 0 0 0 0;\n",
              "      width: 32px;\n",
              "    }\n",
              "\n",
              "    .colab-df-convert:hover {\n",
              "      background-color: #E2EBFA;\n",
              "      box-shadow: 0px 1px 2px rgba(60, 64, 67, 0.3), 0px 1px 3px 1px rgba(60, 64, 67, 0.15);\n",
              "      fill: #174EA6;\n",
              "    }\n",
              "\n",
              "    .colab-df-buttons div {\n",
              "      margin-bottom: 4px;\n",
              "    }\n",
              "\n",
              "    [theme=dark] .colab-df-convert {\n",
              "      background-color: #3B4455;\n",
              "      fill: #D2E3FC;\n",
              "    }\n",
              "\n",
              "    [theme=dark] .colab-df-convert:hover {\n",
              "      background-color: #434B5C;\n",
              "      box-shadow: 0px 1px 3px 1px rgba(0, 0, 0, 0.15);\n",
              "      filter: drop-shadow(0px 1px 2px rgba(0, 0, 0, 0.3));\n",
              "      fill: #FFFFFF;\n",
              "    }\n",
              "  </style>\n",
              "\n",
              "    <script>\n",
              "      const buttonEl =\n",
              "        document.querySelector('#df-356e3817-718e-449a-ab74-a5fd67a0f184 button.colab-df-convert');\n",
              "      buttonEl.style.display =\n",
              "        google.colab.kernel.accessAllowed ? 'block' : 'none';\n",
              "\n",
              "      async function convertToInteractive(key) {\n",
              "        const element = document.querySelector('#df-356e3817-718e-449a-ab74-a5fd67a0f184');\n",
              "        const dataTable =\n",
              "          await google.colab.kernel.invokeFunction('convertToInteractive',\n",
              "                                                    [key], {});\n",
              "        if (!dataTable) return;\n",
              "\n",
              "        const docLinkHtml = 'Like what you see? Visit the ' +\n",
              "          '<a target=\"_blank\" href=https://colab.research.google.com/notebooks/data_table.ipynb>data table notebook</a>'\n",
              "          + ' to learn more about interactive tables.';\n",
              "        element.innerHTML = '';\n",
              "        dataTable['output_type'] = 'display_data';\n",
              "        await google.colab.output.renderOutput(dataTable, element);\n",
              "        const docLink = document.createElement('div');\n",
              "        docLink.innerHTML = docLinkHtml;\n",
              "        element.appendChild(docLink);\n",
              "      }\n",
              "    </script>\n",
              "  </div>\n",
              "\n",
              "\n",
              "<div id=\"df-2613e624-fa65-493a-aa48-928fe10a4ead\">\n",
              "  <button class=\"colab-df-quickchart\" onclick=\"quickchart('df-2613e624-fa65-493a-aa48-928fe10a4ead')\"\n",
              "            title=\"Suggest charts\"\n",
              "            style=\"display:none;\">\n",
              "\n",
              "<svg xmlns=\"http://www.w3.org/2000/svg\" height=\"24px\"viewBox=\"0 0 24 24\"\n",
              "     width=\"24px\">\n",
              "    <g>\n",
              "        <path d=\"M19 3H5c-1.1 0-2 .9-2 2v14c0 1.1.9 2 2 2h14c1.1 0 2-.9 2-2V5c0-1.1-.9-2-2-2zM9 17H7v-7h2v7zm4 0h-2V7h2v10zm4 0h-2v-4h2v4z\"/>\n",
              "    </g>\n",
              "</svg>\n",
              "  </button>\n",
              "\n",
              "<style>\n",
              "  .colab-df-quickchart {\n",
              "      --bg-color: #E8F0FE;\n",
              "      --fill-color: #1967D2;\n",
              "      --hover-bg-color: #E2EBFA;\n",
              "      --hover-fill-color: #174EA6;\n",
              "      --disabled-fill-color: #AAA;\n",
              "      --disabled-bg-color: #DDD;\n",
              "  }\n",
              "\n",
              "  [theme=dark] .colab-df-quickchart {\n",
              "      --bg-color: #3B4455;\n",
              "      --fill-color: #D2E3FC;\n",
              "      --hover-bg-color: #434B5C;\n",
              "      --hover-fill-color: #FFFFFF;\n",
              "      --disabled-bg-color: #3B4455;\n",
              "      --disabled-fill-color: #666;\n",
              "  }\n",
              "\n",
              "  .colab-df-quickchart {\n",
              "    background-color: var(--bg-color);\n",
              "    border: none;\n",
              "    border-radius: 50%;\n",
              "    cursor: pointer;\n",
              "    display: none;\n",
              "    fill: var(--fill-color);\n",
              "    height: 32px;\n",
              "    padding: 0;\n",
              "    width: 32px;\n",
              "  }\n",
              "\n",
              "  .colab-df-quickchart:hover {\n",
              "    background-color: var(--hover-bg-color);\n",
              "    box-shadow: 0 1px 2px rgba(60, 64, 67, 0.3), 0 1px 3px 1px rgba(60, 64, 67, 0.15);\n",
              "    fill: var(--button-hover-fill-color);\n",
              "  }\n",
              "\n",
              "  .colab-df-quickchart-complete:disabled,\n",
              "  .colab-df-quickchart-complete:disabled:hover {\n",
              "    background-color: var(--disabled-bg-color);\n",
              "    fill: var(--disabled-fill-color);\n",
              "    box-shadow: none;\n",
              "  }\n",
              "\n",
              "  .colab-df-spinner {\n",
              "    border: 2px solid var(--fill-color);\n",
              "    border-color: transparent;\n",
              "    border-bottom-color: var(--fill-color);\n",
              "    animation:\n",
              "      spin 1s steps(1) infinite;\n",
              "  }\n",
              "\n",
              "  @keyframes spin {\n",
              "    0% {\n",
              "      border-color: transparent;\n",
              "      border-bottom-color: var(--fill-color);\n",
              "      border-left-color: var(--fill-color);\n",
              "    }\n",
              "    20% {\n",
              "      border-color: transparent;\n",
              "      border-left-color: var(--fill-color);\n",
              "      border-top-color: var(--fill-color);\n",
              "    }\n",
              "    30% {\n",
              "      border-color: transparent;\n",
              "      border-left-color: var(--fill-color);\n",
              "      border-top-color: var(--fill-color);\n",
              "      border-right-color: var(--fill-color);\n",
              "    }\n",
              "    40% {\n",
              "      border-color: transparent;\n",
              "      border-right-color: var(--fill-color);\n",
              "      border-top-color: var(--fill-color);\n",
              "    }\n",
              "    60% {\n",
              "      border-color: transparent;\n",
              "      border-right-color: var(--fill-color);\n",
              "    }\n",
              "    80% {\n",
              "      border-color: transparent;\n",
              "      border-right-color: var(--fill-color);\n",
              "      border-bottom-color: var(--fill-color);\n",
              "    }\n",
              "    90% {\n",
              "      border-color: transparent;\n",
              "      border-bottom-color: var(--fill-color);\n",
              "    }\n",
              "  }\n",
              "</style>\n",
              "\n",
              "  <script>\n",
              "    async function quickchart(key) {\n",
              "      const quickchartButtonEl =\n",
              "        document.querySelector('#' + key + ' button');\n",
              "      quickchartButtonEl.disabled = true;  // To prevent multiple clicks.\n",
              "      quickchartButtonEl.classList.add('colab-df-spinner');\n",
              "      try {\n",
              "        const charts = await google.colab.kernel.invokeFunction(\n",
              "            'suggestCharts', [key], {});\n",
              "      } catch (error) {\n",
              "        console.error('Error during call to suggestCharts:', error);\n",
              "      }\n",
              "      quickchartButtonEl.classList.remove('colab-df-spinner');\n",
              "      quickchartButtonEl.classList.add('colab-df-quickchart-complete');\n",
              "    }\n",
              "    (() => {\n",
              "      let quickchartButtonEl =\n",
              "        document.querySelector('#df-2613e624-fa65-493a-aa48-928fe10a4ead button');\n",
              "      quickchartButtonEl.style.display =\n",
              "        google.colab.kernel.accessAllowed ? 'block' : 'none';\n",
              "    })();\n",
              "  </script>\n",
              "</div>\n",
              "    </div>\n",
              "  </div>\n"
            ],
            "text/plain": [
              "   air_time1  disp_index1  gmrt_in_air1  gmrt_on_paper1  max_x_extension1  \\\n",
              "0       5160     0.000013    120.804174       86.853334               957   \n",
              "1      51980     0.000016    115.318238       83.448681              1694   \n",
              "2       2600     0.000010    229.933997      172.761858              2333   \n",
              "3       2130     0.000010    369.403342      183.193104              1756   \n",
              "4       2310     0.000007    257.997131      111.275889               987   \n",
              "5       1920     0.000011    199.764957      109.902254              1548   \n",
              "6       6415     0.000012    276.514601      279.725410              1837   \n",
              "7       1510     0.000007    284.015654      154.783882              2883   \n",
              "8       4860     0.000013    236.876312      308.575985              3171   \n",
              "9       6265     0.000013    381.928872      354.110090              5568   \n",
              "\n",
              "   max_y_extension1  mean_acc_in_air1  mean_acc_on_paper1  mean_gmrt1  \\\n",
              "0              6601          0.361800            0.217459  103.828754   \n",
              "1              6998          0.272513            0.144880   99.383459   \n",
              "2              5802          0.387020            0.181342  201.347928   \n",
              "3              8159          0.556879            0.164502  276.298223   \n",
              "4              4732          0.266077            0.145104  184.636510   \n",
              "5              6260          0.212523            0.143013  154.833606   \n",
              "6             13414          0.678487            0.193239  278.120005   \n",
              "7              4663          0.668661            0.168026  219.399768   \n",
              "8              7348          0.277021            0.214148  272.726149   \n",
              "9             12313          1.279171            0.193084  368.019481   \n",
              "\n",
              "   mean_jerk_in_air1  ...  mean_jerk_in_air25  mean_jerk_on_paper25  \\\n",
              "0           0.051836  ...            0.141434              0.024471   \n",
              "1           0.039827  ...            0.049663              0.018368   \n",
              "2           0.064220  ...            0.178194              0.017174   \n",
              "3           0.090408  ...            0.113905              0.019860   \n",
              "4           0.037528  ...            0.121782              0.020872   \n",
              "5           0.028369  ...            0.131135              0.018907   \n",
              "6           0.121922  ...            0.139827              0.021473   \n",
              "7           0.123317  ...            0.100256              0.024975   \n",
              "8           0.040834  ...            0.043534              0.021311   \n",
              "9           0.234314  ...            0.225087              0.019499   \n",
              "\n",
              "   mean_speed_in_air25  mean_speed_on_paper25  num_of_pendown25  paper_time25  \\\n",
              "0             5.596487               3.184589                71         40120   \n",
              "1             1.665973               0.950249               129        126700   \n",
              "2             4.000781               2.392521                74         45480   \n",
              "3             4.206746               1.613522               123         67945   \n",
              "4             3.319036               1.680629                92         37285   \n",
              "5             3.643543               1.667827                76         43790   \n",
              "6             4.408127               3.461721               131         42515   \n",
              "7             4.086628               3.047974                57         27660   \n",
              "8             3.926618               3.026629               102         64740   \n",
              "9             6.371888               3.659526                76         65600   \n",
              "\n",
              "   pressure_mean25  pressure_var25  total_time25  class  \n",
              "0      1749.278166     296102.7676        144605      P  \n",
              "1      1504.768272     278744.2850        298640      P  \n",
              "2      1431.443492     144411.7055         79025      P  \n",
              "3      1465.843329     230184.7154        181220      P  \n",
              "4      1841.702561     158290.0255         72575      P  \n",
              "5      1081.054579     152045.4446         74605      P  \n",
              "6      1927.908032     110278.7889        187490      P  \n",
              "7      1783.093999     183403.1459         40345      P  \n",
              "8      1253.154541     193816.2765        108925      P  \n",
              "9      1696.218826     169562.1039        166635      P  \n",
              "\n",
              "[10 rows x 451 columns]"
            ]
          },
          "execution_count": 8,
          "metadata": {},
          "output_type": "execute_result"
        }
      ],
      "source": [
        "df_dw.head(10)"
      ]
    },
    {
      "cell_type": "markdown",
      "metadata": {
        "id": "Hi67UtFXMWRv"
      },
      "source": [
        "#### Identify Columns That Null Value and Remove Null Value"
      ]
    },
    {
      "cell_type": "code",
      "execution_count": null,
      "metadata": {
        "colab": {
          "base_uri": "https://localhost:8080/"
        },
        "id": "ZGlf1I3GMZbD",
        "outputId": "387a2d96-67d2-4774-dd65-e71d2f119cb6"
      },
      "outputs": [
        {
          "name": "stdout",
          "output_type": "stream",
          "text": [
            "Columns with null values:\n",
            "Series([], dtype: int64)\n"
          ]
        }
      ],
      "source": [
        "# Check for null values in the entire dataset\n",
        "null_counts = df_dw.isnull().sum()\n",
        "\n",
        "# Display columns with null values and their counts\n",
        "print(\"Columns with null values:\")\n",
        "print(null_counts[null_counts > 0])\n",
        "\n",
        "if len(null_counts[null_counts > 0]) != 0 :\n",
        "  # Remove rows with any null values\n",
        "  df_dw = df_dw.dropna()"
      ]
    },
    {
      "cell_type": "markdown",
      "metadata": {
        "id": "OIzlf5DXEwBW"
      },
      "source": [
        " #### Identify Columns That Contain a Single Value"
      ]
    },
    {
      "cell_type": "code",
      "execution_count": null,
      "metadata": {
        "colab": {
          "base_uri": "https://localhost:8080/"
        },
        "id": "h5yAuzum5Iu7",
        "outputId": "038a04ac-550e-46b1-ab13-0485ecb892af"
      },
      "outputs": [
        {
          "data": {
            "text/plain": [
              "air_time1           165\n",
              "disp_index1         131\n",
              "gmrt_in_air1        174\n",
              "gmrt_on_paper1      174\n",
              "max_x_extension1    167\n",
              "                   ... \n",
              "paper_time25        159\n",
              "pressure_mean25     161\n",
              "pressure_var25      161\n",
              "total_time25        161\n",
              "class                 2\n",
              "Length: 451, dtype: int64"
            ]
          },
          "execution_count": 10,
          "metadata": {},
          "output_type": "execute_result"
        }
      ],
      "source": [
        "#checking for quasi constants\n",
        "df_dw.nunique()"
      ]
    },
    {
      "cell_type": "markdown",
      "metadata": {
        "id": "UAz34i3PGN8G"
      },
      "source": [
        " #### Delete Columns That Contain a Single Value"
      ]
    },
    {
      "cell_type": "code",
      "execution_count": null,
      "metadata": {
        "colab": {
          "base_uri": "https://localhost:8080/"
        },
        "id": "N-GNAsB6GPaG",
        "outputId": "a2cca8bc-7ab7-4c8b-af69-64e01651f4b3"
      },
      "outputs": [
        {
          "name": "stdout",
          "output_type": "stream",
          "text": [
            "(174, 451)\n",
            "Index([], dtype='object')\n",
            "(174, 451)\n"
          ]
        }
      ],
      "source": [
        "print(df_dw.shape)\n",
        "# get number of unique values for each column\n",
        "counts = df_dw.nunique()\n",
        "# record columns to delete\n",
        "to_del = [i for i,v in enumerate(counts) if v == 1]\n",
        "print(df_dw.columns[to_del])\n",
        "# drop useless columns\n",
        "df_dw.drop(to_del, axis=1, inplace=True)\n",
        "print(df_dw.shape)"
      ]
    },
    {
      "cell_type": "markdown",
      "metadata": {
        "id": "iwH9g9XrL4TP"
      },
      "source": [
        "#### Identify Rows That Contain Duplicate Data and Delete Rows"
      ]
    },
    {
      "cell_type": "code",
      "execution_count": null,
      "metadata": {
        "colab": {
          "base_uri": "https://localhost:8080/"
        },
        "id": "oguEpm9JLyr6",
        "outputId": "2f36bb7c-9358-4fbe-b3db-e802d89ad2a9"
      },
      "outputs": [
        {
          "name": "stdout",
          "output_type": "stream",
          "text": [
            "False\n",
            "Empty DataFrame\n",
            "Columns: [air_time1, disp_index1, gmrt_in_air1, gmrt_on_paper1, max_x_extension1, max_y_extension1, mean_acc_in_air1, mean_acc_on_paper1, mean_gmrt1, mean_jerk_in_air1, mean_jerk_on_paper1, mean_speed_in_air1, mean_speed_on_paper1, num_of_pendown1, paper_time1, pressure_mean1, pressure_var1, total_time1, air_time2, disp_index2, gmrt_in_air2, gmrt_on_paper2, max_x_extension2, max_y_extension2, mean_acc_in_air2, mean_acc_on_paper2, mean_gmrt2, mean_jerk_in_air2, mean_jerk_on_paper2, mean_speed_in_air2, mean_speed_on_paper2, num_of_pendown2, paper_time2, pressure_mean2, pressure_var2, total_time2, air_time3, disp_index3, gmrt_in_air3, gmrt_on_paper3, max_x_extension3, max_y_extension3, mean_acc_in_air3, mean_acc_on_paper3, mean_gmrt3, mean_jerk_in_air3, mean_jerk_on_paper3, mean_speed_in_air3, mean_speed_on_paper3, num_of_pendown3, paper_time3, pressure_mean3, pressure_var3, total_time3, air_time4, disp_index4, gmrt_in_air4, gmrt_on_paper4, max_x_extension4, max_y_extension4, mean_acc_in_air4, mean_acc_on_paper4, mean_gmrt4, mean_jerk_in_air4, mean_jerk_on_paper4, mean_speed_in_air4, mean_speed_on_paper4, num_of_pendown4, paper_time4, pressure_mean4, pressure_var4, total_time4, air_time5, disp_index5, gmrt_in_air5, gmrt_on_paper5, max_x_extension5, max_y_extension5, mean_acc_in_air5, mean_acc_on_paper5, mean_gmrt5, mean_jerk_in_air5, mean_jerk_on_paper5, mean_speed_in_air5, mean_speed_on_paper5, num_of_pendown5, paper_time5, pressure_mean5, pressure_var5, total_time5, air_time6, disp_index6, gmrt_in_air6, gmrt_on_paper6, max_x_extension6, max_y_extension6, mean_acc_in_air6, mean_acc_on_paper6, mean_gmrt6, mean_jerk_in_air6, ...]\n",
            "Index: []\n",
            "\n",
            "[0 rows x 451 columns]\n"
          ]
        }
      ],
      "source": [
        "# calculate duplicates\n",
        "dups = df_dw.duplicated()\n",
        "# report if there are any duplicates\n",
        "print(dups.any())\n",
        "# list all duplicate rows\n",
        "print(df_dw[dups])\n",
        "if dups.any() == True:\n",
        "  df_dw.drop_duplicates(inplace=True)\n",
        "  print(df_dw.shape)\n"
      ]
    },
    {
      "cell_type": "markdown",
      "metadata": {
        "id": "UvmSp6tPvSBg"
      },
      "source": [
        "####Consider Columns That Have Very Few Values"
      ]
    },
    {
      "cell_type": "code",
      "execution_count": null,
      "metadata": {
        "id": "0ykdU893vWf-"
      },
      "outputs": [],
      "source": [
        "# summarize the number of unique values in each column\n",
        "for i in range(df_dw.shape[1]):\n",
        "  num = len(df_dw.iloc[:, i].unique())\n",
        "  percentage = float(num) / df_dw.shape[0] * 100\n",
        "  if percentage < 1:\n",
        "    print('%d, %d, %.1f%%' % (i, num, percentage))"
      ]
    },
    {
      "cell_type": "code",
      "execution_count": null,
      "metadata": {
        "colab": {
          "base_uri": "https://localhost:8080/"
        },
        "id": "5Gpzbow_va_6",
        "outputId": "1ad6c8dc-ec17-40f1-d370-20cbb365afd9"
      },
      "outputs": [
        {
          "name": "stdout",
          "output_type": "stream",
          "text": [
            "(174, 451)\n",
            "Index([], dtype='object')\n",
            "(174, 451)\n"
          ]
        }
      ],
      "source": [
        "print(df_dw.shape)\n",
        "# get number of unique values for each column\n",
        "counts = df_dw.nunique()\n",
        "# record columns to delete\n",
        "to_del = [i for i,v in enumerate(counts) if (float(v)/df_dw.shape[0]*100) < 1]\n",
        "print(df_dw.columns[to_del])\n",
        "# drop useless columns\n",
        "df_dw.drop(to_del, axis=1, inplace=True)\n",
        "print(df_dw.shape)"
      ]
    },
    {
      "cell_type": "markdown",
      "metadata": {
        "id": "XMtPnymRPfG8"
      },
      "source": [
        "### Plot Histogram"
      ]
    },
    {
      "cell_type": "code",
      "execution_count": null,
      "metadata": {
        "colab": {
          "base_uri": "https://localhost:8080/",
          "height": 962
        },
        "id": "eIcNIvWYQAcn",
        "outputId": "2115c3cf-a59a-4fee-b9b7-3b090374e7fc"
      },
      "outputs": [
        {
          "data": {
            "image/png": "[encoded data removed]",
            "text/plain": [
              "<Figure size 2500x2000 with 12 Axes>"
            ]
          },
          "metadata": {},
          "output_type": "display_data"
        }
      ],
      "source": [
        "selected_columns = df_dw.iloc[:, :10]\n",
        "\n",
        "# selected_columns = df_dw.iloc[:, :-2]\n",
        "selected_columns.hist(bins=10, linewidth=1.2)\n",
        "fig = plt.gcf()\n",
        "fig.set_size_inches(25,20)\n",
        "plt.show()"
      ]
    },
    {
      "cell_type": "markdown",
      "metadata": {
        "id": "rhMELT1m6vJ2"
      },
      "source": [
        "### Splitting The Data into Training And Testing Dataset"
      ]
    },
    {
      "cell_type": "code",
      "execution_count": null,
      "metadata": {
        "id": "1AGCTU307JuT"
      },
      "outputs": [],
      "source": [
        "# retrieve numpy array\n",
        "dataset = df_dw.values\n",
        "# split into input (X) and output (y) variables\n",
        "X = dataset[:, :-1]\n",
        "y = dataset[:,-1]\n",
        "\n",
        "# Normalisasi\n",
        "scaler = MinMaxScaler()\n",
        "X = scaler.fit_transform(X)\n",
        "\n",
        "label_encoder = LabelEncoder()\n",
        "y = label_encoder.fit_transform(y)\n",
        "\n",
        "# split into train and test sets\n",
        "X_train, X_test, y_train, y_test = train_test_split(X, y, test_size=0.20, random_state=42)"
      ]
    },
    {
      "cell_type": "markdown",
      "metadata": {
        "id": "hoVJFr9bjBcC"
      },
      "source": [
        "###Feature Selection"
      ]
    },
    {
      "cell_type": "code",
      "execution_count": null,
      "metadata": {
        "id": "-7AV_JxI2inK"
      },
      "outputs": [],
      "source": [
        "from sklearn.feature_selection import SelectKBest, chi2, f_classif\n",
        "from sklearn.ensemble import ExtraTreesClassifier\n",
        "from sklearn.feature_selection import RFE\n",
        "from sklearn.ensemble import RandomForestClassifier\n",
        "k_best = 10  # Choose the number of top features to select"
      ]
    },
    {
      "cell_type": "markdown",
      "metadata": {
        "id": "mBNhuAlKlMP0"
      },
      "source": [
        "#### ANOVA F-test Features"
      ]
    },
    {
      "cell_type": "code",
      "execution_count": null,
      "metadata": {
        "colab": {
          "base_uri": "https://localhost:8080/",
          "height": 507
        },
        "id": "XIx4dZkaQGi1",
        "outputId": "26886d83-d9df-4d96-c3ce-cc97ef5ae025"
      },
      "outputs": [
        {
          "name": "stdout",
          "output_type": "stream",
          "text": [
            "Number of selected features ANOVA: 10\n",
            "Selected features ANOVA : ['gmrt_in_air7', 'mean_gmrt7', 'mean_speed_in_air7', 'paper_time9', 'total_time9', 'total_time13', 'paper_time15', 'air_time16', 'disp_index22', 'disp_index23']\n"
          ]
        },
        {
          "data": {
            "image/png": "[encoded data removed]",
            "text/plain": [
              "<Figure size 640x480 with 1 Axes>"
            ]
          },
          "metadata": {},
          "output_type": "display_data"
        }
      ],
      "source": [
        "# Create SelectKBest object using chi2 as the score function\n",
        "best_features_anova = SelectKBest(score_func=f_classif, k=k_best).fit(X_train, y_train)\n",
        "selected_features_indices = best_features_anova.get_support(indices=True)\n",
        "\n",
        "# Get the selected column names\n",
        "selected_column_names = [df_dw.columns[i] for i in selected_features_indices]\n",
        "\n",
        "print(f\"Number of selected features ANOVA: {len(selected_column_names)}\")\n",
        "print(f\"Selected features ANOVA : {list(selected_column_names)}\")\n",
        "\n",
        "plt.subplot(1, 2, 2)\n",
        "for feature in selected_column_names:\n",
        "    plt.hist(df_dw[feature], bins=10, alpha=0.5, label=feature)\n",
        "    plt.title('Histogram Seleksi Fitur')\n",
        "    plt.legend()\n",
        "\n",
        "plt.show()"
      ]
    },
    {
      "cell_type": "code",
      "execution_count": null,
      "metadata": {
        "id": "hWRMtc53SFfI"
      },
      "outputs": [],
      "source": [
        "X_train_selected_anova = best_features_anova.transform(X_train)\n",
        "X_test_selected_anova = best_features_anova.transform(X_test)"
      ]
    },
    {
      "cell_type": "code",
      "execution_count": null,
      "metadata": {
        "colab": {
          "base_uri": "https://localhost:8080/"
        },
        "id": "ffAMNo3RCDah",
        "outputId": "fedca83d-b553-4e5e-aa79-f7db57a26c1c"
      },
      "outputs": [
        {
          "name": "stdout",
          "output_type": "stream",
          "text": [
            "Shape of original dataset: (139, 450)\n",
            "Shape after feature selection: (139, 10)\n"
          ]
        }
      ],
      "source": [
        "# Display the shape of the dataset before and after feature selection\n",
        "print(\"Shape of original dataset:\", X_train.shape)\n",
        "print(\"Shape after feature selection:\", X_train_selected_anova.shape)"
      ]
    },
    {
      "cell_type": "code",
      "execution_count": null,
      "metadata": {
        "colab": {
          "base_uri": "https://localhost:8080/"
        },
        "id": "9hP95GsX9WCO",
        "outputId": "6fe24eb6-7ecf-49b5-d363-fe710c79d432"
      },
      "outputs": [
        {
          "data": {
            "text/plain": [
              "Index(['air_time1', 'disp_index1', 'gmrt_in_air1', 'gmrt_on_paper1',\n",
              "       'max_x_extension1', 'max_y_extension1', 'mean_acc_in_air1',\n",
              "       'mean_acc_on_paper1', 'mean_gmrt1', 'mean_jerk_in_air1',\n",
              "       ...\n",
              "       'mean_jerk_in_air25', 'mean_jerk_on_paper25', 'mean_speed_in_air25',\n",
              "       'mean_speed_on_paper25', 'num_of_pendown25', 'paper_time25',\n",
              "       'pressure_mean25', 'pressure_var25', 'total_time25', 'class'],\n",
              "      dtype='object', length=451)"
            ]
          },
          "execution_count": 21,
          "metadata": {},
          "output_type": "execute_result"
        }
      ],
      "source": [
        "df_dw.columns"
      ]
    },
    {
      "cell_type": "markdown",
      "metadata": {
        "id": "hjCftH6G3SMW"
      },
      "source": [
        "#### Univariate Selection"
      ]
    },
    {
      "cell_type": "code",
      "execution_count": null,
      "metadata": {
        "colab": {
          "base_uri": "https://localhost:8080/",
          "height": 525
        },
        "id": "GOQOCYdz2aUK",
        "outputId": "4a3943e7-3be0-4227-a1ea-a604e086cd69"
      },
      "outputs": [
        {
          "name": "stdout",
          "output_type": "stream",
          "text": [
            "Number of selected features univariate: 10\n",
            "Selected features univariate : ['mean_gmrt7', 'paper_time7', 'num_of_pendown9', 'air_time13', 'air_time15', 'total_time15', 'air_time16', 'total_time16', 'air_time19', 'total_time19']\n"
          ]
        },
        {
          "data": {
            "image/png": "[encoded data removed]",
            "text/plain": [
              "<Figure size 640x480 with 1 Axes>"
            ]
          },
          "metadata": {},
          "output_type": "display_data"
        }
      ],
      "source": [
        "# Create SelectKBest object using chi2 as the score function\n",
        "best_features_univariate = SelectKBest(score_func=chi2, k=k_best).fit(X_train, y_train)\n",
        "selected_features_indices = best_features_univariate.get_support(indices=True)\n",
        "\n",
        "# Get the selected column names\n",
        "selected_column_names = [df_dw.columns[i] for i in selected_features_indices]\n",
        "\n",
        "print(f\"Number of selected features univariate: {len(selected_column_names)}\")\n",
        "print(f\"Selected features univariate : {list(selected_column_names)}\")\n",
        "\n",
        "plt.subplot(1, 2, 2)\n",
        "for feature in selected_column_names:\n",
        "    plt.hist(df_dw[feature], bins=10, alpha=0.5, label=feature)\n",
        "    plt.title('Histogram Seleksi Fitur')\n",
        "    plt.legend()\n",
        "\n",
        "plt.show()"
      ]
    },
    {
      "cell_type": "code",
      "execution_count": null,
      "metadata": {
        "id": "85Yu2N8t_gnI"
      },
      "outputs": [],
      "source": [
        "X_train_selected_univariate = best_features_univariate.transform(X_train)\n",
        "X_test_selected_univariate = best_features_univariate.transform(X_test)"
      ]
    },
    {
      "cell_type": "markdown",
      "metadata": {
        "id": "1Gc1E_wN3g4C"
      },
      "source": [
        "#### Recursive Feature Elimination"
      ]
    },
    {
      "cell_type": "code",
      "execution_count": null,
      "metadata": {
        "colab": {
          "base_uri": "https://localhost:8080/",
          "height": 525
        },
        "id": "fuB0hh8XDHnt",
        "outputId": "ca950a85-95b7-4a00-a1be-fe60c4160fb2"
      },
      "outputs": [
        {
          "name": "stdout",
          "output_type": "stream",
          "text": [
            "Number of selected features RFE: 10\n",
            "Selected features RFE : ['total_time2', 'air_time4', 'pressure_var4', 'paper_time9', 'total_time22', 'air_time23', 'disp_index23', 'paper_time23', 'total_time23', 'disp_index25']\n"
          ]
        },
        {
          "data": {
            "image/png": "[encoded data removed]",
            "text/plain": [
              "<Figure size 640x480 with 1 Axes>"
            ]
          },
          "metadata": {},
          "output_type": "display_data"
        }
      ],
      "source": [
        "# best_features_rfe = RFE(estimator=ExtraTreesClassifier(n_estimators=100), n_features_to_select=k_best)\n",
        "# best_features_rfe.fit(X_train, y_train)\n",
        "# selected_features_indices = best_features_rfe.get_support(indices=True)\n",
        "\n",
        "# # Get the selected column names\n",
        "# selected_column_names = [df_dw.columns[i] for i in selected_features_indices]\n",
        "\n",
        "# print(f\"Number of selected features RFE: {len(selected_column_names)}\")\n",
        "# print(f\"Selected features RFE : {list(selected_column_names)}\")\n",
        "\n",
        "# plt.subplot(1, 2, 2)\n",
        "# for feature in selected_column_names:\n",
        "#     plt.hist(df_dw[feature], bins=10, alpha=0.5, label=feature)\n",
        "#     plt.title('Histogram Seleksi Fitur')\n",
        "#     plt.legend()\n",
        "\n",
        "# plt.show()\n",
        "\n",
        "# Inisialisasi RFE dengan model dan jumlah fitur yang diinginkan\n",
        "best_features_rfe = RFE(RandomForestClassifier(n_estimators=5, random_state=42), n_features_to_select=k_best, step=50)  # Sesuaikan parameter\n",
        "best_features_rfe.fit(X_train, y_train)\n",
        "selected_features_indices = best_features_rfe.get_support(indices=True)\n",
        "\n",
        "# Get the selected column names\n",
        "selected_column_names = [df_dw.columns[i] for i in selected_features_indices]\n",
        "\n",
        "print(f\"Number of selected features RFE: {len(selected_column_names)}\")\n",
        "print(f\"Selected features RFE : {list(selected_column_names)}\")\n",
        "\n",
        "plt.subplot(1, 2, 2)\n",
        "for feature in selected_column_names:\n",
        "    plt.hist(df_dw[feature], bins=10, alpha=0.5, label=feature)\n",
        "    plt.title('Histogram Seleksi Fitur')\n",
        "    plt.legend()\n",
        "\n",
        "plt.show()"
      ]
    },
    {
      "cell_type": "code",
      "execution_count": null,
      "metadata": {
        "id": "JhiCa1gRDwtQ"
      },
      "outputs": [],
      "source": [
        "X_train_selected_rfe = best_features_rfe.transform(X_train)\n",
        "X_test_selected_rfe = best_features_rfe.transform(X_test)"
      ]
    },
    {
      "cell_type": "markdown",
      "metadata": {
        "id": "jbAjmmKmjEfu"
      },
      "source": [
        "### Dimensionality Reduction"
      ]
    },
    {
      "cell_type": "code",
      "execution_count": null,
      "metadata": {
        "id": "h8w71dNLKQ4q"
      },
      "outputs": [],
      "source": [
        "from numpy import mean\n",
        "from numpy import std\n",
        "from sklearn.datasets import make_classification\n",
        "from sklearn.model_selection import RepeatedStratifiedKFold\n",
        "from sklearn.pipeline import Pipeline\n",
        "from sklearn.decomposition import TruncatedSVD\n",
        "from sklearn.feature_selection import VarianceThreshold\n",
        "from sklearn.preprocessing import LabelEncoder, StandardScaler\n",
        "from sklearn.impute import SimpleImputer\n",
        "from sklearn.decomposition import PCA\n",
        "from sklearn.ensemble import IsolationForest\n",
        "from sklearn.discriminant_analysis import LinearDiscriminantAnalysis"
      ]
    },
    {
      "cell_type": "markdown",
      "metadata": {
        "id": "NZreZ_1yob_v"
      },
      "source": [
        "#### Principal Component Analysis - PCA"
      ]
    },
    {
      "cell_type": "code",
      "execution_count": null,
      "metadata": {
        "colab": {
          "base_uri": "https://localhost:8080/"
        },
        "id": "4SGqRQ5y8ees",
        "outputId": "68eb0b86-4e69-4766-dbd6-2effafee7965"
      },
      "outputs": [
        {
          "name": "stdout",
          "output_type": "stream",
          "text": [
            "Dimensionality Reduction with PCA for all feature\n"
          ]
        }
      ],
      "source": [
        "# Dimensionality Reduction with PCA for all feature\n",
        "print(\"Dimensionality Reduction with PCA for all feature\")\n",
        "n_components = 5\n",
        "pca = PCA(n_components=n_components)\n",
        "X_train_reduced_pca = pca.fit_transform(X_train)\n",
        "X_test_reduced_pca = pca.transform(X_test)"
      ]
    },
    {
      "cell_type": "markdown",
      "metadata": {
        "id": "M72H7pTYRmhW"
      },
      "source": [
        "#### Linear Discriminant Analysis - LDA"
      ]
    },
    {
      "cell_type": "code",
      "execution_count": null,
      "metadata": {
        "colab": {
          "base_uri": "https://localhost:8080/"
        },
        "id": "6YWdEeLJRr4S",
        "outputId": "3dc31f83-0df9-48fb-d666-368232a1d3d7"
      },
      "outputs": [
        {
          "name": "stdout",
          "output_type": "stream",
          "text": [
            "Dimensionality Reduction with LDA for all feature\n"
          ]
        }
      ],
      "source": [
        "# Dimensionality Reduction with LDA for all feature\n",
        "print(\"Dimensionality Reduction with LDA for all feature\")\n",
        "n_components = 1\n",
        "lda = LinearDiscriminantAnalysis(n_components=n_components)\n",
        "X_train_reduced_lda = lda.fit_transform(X_train, y_train)\n",
        "X_test_reduced_lda = lda.transform(X_test)"
      ]
    },
    {
      "cell_type": "markdown",
      "metadata": {
        "id": "BBtKxtzljG5e"
      },
      "source": [
        "### Uji metode tersebut dengan sedikitnya 5 Klasifikasi"
      ]
    },
    {
      "cell_type": "code",
      "execution_count": null,
      "metadata": {
        "id": "paApooGysgEi"
      },
      "outputs": [],
      "source": [
        "# evaluation of a model using 4 features chosen with anova f-test\n",
        "from sklearn.preprocessing import MinMaxScaler\n",
        "from sklearn.linear_model import LogisticRegression\n",
        "from sklearn.tree import DecisionTreeClassifier\n",
        "from sklearn.svm import SVC\n",
        "from sklearn.neighbors import KNeighborsClassifier # KNN classifier\n",
        "from sklearn.ensemble import RandomForestClassifier\n",
        "from sklearn import metrics # for checking the model accuracy\n",
        "from sklearn.model_selection import GridSearchCV\n",
        "from sklearn.metrics import accuracy_score\n",
        "from sklearn.model_selection import cross_val_score\n",
        "\n",
        "from sklearn import model_selection\n",
        "# Define stratified k-fold cross-validation with 10 splits\n",
        "kfold = model_selection.KFold(n_splits=10, shuffle=True, random_state=42)\n",
        "scoring = 'accuracy'"
      ]
    },
    {
      "cell_type": "markdown",
      "metadata": {
        "id": "Ryt1hfa_jRdP"
      },
      "source": [
        "####Logistic Regresion"
      ]
    },
    {
      "cell_type": "code",
      "execution_count": null,
      "metadata": {
        "colab": {
          "base_uri": "https://localhost:8080/"
        },
        "id": "GYCQgwTU4kUe",
        "outputId": "788ceeb4-7e4f-41e5-8a32-6139a45dcdab"
      },
      "outputs": [
        {
          "name": "stdout",
          "output_type": "stream",
          "text": [
            "Accuracy with all feature: 88.57\n"
          ]
        }
      ],
      "source": [
        "# fit the model with all feature\n",
        "model = LogisticRegression()\n",
        "model.fit(X_train, y_train)\n",
        "# evaluate the model\n",
        "yhat = model.predict(X_test)\n",
        "# evaluate predictions\n",
        "accuracy = accuracy_score(y_test, yhat)\n",
        "print('Accuracy with all feature: %.2f' % (accuracy*100))"
      ]
    },
    {
      "cell_type": "code",
      "execution_count": null,
      "metadata": {
        "colab": {
          "base_uri": "https://localhost:8080/"
        },
        "id": "J3evn-C1sarN",
        "outputId": "07a62563-b24c-4622-fec3-de01c1655849"
      },
      "outputs": [
        {
          "name": "stdout",
          "output_type": "stream",
          "text": [
            "Evaluate model with feature selection\n",
            "Accuracy with feature selection ANOVA: 71.43\n",
            "Accuracy with feature selection Univariate Selection: 80.00\n",
            "Accuracy with feature selection Recursive Feature Elimination: 80.00\n"
          ]
        }
      ],
      "source": [
        "#Evaluate model with feature selection\n",
        "print('Evaluate model with feature selection')\n",
        "\n",
        "# fit the model with feature selection ANOVA\n",
        "model.fit(X_train_selected_anova, y_train)\n",
        "# evaluate the model\n",
        "yhat = model.predict(X_test_selected_anova)\n",
        "# evaluate predictions\n",
        "accuracy = accuracy_score(y_test, yhat)\n",
        "print('Accuracy with feature selection ANOVA: %.2f' % (accuracy*100))\n",
        "\n",
        "# fit the model with feature selection univariate\n",
        "model.fit(X_train_selected_univariate, y_train)\n",
        "# evaluate the model\n",
        "yhat = model.predict(X_test_selected_univariate)\n",
        "# evaluate predictions\n",
        "accuracy = accuracy_score(y_test, yhat)\n",
        "print('Accuracy with feature selection Univariate Selection: %.2f' % (accuracy*100))\n",
        "\n",
        "# fit the model with Recursive Feature Elimination\n",
        "model.fit(X_train_selected_rfe, y_train)\n",
        "# evaluate the model\n",
        "yhat = model.predict(X_test_selected_rfe)\n",
        "# evaluate predictions\n",
        "accuracy = accuracy_score(y_test, yhat)\n",
        "print('Accuracy with feature selection Recursive Feature Elimination: %.2f' % (accuracy*100))"
      ]
    },
    {
      "cell_type": "code",
      "execution_count": null,
      "metadata": {
        "id": "uAdhxl6DI_vr"
      },
      "outputs": [],
      "source": [
        "# Define hyperparameter grid\n",
        "param_grid = {\n",
        "    'C': [0.001, 0.01, 0.1, 1, 10, 100],\n",
        "    'solver': ['newton-cg', 'lbfgs', 'liblinear', 'sag', 'saga']\n",
        "}"
      ]
    },
    {
      "cell_type": "code",
      "execution_count": null,
      "metadata": {
        "colab": {
          "base_uri": "https://localhost:8080/"
        },
        "id": "AlR9eAV2IoA-",
        "outputId": "341b055d-37d8-45ac-d4b0-878034afe92d"
      },
      "outputs": [
        {
          "name": "stdout",
          "output_type": "stream",
          "text": [
            "Best Hyperparameters with feature selection ANOVA: {'C': 100, 'solver': 'saga'}\n",
            "Best score accuracy for Logistic Regression hyperparameter tuning with feature selection ANOVA: 80.0\n"
          ]
        }
      ],
      "source": [
        "# Perform hyperparameter tuning using GridSearchCV\n",
        "grid_search = GridSearchCV(estimator=model, param_grid=param_grid, cv=kfold, scoring=scoring)\n",
        "grid_search.fit(X_train_selected_anova, y_train)\n",
        "\n",
        "# Print the best hyperparameter values\n",
        "best_params = grid_search.best_params_\n",
        "best_score = grid_search.best_score_\n",
        "print(\"Best Hyperparameters with feature selection ANOVA:\", best_params)\n",
        "\n",
        "# Prediction on test set\n",
        "y_pred = grid_search.best_estimator_.predict(X_test_selected_anova)\n",
        "accuracy = round( metrics.accuracy_score(y_test, y_pred) * 100, 2 )\n",
        "\n",
        "# Compare the accuracies\n",
        "print(\"Best score accuracy for Logistic Regression hyperparameter tuning with feature selection ANOVA:\", accuracy)"
      ]
    },
    {
      "cell_type": "code",
      "execution_count": null,
      "metadata": {
        "colab": {
          "base_uri": "https://localhost:8080/"
        },
        "id": "K1UvtPtoPCAR",
        "outputId": "242a8394-06f9-4fa9-f381-a1355d1f113d"
      },
      "outputs": [
        {
          "name": "stdout",
          "output_type": "stream",
          "text": [
            "Best Hyperparameters with feature selection Univariate: {'C': 100, 'solver': 'newton-cg'}\n",
            "Best score accuracy for Logistic Regression hyperparameter tuning with feature selection Univariate: 85.71\n"
          ]
        }
      ],
      "source": [
        "# Perform hyperparameter tuning using GridSearchCV\n",
        "grid_search = GridSearchCV(estimator=model, param_grid=param_grid, cv=kfold, scoring=scoring)\n",
        "grid_search.fit(X_train_selected_univariate, y_train)\n",
        "\n",
        "# Print the best hyperparameter values\n",
        "best_params = grid_search.best_params_\n",
        "best_score = grid_search.best_score_\n",
        "print(\"Best Hyperparameters with feature selection Univariate:\", best_params)\n",
        "\n",
        "# Prediction on test set\n",
        "y_pred = grid_search.best_estimator_.predict(X_test_selected_univariate)\n",
        "accuracy = round( metrics.accuracy_score(y_test, y_pred) * 100, 2 )\n",
        "\n",
        "# Compare the accuracies\n",
        "print(\"Best score accuracy for Logistic Regression hyperparameter tuning with feature selection Univariate:\", accuracy)"
      ]
    },
    {
      "cell_type": "code",
      "execution_count": null,
      "metadata": {
        "colab": {
          "base_uri": "https://localhost:8080/"
        },
        "id": "0EBuXvSFLWIP",
        "outputId": "b52bf580-8c72-4d26-edb2-168cf7b46c8e"
      },
      "outputs": [
        {
          "name": "stdout",
          "output_type": "stream",
          "text": [
            "Best Hyperparameters with feature selection RFE: {'C': 100, 'solver': 'saga'}\n",
            "Best score accuracy for Logistic Regression hyperparameter tuning with feature selection RFE: 80.0\n"
          ]
        }
      ],
      "source": [
        "# Perform hyperparameter tuning using GridSearchCV\n",
        "grid_search = GridSearchCV(estimator=model, param_grid=param_grid, cv=kfold, scoring=scoring)\n",
        "grid_search.fit(X_train_selected_rfe, y_train)\n",
        "\n",
        "# Print the best hyperparameter values\n",
        "best_params = grid_search.best_params_\n",
        "best_score = grid_search.best_score_\n",
        "print(\"Best Hyperparameters with feature selection RFE:\", best_params)\n",
        "\n",
        "# Prediction on test set\n",
        "y_pred = grid_search.best_estimator_.predict(X_test_selected_rfe)\n",
        "accuracy = round( metrics.accuracy_score(y_test, y_pred) * 100, 2 )\n",
        "\n",
        "# Compare the accuracies\n",
        "print(\"Best score accuracy for Logistic Regression hyperparameter tuning with feature selection RFE:\", accuracy)"
      ]
    },
    {
      "cell_type": "code",
      "execution_count": null,
      "metadata": {
        "colab": {
          "base_uri": "https://localhost:8080/"
        },
        "id": "ASiMD7BL_uT_",
        "outputId": "4a43774a-4e18-4235-a9e2-6219c92cb595"
      },
      "outputs": [
        {
          "name": "stdout",
          "output_type": "stream",
          "text": [
            "Best Hyperparameters with feature reduction PCA: {'C': 1, 'solver': 'liblinear'}\n",
            "Best score accuracy for Logistic Regression hyperparameter tuning with feature reduction PCA: 85.71\n"
          ]
        }
      ],
      "source": [
        "# Perform hyperparameter tuning using GridSearchCV\n",
        "grid_search = GridSearchCV(estimator=model, param_grid=param_grid, cv=kfold, scoring=scoring)\n",
        "grid_search.fit(X_train_reduced_pca, y_train)\n",
        "\n",
        "# Print the best hyperparameter values\n",
        "best_params = grid_search.best_params_\n",
        "best_score = grid_search.best_score_\n",
        "print(\"Best Hyperparameters with feature reduction PCA:\", best_params)\n",
        "\n",
        "# Prediction on test set\n",
        "y_pred = grid_search.best_estimator_.predict(X_test_reduced_pca)\n",
        "accuracy = round( metrics.accuracy_score(y_test, y_pred) * 100, 2 )\n",
        "\n",
        "# Compare the accuracies\n",
        "print(\"Best score accuracy for Logistic Regression hyperparameter tuning with feature reduction PCA:\", accuracy)"
      ]
    },
    {
      "cell_type": "code",
      "execution_count": null,
      "metadata": {
        "colab": {
          "base_uri": "https://localhost:8080/"
        },
        "id": "8lsVBPYbABBP",
        "outputId": "d8fb93d6-fe6f-4501-f082-746477935c10"
      },
      "outputs": [
        {
          "name": "stdout",
          "output_type": "stream",
          "text": [
            "Best Hyperparameters with feature reduction LDA: {'C': 0.001, 'solver': 'liblinear'}\n",
            "Best score accuracy for Logistic Regression hyperparameter tuning with feature reduction LDA: 71.43\n"
          ]
        }
      ],
      "source": [
        "# Perform hyperparameter tuning using GridSearchCV\n",
        "grid_search = GridSearchCV(estimator=model, param_grid=param_grid, cv=kfold, scoring=scoring)\n",
        "grid_search.fit(X_train_reduced_lda, y_train)\n",
        "\n",
        "# Print the best hyperparameter values\n",
        "best_params = grid_search.best_params_\n",
        "best_score = grid_search.best_score_\n",
        "print(\"Best Hyperparameters with feature reduction LDA:\", best_params)\n",
        "\n",
        "# Prediction on test set\n",
        "y_pred = grid_search.best_estimator_.predict(X_test_reduced_lda)\n",
        "accuracy = round( metrics.accuracy_score(y_test, y_pred) * 100, 2 )\n",
        "\n",
        "# Compare the accuracies\n",
        "print(\"Best score accuracy for Logistic Regression hyperparameter tuning with feature reduction LDA:\", accuracy)"
      ]
    },
    {
      "cell_type": "markdown",
      "metadata": {
        "id": "06R-MVwWJ-iR"
      },
      "source": [
        "####Decision Tree"
      ]
    },
    {
      "cell_type": "code",
      "execution_count": null,
      "metadata": {
        "colab": {
          "base_uri": "https://localhost:8080/"
        },
        "id": "skYUkAIwJ-id",
        "outputId": "d33e8b69-d196-4c3f-de09-7a5ad073f0f8"
      },
      "outputs": [
        {
          "name": "stdout",
          "output_type": "stream",
          "text": [
            "Accuracy with all feature: 88.57\n"
          ]
        }
      ],
      "source": [
        "# fit the model with all feature\n",
        "model = DecisionTreeClassifier()\n",
        "model.fit(X_train, y_train)\n",
        "# evaluate the model\n",
        "yhat = model.predict(X_test)\n",
        "# evaluate predictions\n",
        "accuracy = accuracy_score(y_test, yhat)\n",
        "print('Accuracy with all feature: %.2f' % (accuracy*100))"
      ]
    },
    {
      "cell_type": "code",
      "execution_count": null,
      "metadata": {
        "colab": {
          "base_uri": "https://localhost:8080/"
        },
        "id": "ArVAAb3DJ-ie",
        "outputId": "a69dc371-920b-4219-a44a-6a9773ed4b8f"
      },
      "outputs": [
        {
          "name": "stdout",
          "output_type": "stream",
          "text": [
            "Evaluate model with feature selection\n",
            "Accuracy with feature selection ANOVA: 71.43\n",
            "Accuracy with feature selection Univariate Selection: 71.43\n",
            "Accuracy with feature selection Recursive Feature Elimination: 94.29\n"
          ]
        }
      ],
      "source": [
        "#Evaluate model with feature selection\n",
        "print('Evaluate model with feature selection')\n",
        "\n",
        "# fit the model with feature selection ANOVA\n",
        "model.fit(X_train_selected_anova, y_train)\n",
        "# evaluate the model\n",
        "yhat = model.predict(X_test_selected_anova)\n",
        "# evaluate predictions\n",
        "accuracy = accuracy_score(y_test, yhat)\n",
        "print('Accuracy with feature selection ANOVA: %.2f' % (accuracy*100))\n",
        "\n",
        "# fit the model with feature selection univariate\n",
        "model.fit(X_train_selected_univariate, y_train)\n",
        "# evaluate the model\n",
        "yhat = model.predict(X_test_selected_univariate)\n",
        "# evaluate predictions\n",
        "accuracy = accuracy_score(y_test, yhat)\n",
        "print('Accuracy with feature selection Univariate Selection: %.2f' % (accuracy*100))\n",
        "\n",
        "# fit the model with Recursive Feature Elimination\n",
        "model.fit(X_train_selected_rfe, y_train)\n",
        "# evaluate the model\n",
        "yhat = model.predict(X_test_selected_rfe)\n",
        "# evaluate predictions\n",
        "accuracy = accuracy_score(y_test, yhat)\n",
        "print('Accuracy with feature selection Recursive Feature Elimination: %.2f' % (accuracy*100))"
      ]
    },
    {
      "cell_type": "code",
      "execution_count": null,
      "metadata": {
        "id": "k4Hl4p5yJ-ie"
      },
      "outputs": [],
      "source": [
        "# Define hyperparameter grid\n",
        "param_grid = {\n",
        "    'max_depth': [10, 20, 30, None],\n",
        "    'min_samples_split': [2, 10, 50, 100]\n",
        "}"
      ]
    },
    {
      "cell_type": "code",
      "execution_count": null,
      "metadata": {
        "colab": {
          "base_uri": "https://localhost:8080/"
        },
        "id": "OEJwXClmJ-ie",
        "outputId": "7861cec1-60f8-419e-dfbb-6d26cb819923"
      },
      "outputs": [
        {
          "name": "stdout",
          "output_type": "stream",
          "text": [
            "Best Hyperparameters with feature selection ANOVA: {'max_depth': 10, 'min_samples_split': 10}\n",
            "Best score accuracy for Decision Tree hyperparameter tuning with feature selection ANOVA: 74.29\n"
          ]
        }
      ],
      "source": [
        "# Perform hyperparameter tuning using GridSearchCV\n",
        "grid_search = GridSearchCV(estimator=model, param_grid=param_grid, cv=kfold, scoring=scoring)\n",
        "grid_search.fit(X_train_selected_anova, y_train)\n",
        "\n",
        "# Print the best hyperparameter values\n",
        "best_params = grid_search.best_params_\n",
        "best_score = grid_search.best_score_\n",
        "print(\"Best Hyperparameters with feature selection ANOVA:\", best_params)\n",
        "\n",
        "# Prediction on test set\n",
        "y_pred = grid_search.best_estimator_.predict(X_test_selected_anova)\n",
        "accuracy = round( metrics.accuracy_score(y_test, y_pred) * 100, 2 )\n",
        "\n",
        "# Compare the accuracies\n",
        "print(\"Best score accuracy for Decision Tree hyperparameter tuning with feature selection ANOVA:\", accuracy)"
      ]
    },
    {
      "cell_type": "code",
      "execution_count": null,
      "metadata": {
        "colab": {
          "base_uri": "https://localhost:8080/"
        },
        "id": "rsNJKoQqJ-if",
        "outputId": "fa8b65a6-1ada-41ac-b55c-b0e07d6b61fd"
      },
      "outputs": [
        {
          "name": "stdout",
          "output_type": "stream",
          "text": [
            "Best Hyperparameters with feature selection Univariate: {'max_depth': 10, 'min_samples_split': 10}\n",
            "Best score accuracy for Decision Tree hyperparameter tuning with feature selection Univariate: 68.57\n"
          ]
        }
      ],
      "source": [
        "# Perform hyperparameter tuning using GridSearchCV\n",
        "grid_search = GridSearchCV(estimator=model, param_grid=param_grid, cv=kfold, scoring=scoring)\n",
        "grid_search.fit(X_train_selected_univariate, y_train)\n",
        "\n",
        "# Print the best hyperparameter values\n",
        "best_params = grid_search.best_params_\n",
        "best_score = grid_search.best_score_\n",
        "print(\"Best Hyperparameters with feature selection Univariate:\", best_params)\n",
        "\n",
        "# Prediction on test set\n",
        "y_pred = grid_search.best_estimator_.predict(X_test_selected_univariate)\n",
        "accuracy = round( metrics.accuracy_score(y_test, y_pred) * 100, 2 )\n",
        "\n",
        "# Compare the accuracies\n",
        "print(\"Best score accuracy for Decision Tree hyperparameter tuning with feature selection Univariate:\", accuracy)"
      ]
    },
    {
      "cell_type": "code",
      "execution_count": null,
      "metadata": {
        "colab": {
          "base_uri": "https://localhost:8080/"
        },
        "id": "Xhby9mnRJ-if",
        "outputId": "ef8c15e5-87ce-4710-91fe-75de42c984f2"
      },
      "outputs": [
        {
          "name": "stdout",
          "output_type": "stream",
          "text": [
            "Best Hyperparameters with feature selection RFE: {'max_depth': None, 'min_samples_split': 2}\n",
            "Best score accuracy for Decision Tree hyperparameter tuning with feature selection RFE: 88.57\n"
          ]
        }
      ],
      "source": [
        "# Perform hyperparameter tuning using GridSearchCV\n",
        "grid_search = GridSearchCV(estimator=model, param_grid=param_grid, cv=kfold, scoring=scoring)\n",
        "grid_search.fit(X_train_selected_rfe, y_train)\n",
        "\n",
        "# Print the best hyperparameter values\n",
        "best_params = grid_search.best_params_\n",
        "best_score = grid_search.best_score_\n",
        "print(\"Best Hyperparameters with feature selection RFE:\", best_params)\n",
        "\n",
        "# Prediction on test set\n",
        "y_pred = grid_search.best_estimator_.predict(X_test_selected_rfe)\n",
        "accuracy = round( metrics.accuracy_score(y_test, y_pred) * 100, 2 )\n",
        "\n",
        "# Compare the accuracies\n",
        "print(\"Best score accuracy for Decision Tree hyperparameter tuning with feature selection RFE:\", accuracy)"
      ]
    },
    {
      "cell_type": "code",
      "execution_count": null,
      "metadata": {
        "colab": {
          "base_uri": "https://localhost:8080/"
        },
        "id": "9Spy-JIXJ-if",
        "outputId": "883c7562-dcaf-4326-e791-5243665a8ae6"
      },
      "outputs": [
        {
          "name": "stdout",
          "output_type": "stream",
          "text": [
            "Best Hyperparameters with feature reduction PCA: {'max_depth': 10, 'min_samples_split': 10}\n",
            "Best score accuracy for Decision Tree hyperparameter tuning with feature reduction PCA: 88.57\n"
          ]
        }
      ],
      "source": [
        "# Perform hyperparameter tuning using GridSearchCV\n",
        "grid_search = GridSearchCV(estimator=model, param_grid=param_grid, cv=kfold, scoring=scoring)\n",
        "grid_search.fit(X_train_reduced_pca, y_train)\n",
        "\n",
        "# Print the best hyperparameter values\n",
        "best_params = grid_search.best_params_\n",
        "best_score = grid_search.best_score_\n",
        "print(\"Best Hyperparameters with feature reduction PCA:\", best_params)\n",
        "\n",
        "# Prediction on test set\n",
        "y_pred = grid_search.best_estimator_.predict(X_test_reduced_pca)\n",
        "accuracy = round( metrics.accuracy_score(y_test, y_pred) * 100, 2 )\n",
        "\n",
        "# Compare the accuracies\n",
        "print(\"Best score accuracy for Decision Tree hyperparameter tuning with feature reduction PCA:\", accuracy)"
      ]
    },
    {
      "cell_type": "code",
      "execution_count": null,
      "metadata": {
        "colab": {
          "base_uri": "https://localhost:8080/"
        },
        "id": "U2cIETPeJ-ig",
        "outputId": "cc64da3c-deec-4bf6-aeea-fceeb7ce1f9c"
      },
      "outputs": [
        {
          "name": "stdout",
          "output_type": "stream",
          "text": [
            "Best Hyperparameters with feature reduction LDA: {'max_depth': 10, 'min_samples_split': 2}\n",
            "Best score accuracy for Decision Tree hyperparameter tuning with feature reduction LDA: 71.43\n"
          ]
        }
      ],
      "source": [
        "# Perform hyperparameter tuning using GridSearchCV\n",
        "grid_search = GridSearchCV(estimator=model, param_grid=param_grid, cv=kfold, scoring=scoring)\n",
        "grid_search.fit(X_train_reduced_lda, y_train)\n",
        "\n",
        "# Print the best hyperparameter values\n",
        "best_params = grid_search.best_params_\n",
        "best_score = grid_search.best_score_\n",
        "print(\"Best Hyperparameters with feature reduction LDA:\", best_params)\n",
        "\n",
        "# Prediction on test set\n",
        "y_pred = grid_search.best_estimator_.predict(X_test_reduced_lda)\n",
        "accuracy = round( metrics.accuracy_score(y_test, y_pred) * 100, 2 )\n",
        "\n",
        "# Compare the accuracies\n",
        "print(\"Best score accuracy for Decision Tree hyperparameter tuning with feature reduction LDA:\", accuracy)"
      ]
    },
    {
      "cell_type": "markdown",
      "metadata": {
        "id": "DTff6V7SQVB3"
      },
      "source": [
        "####Support Vector Machine"
      ]
    },
    {
      "cell_type": "code",
      "execution_count": null,
      "metadata": {
        "colab": {
          "base_uri": "https://localhost:8080/"
        },
        "id": "pTQuHrrMQVCD",
        "outputId": "5345d6e7-8101-4d1e-c3a5-c46a5c49d9a7"
      },
      "outputs": [
        {
          "name": "stdout",
          "output_type": "stream",
          "text": [
            "Accuracy with all feature: 85.71\n"
          ]
        }
      ],
      "source": [
        "# fit the model with all feature\n",
        "model = SVC()\n",
        "model.fit(X_train, y_train)\n",
        "# evaluate the model\n",
        "yhat = model.predict(X_test)\n",
        "# evaluate predictions\n",
        "accuracy = accuracy_score(y_test, yhat)\n",
        "print('Accuracy with all feature: %.2f' % (accuracy*100))"
      ]
    },
    {
      "cell_type": "code",
      "execution_count": null,
      "metadata": {
        "colab": {
          "base_uri": "https://localhost:8080/"
        },
        "id": "lFmONOqKQVCD",
        "outputId": "b4c353d7-fb82-4de7-ceba-ad500796124f"
      },
      "outputs": [
        {
          "name": "stdout",
          "output_type": "stream",
          "text": [
            "Evaluate model with feature selection\n",
            "Accuracy with feature selection ANOVA: 77.14\n",
            "Accuracy with feature selection Univariate Selection: 85.71\n",
            "Accuracy with feature selection Recursive Feature Elimination: 80.00\n"
          ]
        }
      ],
      "source": [
        "#Evaluate model with feature selection\n",
        "print('Evaluate model with feature selection')\n",
        "\n",
        "# fit the model with feature selection ANOVA\n",
        "model.fit(X_train_selected_anova, y_train)\n",
        "# evaluate the model\n",
        "yhat = model.predict(X_test_selected_anova)\n",
        "# evaluate predictions\n",
        "accuracy = accuracy_score(y_test, yhat)\n",
        "print('Accuracy with feature selection ANOVA: %.2f' % (accuracy*100))\n",
        "\n",
        "# fit the model with feature selection univariate\n",
        "model.fit(X_train_selected_univariate, y_train)\n",
        "# evaluate the model\n",
        "yhat = model.predict(X_test_selected_univariate)\n",
        "# evaluate predictions\n",
        "accuracy = accuracy_score(y_test, yhat)\n",
        "print('Accuracy with feature selection Univariate Selection: %.2f' % (accuracy*100))\n",
        "\n",
        "# fit the model with Recursive Feature Elimination\n",
        "model.fit(X_train_selected_rfe, y_train)\n",
        "# evaluate the model\n",
        "yhat = model.predict(X_test_selected_rfe)\n",
        "# evaluate predictions\n",
        "accuracy = accuracy_score(y_test, yhat)\n",
        "print('Accuracy with feature selection Recursive Feature Elimination: %.2f' % (accuracy*100))"
      ]
    },
    {
      "cell_type": "code",
      "execution_count": null,
      "metadata": {
        "id": "QtaHNGmEQVCD"
      },
      "outputs": [],
      "source": [
        "# Define hyperparameter grid\n",
        "param_grid = {\n",
        "    'C': [0.1, 1, 10],\n",
        "    'gamma': [0.1, 1, 'auto']\n",
        "}"
      ]
    },
    {
      "cell_type": "code",
      "execution_count": null,
      "metadata": {
        "colab": {
          "base_uri": "https://localhost:8080/"
        },
        "id": "_QPldARVQVCE",
        "outputId": "1b9e318c-8f06-41fd-cbb9-c674ee2e2d5f"
      },
      "outputs": [
        {
          "name": "stdout",
          "output_type": "stream",
          "text": [
            "Best Hyperparameters with feature selection ANOVA: {'C': 10, 'gamma': 1}\n",
            "Best score accuracy for Support Vector Machine hyperparameter tuning with feature selection ANOVA: 77.14\n"
          ]
        }
      ],
      "source": [
        "# Perform hyperparameter tuning using GridSearchCV\n",
        "grid_search = GridSearchCV(estimator=model, param_grid=param_grid, cv=kfold, scoring=scoring)\n",
        "grid_search.fit(X_train_selected_anova, y_train)\n",
        "\n",
        "# Print the best hyperparameter values\n",
        "best_params = grid_search.best_params_\n",
        "best_score = grid_search.best_score_\n",
        "print(\"Best Hyperparameters with feature selection ANOVA:\", best_params)\n",
        "\n",
        "# Prediction on test set\n",
        "y_pred = grid_search.best_estimator_.predict(X_test_selected_anova)\n",
        "accuracy = round( metrics.accuracy_score(y_test, y_pred) * 100, 2 )\n",
        "\n",
        "# Compare the accuracies\n",
        "print(\"Best score accuracy for Support Vector Machine hyperparameter tuning with feature selection ANOVA:\", accuracy)"
      ]
    },
    {
      "cell_type": "code",
      "execution_count": null,
      "metadata": {
        "colab": {
          "base_uri": "https://localhost:8080/"
        },
        "id": "TErFVx1nQVCE",
        "outputId": "4390d385-48b1-463a-ce66-7e65b94d7190"
      },
      "outputs": [
        {
          "name": "stdout",
          "output_type": "stream",
          "text": [
            "Best Hyperparameters with feature selection Univariate: {'C': 10, 'gamma': 0.1}\n",
            "Best score accuracy for Support Vector Machine hyperparameter tuning with feature selection Univariate: 85.71\n"
          ]
        }
      ],
      "source": [
        "# Perform hyperparameter tuning using GridSearchCV\n",
        "grid_search = GridSearchCV(estimator=model, param_grid=param_grid, cv=kfold, scoring=scoring)\n",
        "grid_search.fit(X_train_selected_univariate, y_train)\n",
        "\n",
        "# Print the best hyperparameter values\n",
        "best_params = grid_search.best_params_\n",
        "best_score = grid_search.best_score_\n",
        "print(\"Best Hyperparameters with feature selection Univariate:\", best_params)\n",
        "\n",
        "# Prediction on test set\n",
        "y_pred = grid_search.best_estimator_.predict(X_test_selected_univariate)\n",
        "accuracy = round( metrics.accuracy_score(y_test, y_pred) * 100, 2 )\n",
        "\n",
        "# Compare the accuracies\n",
        "print(\"Best score accuracy for Support Vector Machine hyperparameter tuning with feature selection Univariate:\", accuracy)"
      ]
    },
    {
      "cell_type": "code",
      "execution_count": null,
      "metadata": {
        "colab": {
          "base_uri": "https://localhost:8080/"
        },
        "id": "-KuZKYFVQVCE",
        "outputId": "d95ea453-0205-4628-85cc-9eb6294b9ea8"
      },
      "outputs": [
        {
          "name": "stdout",
          "output_type": "stream",
          "text": [
            "Best Hyperparameters with feature selection RFE: {'C': 10, 'gamma': 1}\n",
            "Best score accuracy for Support Vector Machine hyperparameter tuning with feature selection RFE: 82.86\n"
          ]
        }
      ],
      "source": [
        "# Perform hyperparameter tuning using GridSearchCV\n",
        "grid_search = GridSearchCV(estimator=model, param_grid=param_grid, cv=kfold, scoring=scoring)\n",
        "grid_search.fit(X_train_selected_rfe, y_train)\n",
        "\n",
        "# Print the best hyperparameter values\n",
        "best_params = grid_search.best_params_\n",
        "best_score = grid_search.best_score_\n",
        "print(\"Best Hyperparameters with feature selection RFE:\", best_params)\n",
        "\n",
        "# Prediction on test set\n",
        "y_pred = grid_search.best_estimator_.predict(X_test_selected_rfe)\n",
        "accuracy = round( metrics.accuracy_score(y_test, y_pred) * 100, 2 )\n",
        "\n",
        "# Compare the accuracies\n",
        "print(\"Best score accuracy for Support Vector Machine hyperparameter tuning with feature selection RFE:\", accuracy)"
      ]
    },
    {
      "cell_type": "code",
      "execution_count": null,
      "metadata": {
        "colab": {
          "base_uri": "https://localhost:8080/"
        },
        "id": "SYJZ9MgDQVCE",
        "outputId": "586e4f1d-d704-4d44-db90-0fcfaf717f7c"
      },
      "outputs": [
        {
          "name": "stdout",
          "output_type": "stream",
          "text": [
            "Best Hyperparameters with feature reduction PCA: {'C': 1, 'gamma': 0.1}\n",
            "Best score accuracy for Support Vector Machine hyperparameter tuning with feature reduction PCA: 88.57\n"
          ]
        }
      ],
      "source": [
        "# Perform hyperparameter tuning using GridSearchCV\n",
        "grid_search = GridSearchCV(estimator=model, param_grid=param_grid, cv=kfold, scoring=scoring)\n",
        "grid_search.fit(X_train_reduced_pca, y_train)\n",
        "\n",
        "# Print the best hyperparameter values\n",
        "best_params = grid_search.best_params_\n",
        "best_score = grid_search.best_score_\n",
        "print(\"Best Hyperparameters with feature reduction PCA:\", best_params)\n",
        "\n",
        "# Prediction on test set\n",
        "y_pred = grid_search.best_estimator_.predict(X_test_reduced_pca)\n",
        "accuracy = round( metrics.accuracy_score(y_test, y_pred) * 100, 2 )\n",
        "\n",
        "# Compare the accuracies\n",
        "print(\"Best score accuracy for Support Vector Machine hyperparameter tuning with feature reduction PCA:\", accuracy)"
      ]
    },
    {
      "cell_type": "code",
      "execution_count": null,
      "metadata": {
        "colab": {
          "base_uri": "https://localhost:8080/"
        },
        "id": "1iGj08xYQVCF",
        "outputId": "3739a215-1911-4f72-a767-cfaaf7f39e60"
      },
      "outputs": [
        {
          "name": "stdout",
          "output_type": "stream",
          "text": [
            "Best Hyperparameters with feature reduction LDA: {'C': 0.1, 'gamma': 0.1}\n",
            "Best score accuracy for Support Vector Machine hyperparameter tuning with feature reduction LDA: 71.43\n"
          ]
        }
      ],
      "source": [
        "# Perform hyperparameter tuning using GridSearchCV\n",
        "grid_search = GridSearchCV(estimator=model, param_grid=param_grid, cv=kfold, scoring=scoring)\n",
        "grid_search.fit(X_train_reduced_lda, y_train)\n",
        "\n",
        "# Print the best hyperparameter values\n",
        "best_params = grid_search.best_params_\n",
        "best_score = grid_search.best_score_\n",
        "print(\"Best Hyperparameters with feature reduction LDA:\", best_params)\n",
        "\n",
        "# Prediction on test set\n",
        "y_pred = grid_search.best_estimator_.predict(X_test_reduced_lda)\n",
        "accuracy = round( metrics.accuracy_score(y_test, y_pred) * 100, 2 )\n",
        "\n",
        "# Compare the accuracies\n",
        "print(\"Best score accuracy for Support Vector Machine hyperparameter tuning with feature reduction LDA:\", accuracy)"
      ]
    },
    {
      "cell_type": "markdown",
      "metadata": {
        "id": "I7Y3lRgVQxmT"
      },
      "source": [
        "####K-Nearest Neighbors"
      ]
    },
    {
      "cell_type": "code",
      "execution_count": null,
      "metadata": {
        "colab": {
          "base_uri": "https://localhost:8080/"
        },
        "id": "X6WZuKx1QxmZ",
        "outputId": "709df2a4-1e63-4720-abbd-16d582cb5960"
      },
      "outputs": [
        {
          "name": "stdout",
          "output_type": "stream",
          "text": [
            "Accuracy with all feature: 65.71\n"
          ]
        }
      ],
      "source": [
        "# fit the model with all feature\n",
        "model = KNeighborsClassifier()\n",
        "model.fit(X_train, y_train)\n",
        "# evaluate the model\n",
        "yhat = model.predict(X_test)\n",
        "# evaluate predictions\n",
        "accuracy = accuracy_score(y_test, yhat)\n",
        "print('Accuracy with all feature: %.2f' % (accuracy*100))"
      ]
    },
    {
      "cell_type": "code",
      "execution_count": null,
      "metadata": {
        "colab": {
          "base_uri": "https://localhost:8080/"
        },
        "id": "om5weSf1Qxma",
        "outputId": "0c285927-d7d4-4ea1-aea9-ac7cd583d925"
      },
      "outputs": [
        {
          "name": "stdout",
          "output_type": "stream",
          "text": [
            "Evaluate model with feature selection\n",
            "Accuracy with feature selection ANOVA: 74.29\n",
            "Accuracy with feature selection Univariate Selection: 77.14\n",
            "Accuracy with feature selection Recursive Feature Elimination: 80.00\n"
          ]
        }
      ],
      "source": [
        "#Evaluate model with feature selection\n",
        "print('Evaluate model with feature selection')\n",
        "\n",
        "# fit the model with feature selection ANOVA\n",
        "model.fit(X_train_selected_anova, y_train)\n",
        "# evaluate the model\n",
        "yhat = model.predict(X_test_selected_anova)\n",
        "# evaluate predictions\n",
        "accuracy = accuracy_score(y_test, yhat)\n",
        "print('Accuracy with feature selection ANOVA: %.2f' % (accuracy*100))\n",
        "\n",
        "# fit the model with feature selection univariate\n",
        "model.fit(X_train_selected_univariate, y_train)\n",
        "# evaluate the model\n",
        "yhat = model.predict(X_test_selected_univariate)\n",
        "# evaluate predictions\n",
        "accuracy = accuracy_score(y_test, yhat)\n",
        "print('Accuracy with feature selection Univariate Selection: %.2f' % (accuracy*100))\n",
        "\n",
        "# fit the model with Recursive Feature Elimination\n",
        "model.fit(X_train_selected_rfe, y_train)\n",
        "# evaluate the model\n",
        "yhat = model.predict(X_test_selected_rfe)\n",
        "# evaluate predictions\n",
        "accuracy = accuracy_score(y_test, yhat)\n",
        "print('Accuracy with feature selection Recursive Feature Elimination: %.2f' % (accuracy*100))"
      ]
    },
    {
      "cell_type": "code",
      "execution_count": null,
      "metadata": {
        "id": "g0wAhOm1Qxma"
      },
      "outputs": [],
      "source": [
        "# Define hyperparameter\n",
        "param_grid = {\n",
        "    'n_neighbors': [3, 5, 7, 9],\n",
        "    'weights': ['uniform', 'distance']\n",
        "}"
      ]
    },
    {
      "cell_type": "code",
      "execution_count": null,
      "metadata": {
        "colab": {
          "base_uri": "https://localhost:8080/"
        },
        "id": "OU0Dw9N3Qxma",
        "outputId": "ef658dba-4b72-49b4-ca95-1199dab074b6"
      },
      "outputs": [
        {
          "name": "stdout",
          "output_type": "stream",
          "text": [
            "Best Hyperparameters with feature selection ANOVA: {'n_neighbors': 5, 'weights': 'distance'}\n",
            "Best score accuracy for K-Nearest Neighbors hyperparameter tuning with feature selection ANOVA: 74.29\n"
          ]
        }
      ],
      "source": [
        "# Perform hyperparameter tuning using GridSearchCV\n",
        "grid_search = GridSearchCV(estimator=model, param_grid=param_grid, cv=kfold, scoring=scoring)\n",
        "grid_search.fit(X_train_selected_anova, y_train)\n",
        "\n",
        "# Print the best hyperparameter values\n",
        "best_params = grid_search.best_params_\n",
        "best_score = grid_search.best_score_\n",
        "print(\"Best Hyperparameters with feature selection ANOVA:\", best_params)\n",
        "\n",
        "# Prediction on test set\n",
        "y_pred = grid_search.best_estimator_.predict(X_test_selected_anova)\n",
        "accuracy = round( metrics.accuracy_score(y_test, y_pred) * 100, 2 )\n",
        "\n",
        "# Compare the accuracies\n",
        "print(\"Best score accuracy for K-Nearest Neighbors hyperparameter tuning with feature selection ANOVA:\", accuracy)"
      ]
    },
    {
      "cell_type": "code",
      "execution_count": null,
      "metadata": {
        "colab": {
          "base_uri": "https://localhost:8080/"
        },
        "id": "rVE5uDwLQxma",
        "outputId": "83bcc648-36d3-4aa4-95d0-9063d4d92b5e"
      },
      "outputs": [
        {
          "name": "stdout",
          "output_type": "stream",
          "text": [
            "Best Hyperparameters with feature selection Univariate: {'n_neighbors': 5, 'weights': 'distance'}\n",
            "Best score accuracy for K-Nearest Neighbors hyperparameter tuning with feature selection Univariate: 77.14\n"
          ]
        }
      ],
      "source": [
        "# Perform hyperparameter tuning using GridSearchCV\n",
        "grid_search = GridSearchCV(estimator=model, param_grid=param_grid, cv=kfold, scoring=scoring)\n",
        "grid_search.fit(X_train_selected_univariate, y_train)\n",
        "\n",
        "# Print the best hyperparameter values\n",
        "best_params = grid_search.best_params_\n",
        "best_score = grid_search.best_score_\n",
        "print(\"Best Hyperparameters with feature selection Univariate:\", best_params)\n",
        "\n",
        "# Prediction on test set\n",
        "y_pred = grid_search.best_estimator_.predict(X_test_selected_univariate)\n",
        "accuracy = round( metrics.accuracy_score(y_test, y_pred) * 100, 2 )\n",
        "\n",
        "# Compare the accuracies\n",
        "print(\"Best score accuracy for K-Nearest Neighbors hyperparameter tuning with feature selection Univariate:\", accuracy)"
      ]
    },
    {
      "cell_type": "code",
      "execution_count": null,
      "metadata": {
        "colab": {
          "base_uri": "https://localhost:8080/"
        },
        "id": "1susAvJiQxma",
        "outputId": "2681700c-c694-46c3-ab01-e0b0dcd045d2"
      },
      "outputs": [
        {
          "name": "stdout",
          "output_type": "stream",
          "text": [
            "Best Hyperparameters with feature selection RFE: {'n_neighbors': 7, 'weights': 'uniform'}\n",
            "Best score accuracy for K-Nearest Neighbors hyperparameter tuning with feature selection RFE: 80.0\n"
          ]
        }
      ],
      "source": [
        "# Perform hyperparameter tuning using GridSearchCV\n",
        "grid_search = GridSearchCV(estimator=model, param_grid=param_grid, cv=kfold, scoring=scoring)\n",
        "grid_search.fit(X_train_selected_rfe, y_train)\n",
        "\n",
        "# Print the best hyperparameter values\n",
        "best_params = grid_search.best_params_\n",
        "best_score = grid_search.best_score_\n",
        "print(\"Best Hyperparameters with feature selection RFE:\", best_params)\n",
        "\n",
        "# Prediction on test set\n",
        "y_pred = grid_search.best_estimator_.predict(X_test_selected_rfe)\n",
        "accuracy = round( metrics.accuracy_score(y_test, y_pred) * 100, 2 )\n",
        "\n",
        "# Compare the accuracies\n",
        "print(\"Best score accuracy for K-Nearest Neighbors hyperparameter tuning with feature selection RFE:\", accuracy)"
      ]
    },
    {
      "cell_type": "code",
      "execution_count": null,
      "metadata": {
        "colab": {
          "base_uri": "https://localhost:8080/"
        },
        "id": "fRu9oKTrQxmb",
        "outputId": "ff99fd3a-996f-4211-94fb-38b063519306"
      },
      "outputs": [
        {
          "name": "stdout",
          "output_type": "stream",
          "text": [
            "Best Hyperparameters with feature reduction PCA: {'n_neighbors': 9, 'weights': 'uniform'}\n",
            "Best score accuracy for K-Nearest Neighbors hyperparameter tuning with feature reduction PCA: 88.57\n"
          ]
        }
      ],
      "source": [
        "# Perform hyperparameter tuning using GridSearchCV\n",
        "grid_search = GridSearchCV(estimator=model, param_grid=param_grid, cv=kfold, scoring=scoring)\n",
        "grid_search.fit(X_train_reduced_pca, y_train)\n",
        "\n",
        "# Print the best hyperparameter values\n",
        "best_params = grid_search.best_params_\n",
        "best_score = grid_search.best_score_\n",
        "print(\"Best Hyperparameters with feature reduction PCA:\", best_params)\n",
        "\n",
        "# Prediction on test set\n",
        "y_pred = grid_search.best_estimator_.predict(X_test_reduced_pca)\n",
        "accuracy = round( metrics.accuracy_score(y_test, y_pred) * 100, 2 )\n",
        "\n",
        "# Compare the accuracies\n",
        "print(\"Best score accuracy for K-Nearest Neighbors hyperparameter tuning with feature reduction PCA:\", accuracy)"
      ]
    },
    {
      "cell_type": "code",
      "execution_count": null,
      "metadata": {
        "colab": {
          "base_uri": "https://localhost:8080/"
        },
        "id": "YZTTEfVWQxmb",
        "outputId": "61cd8676-55ea-4221-b4d9-f4bb1b6a53fa"
      },
      "outputs": [
        {
          "name": "stdout",
          "output_type": "stream",
          "text": [
            "Best Hyperparameters with feature reduction LDA: {'n_neighbors': 3, 'weights': 'uniform'}\n",
            "Best score accuracy for K-Nearest Neighbors hyperparameter tuning with feature reduction LDA: 71.43\n"
          ]
        }
      ],
      "source": [
        "# Perform hyperparameter tuning using GridSearchCV\n",
        "grid_search = GridSearchCV(estimator=model, param_grid=param_grid, cv=kfold, scoring=scoring)\n",
        "grid_search.fit(X_train_reduced_lda, y_train)\n",
        "\n",
        "# Print the best hyperparameter values\n",
        "best_params = grid_search.best_params_\n",
        "best_score = grid_search.best_score_\n",
        "print(\"Best Hyperparameters with feature reduction LDA:\", best_params)\n",
        "\n",
        "# Prediction on test set\n",
        "y_pred = grid_search.best_estimator_.predict(X_test_reduced_lda)\n",
        "accuracy = round( metrics.accuracy_score(y_test, y_pred) * 100, 2 )\n",
        "\n",
        "# Compare the accuracies\n",
        "print(\"Best score accuracy for K-Nearest Neighbors hyperparameter tuning with feature reduction LDA:\", accuracy)"
      ]
    },
    {
      "cell_type": "markdown",
      "metadata": {
        "id": "viO_CB6MRnt_"
      },
      "source": [
        "####Random Forest"
      ]
    },
    {
      "cell_type": "code",
      "execution_count": null,
      "metadata": {
        "colab": {
          "base_uri": "https://localhost:8080/"
        },
        "id": "fl8UaUKaRnuG",
        "outputId": "3c88e882-e276-44cd-d483-3ce0ba2b2d61"
      },
      "outputs": [
        {
          "name": "stdout",
          "output_type": "stream",
          "text": [
            "Accuracy with all feature: 88.57\n"
          ]
        }
      ],
      "source": [
        "# fit the model with all feature\n",
        "model = RandomForestClassifier()\n",
        "model.fit(X_train, y_train)\n",
        "# evaluate the model\n",
        "yhat = model.predict(X_test)\n",
        "# evaluate predictions\n",
        "accuracy = accuracy_score(y_test, yhat)\n",
        "print('Accuracy with all feature: %.2f' % (accuracy*100))"
      ]
    },
    {
      "cell_type": "code",
      "execution_count": null,
      "metadata": {
        "colab": {
          "base_uri": "https://localhost:8080/"
        },
        "id": "GydLLbyHRnuH",
        "outputId": "3635d0a0-c627-4907-dc08-d998562a3a50"
      },
      "outputs": [
        {
          "name": "stdout",
          "output_type": "stream",
          "text": [
            "Evaluate model with feature selection\n",
            "Accuracy with feature selection ANOVA: 85.71\n",
            "Accuracy with feature selection Univariate Selection: 82.86\n",
            "Accuracy with feature selection Recursive Feature Elimination: 80.00\n"
          ]
        }
      ],
      "source": [
        "#Evaluate model with feature selection\n",
        "print('Evaluate model with feature selection')\n",
        "\n",
        "# fit the model with feature selection ANOVA\n",
        "model.fit(X_train_selected_anova, y_train)\n",
        "# evaluate the model\n",
        "yhat = model.predict(X_test_selected_anova)\n",
        "# evaluate predictions\n",
        "accuracy = accuracy_score(y_test, yhat)\n",
        "print('Accuracy with feature selection ANOVA: %.2f' % (accuracy*100))\n",
        "\n",
        "# fit the model with feature selection univariate\n",
        "model.fit(X_train_selected_univariate, y_train)\n",
        "# evaluate the model\n",
        "yhat = model.predict(X_test_selected_univariate)\n",
        "# evaluate predictions\n",
        "accuracy = accuracy_score(y_test, yhat)\n",
        "print('Accuracy with feature selection Univariate Selection: %.2f' % (accuracy*100))\n",
        "\n",
        "# fit the model with Recursive Feature Elimination\n",
        "model.fit(X_train_selected_rfe, y_train)\n",
        "# evaluate the model\n",
        "yhat = model.predict(X_test_selected_rfe)\n",
        "# evaluate predictions\n",
        "accuracy = accuracy_score(y_test, yhat)\n",
        "print('Accuracy with feature selection Recursive Feature Elimination: %.2f' % (accuracy*100))"
      ]
    },
    {
      "cell_type": "code",
      "execution_count": null,
      "metadata": {
        "id": "z7bKFx1CRnuH"
      },
      "outputs": [],
      "source": [
        "# Define hyperparameter\n",
        "param_grid = {\n",
        "    'n_estimators': [50, 100, 200],\n",
        "    'max_depth': [None, 10, 20]\n",
        "}"
      ]
    },
    {
      "cell_type": "code",
      "execution_count": null,
      "metadata": {
        "colab": {
          "base_uri": "https://localhost:8080/"
        },
        "id": "uu6W6bLYRnuH",
        "outputId": "91e8d2c9-746d-488c-df0a-f13d3b4abe0c"
      },
      "outputs": [
        {
          "name": "stdout",
          "output_type": "stream",
          "text": [
            "Best Hyperparameters with feature selection ANOVA: {'max_depth': None, 'n_estimators': 100}\n",
            "Best score accuracy for Random Forest hyperparameter tuning with feature selection ANOVA: 82.86\n"
          ]
        }
      ],
      "source": [
        "# Perform hyperparameter tuning using GridSearchCV\n",
        "grid_search = GridSearchCV(estimator=model, param_grid=param_grid, cv=kfold, scoring=scoring)\n",
        "grid_search.fit(X_train_selected_anova, y_train)\n",
        "\n",
        "# Print the best hyperparameter values\n",
        "best_params = grid_search.best_params_\n",
        "best_score = grid_search.best_score_\n",
        "print(\"Best Hyperparameters with feature selection ANOVA:\", best_params)\n",
        "\n",
        "# Prediction on test set\n",
        "y_pred = grid_search.best_estimator_.predict(X_test_selected_anova)\n",
        "accuracy = round( metrics.accuracy_score(y_test, y_pred) * 100, 2 )\n",
        "\n",
        "# Compare the accuracies\n",
        "print(\"Best score accuracy for Random Forest hyperparameter tuning with feature selection ANOVA:\", accuracy)"
      ]
    },
    {
      "cell_type": "code",
      "execution_count": null,
      "metadata": {
        "colab": {
          "base_uri": "https://localhost:8080/"
        },
        "id": "-W1f73QZRnuI",
        "outputId": "a6a7445a-a608-4223-8270-9d435c8c3f81"
      },
      "outputs": [
        {
          "name": "stdout",
          "output_type": "stream",
          "text": [
            "Best Hyperparameters with feature selection Univariate: {'max_depth': 20, 'n_estimators': 50}\n",
            "Best score accuracy for Random Forest hyperparameter tuning with feature selection Univariate: 85.71\n"
          ]
        }
      ],
      "source": [
        "# Perform hyperparameter tuning using GridSearchCV\n",
        "grid_search = GridSearchCV(estimator=model, param_grid=param_grid, cv=kfold, scoring=scoring)\n",
        "grid_search.fit(X_train_selected_univariate, y_train)\n",
        "\n",
        "# Print the best hyperparameter values\n",
        "best_params = grid_search.best_params_\n",
        "best_score = grid_search.best_score_\n",
        "print(\"Best Hyperparameters with feature selection Univariate:\", best_params)\n",
        "\n",
        "# Prediction on test set\n",
        "y_pred = grid_search.best_estimator_.predict(X_test_selected_univariate)\n",
        "accuracy = round( metrics.accuracy_score(y_test, y_pred) * 100, 2 )\n",
        "\n",
        "# Compare the accuracies\n",
        "print(\"Best score accuracy for Random Forest hyperparameter tuning with feature selection Univariate:\", accuracy)"
      ]
    },
    {
      "cell_type": "code",
      "execution_count": null,
      "metadata": {
        "colab": {
          "base_uri": "https://localhost:8080/"
        },
        "id": "_KWK31lwRnuI",
        "outputId": "24a15b37-a29b-41fe-c7f7-8ab2bbdfed0f"
      },
      "outputs": [
        {
          "name": "stdout",
          "output_type": "stream",
          "text": [
            "Best Hyperparameters with feature selection RFE: {'max_depth': None, 'n_estimators': 50}\n",
            "Best score accuracy for Random Forest hyperparameter tuning with feature selection RFE: 85.71\n"
          ]
        }
      ],
      "source": [
        "# Perform hyperparameter tuning using GridSearchCV\n",
        "grid_search = GridSearchCV(estimator=model, param_grid=param_grid, cv=kfold, scoring=scoring)\n",
        "grid_search.fit(X_train_selected_rfe, y_train)\n",
        "\n",
        "# Print the best hyperparameter values\n",
        "best_params = grid_search.best_params_\n",
        "best_score = grid_search.best_score_\n",
        "print(\"Best Hyperparameters with feature selection RFE:\", best_params)\n",
        "\n",
        "# Prediction on test set\n",
        "y_pred = grid_search.best_estimator_.predict(X_test_selected_rfe)\n",
        "accuracy = round( metrics.accuracy_score(y_test, y_pred) * 100, 2 )\n",
        "\n",
        "# Compare the accuracies\n",
        "print(\"Best score accuracy for Random Forest hyperparameter tuning with feature selection RFE:\", accuracy)"
      ]
    },
    {
      "cell_type": "code",
      "execution_count": null,
      "metadata": {
        "colab": {
          "base_uri": "https://localhost:8080/"
        },
        "id": "eE_wCNOPRnuI",
        "outputId": "115ac8b2-f5ec-422d-fc51-ea3b3d750b84"
      },
      "outputs": [
        {
          "name": "stdout",
          "output_type": "stream",
          "text": [
            "Best Hyperparameters with feature reduction PCA: {'max_depth': 20, 'n_estimators': 200}\n",
            "Best score accuracy for Random Forest hyperparameter tuning with feature reduction PCA: 88.57\n"
          ]
        }
      ],
      "source": [
        "# Perform hyperparameter tuning using GridSearchCV\n",
        "grid_search = GridSearchCV(estimator=model, param_grid=param_grid, cv=kfold, scoring=scoring)\n",
        "grid_search.fit(X_train_reduced_pca, y_train)\n",
        "\n",
        "# Print the best hyperparameter values\n",
        "best_params = grid_search.best_params_\n",
        "best_score = grid_search.best_score_\n",
        "print(\"Best Hyperparameters with feature reduction PCA:\", best_params)\n",
        "\n",
        "# Prediction on test set\n",
        "y_pred = grid_search.best_estimator_.predict(X_test_reduced_pca)\n",
        "accuracy = round( metrics.accuracy_score(y_test, y_pred) * 100, 2 )\n",
        "\n",
        "# Compare the accuracies\n",
        "print(\"Best score accuracy for Random Forest hyperparameter tuning with feature reduction PCA:\", accuracy)"
      ]
    },
    {
      "cell_type": "code",
      "execution_count": null,
      "metadata": {
        "colab": {
          "base_uri": "https://localhost:8080/"
        },
        "id": "5jbzZZ7jRnuI",
        "outputId": "672d6e57-e3a1-4d8f-bf97-ead1e149126b"
      },
      "outputs": [
        {
          "name": "stdout",
          "output_type": "stream",
          "text": [
            "Best Hyperparameters with feature reduction LDA: {'max_depth': None, 'n_estimators': 50}\n",
            "Best score accuracy for Random Forest hyperparameter tuning with feature reduction LDA: 71.43\n"
          ]
        }
      ],
      "source": [
        "# Perform hyperparameter tuning using GridSearchCV\n",
        "grid_search = GridSearchCV(estimator=model, param_grid=param_grid, cv=kfold, scoring=scoring)\n",
        "grid_search.fit(X_train_reduced_lda, y_train)\n",
        "\n",
        "# Print the best hyperparameter values\n",
        "best_params = grid_search.best_params_\n",
        "best_score = grid_search.best_score_\n",
        "print(\"Best Hyperparameters with feature reduction LDA:\", best_params)\n",
        "\n",
        "# Prediction on test set\n",
        "y_pred = grid_search.best_estimator_.predict(X_test_reduced_lda)\n",
        "accuracy = round( metrics.accuracy_score(y_test, y_pred) * 100, 2 )\n",
        "\n",
        "# Compare the accuracies\n",
        "print(\"Best score accuracy for Random Forest hyperparameter tuning with feature reduction LDA:\", accuracy)"
      ]
    },
    {
      "cell_type": "markdown",
      "metadata": {
        "id": "L-GU-4SeapcF"
      },
      "source": [
        "# `2. Toxicity Dataset`"
      ]
    },
    {
      "cell_type": "markdown",
      "metadata": {
        "id": "hDQob-6OapcM"
      },
      "source": [
        "### Data Cleaning"
      ]
    },
    {
      "cell_type": "code",
      "execution_count": null,
      "metadata": {
        "id": "2mDklmG4apcM"
      },
      "outputs": [],
      "source": [
        "import numpy as np\n",
        "import pandas as pd\n",
        "from pandas import Series, DataFrame\n",
        "from numpy import arange\n",
        "\n",
        "import plotly.graph_objs as go\n",
        "from plotly.offline import download_plotlyjs, init_notebook_mode, plot,iplot\n",
        "init_notebook_mode(connected=True)\n",
        "\n",
        "import seaborn as sns\n",
        "import matplotlib.pyplot as plt\n",
        "\n",
        "from scipy import stats\n",
        "%matplotlib inline\n",
        "from sklearn.preprocessing import LabelEncoder, MinMaxScaler\n",
        "from sklearn.model_selection import train_test_split\n",
        "\n",
        "import warnings\n",
        "warnings.filterwarnings(\"ignore\")\n",
        "\n",
        "from google.colab import drive\n",
        "drive.mount('/content/drive')"
      ]
    },
    {
      "cell_type": "markdown",
      "metadata": {
        "id": "rjr6w8KEapcM"
      },
      "source": [
        "####Load Dataset"
      ]
    },
    {
      "cell_type": "code",
      "execution_count": null,
      "metadata": {
        "id": "xpWgVjFkapcM"
      },
      "outputs": [],
      "source": [
        "path = \"/content/drive/MyDrive/Colab Notebooks/Dataset/\"\n",
        "df_tc = pd.read_csv(path +'Toxicity/toxicity.csv')"
      ]
    },
    {
      "cell_type": "markdown",
      "metadata": {
        "id": "e_iHkzkoapcM"
      },
      "source": [
        "####Show top 10 Data"
      ]
    },
    {
      "cell_type": "code",
      "execution_count": null,
      "metadata": {
        "id": "KNJd6PqEapcM"
      },
      "outputs": [],
      "source": [
        "df_tc.head(10)"
      ]
    },
    {
      "cell_type": "code",
      "execution_count": null,
      "metadata": {
        "id": "qzZlPmHIapcM"
      },
      "outputs": [],
      "source": [
        "df_tc.shape"
      ]
    },
    {
      "cell_type": "code",
      "execution_count": null,
      "metadata": {
        "id": "47UelQl1apcN"
      },
      "outputs": [],
      "source": [
        "df_tc.groupby('Class').describe()"
      ]
    },
    {
      "cell_type": "code",
      "execution_count": null,
      "metadata": {
        "id": "ZLn01jCqapcN"
      },
      "outputs": [],
      "source": [
        "df_tc.info()"
      ]
    },
    {
      "cell_type": "markdown",
      "metadata": {
        "id": "x_pWINjsapcN"
      },
      "source": [
        "#### Identify Columns That Null Value and Remove Null Value"
      ]
    },
    {
      "cell_type": "code",
      "execution_count": null,
      "metadata": {
        "id": "uxvGHk3napcN"
      },
      "outputs": [],
      "source": [
        "# Check for null values in the entire dataset\n",
        "null_counts = df_tc.isnull().sum()\n",
        "\n",
        "# Display columns with null values and their counts\n",
        "print(\"Columns with null values:\")\n",
        "print(null_counts[null_counts > 0])\n",
        "\n",
        "if len(null_counts[null_counts > 0]) != 0 :\n",
        "  # Remove rows with any null values\n",
        "  df_tc = df_tc.dropna()"
      ]
    },
    {
      "cell_type": "markdown",
      "metadata": {
        "id": "WpkJD7K4apcN"
      },
      "source": [
        " #### Identify Columns That Contain a Single Value"
      ]
    },
    {
      "cell_type": "code",
      "execution_count": null,
      "metadata": {
        "id": "0uqaXFE1apcN"
      },
      "outputs": [],
      "source": [
        "#checking for quasi constants\n",
        "df_tc.nunique()"
      ]
    },
    {
      "cell_type": "markdown",
      "metadata": {
        "id": "zPrlxARMapcN"
      },
      "source": [
        " #### Delete Columns That Contain a Single Value"
      ]
    },
    {
      "cell_type": "code",
      "execution_count": null,
      "metadata": {
        "id": "cY5Nsf9eapcO"
      },
      "outputs": [],
      "source": [
        "print(df_tc.shape)\n",
        "# get number of unique values for each column\n",
        "counts = df_tc.nunique()\n",
        "# record columns to delete\n",
        "to_del = [i for i,v in enumerate(counts) if v == 1]\n",
        "print(df_tc.columns[to_del])\n",
        "# drop useless columns\n",
        "df_tc.drop(to_del, axis=1, inplace=True)\n",
        "print(df_tc.shape)"
      ]
    },
    {
      "cell_type": "markdown",
      "metadata": {
        "id": "R7QslQkuapcO"
      },
      "source": [
        "#### Identify Rows That Contain Duplicate Data and Delete Rows"
      ]
    },
    {
      "cell_type": "code",
      "execution_count": null,
      "metadata": {
        "id": "Pr2kjAXVapcO"
      },
      "outputs": [],
      "source": [
        "# calculate duplicates\n",
        "dups = df_tc.duplicated()\n",
        "# report if there are any duplicates\n",
        "print(dups.any())\n",
        "# list all duplicate rows\n",
        "print(df_tc[dups])\n",
        "if dups.any() == True:\n",
        "  df_tc.drop_duplicates(inplace=True)\n",
        "  print(df_tc.shape)\n"
      ]
    },
    {
      "cell_type": "markdown",
      "metadata": {
        "id": "gusWC8ZZapcO"
      },
      "source": [
        "####Consider Columns That Have Very Few Values"
      ]
    },
    {
      "cell_type": "code",
      "execution_count": null,
      "metadata": {
        "id": "UVMuGt-wapcO"
      },
      "outputs": [],
      "source": [
        "# summarize the number of unique values in each column\n",
        "for i in range(df_tc.shape[1]):\n",
        "  num = len(df_tc.iloc[:, i].unique())\n",
        "  percentage = float(num) / df_tc.shape[0] * 100\n",
        "  if percentage < 1:\n",
        "    print('%d, %d, %.1f%%' % (i, num, percentage))"
      ]
    },
    {
      "cell_type": "code",
      "execution_count": null,
      "metadata": {
        "id": "O4-LskitapcO"
      },
      "outputs": [],
      "source": [
        "print(df_tc.shape)\n",
        "# get number of unique values for each column\n",
        "counts = df_tc.nunique()\n",
        "# record columns to delete\n",
        "to_del = [i for i,v in enumerate(counts) if (float(v)/df_tc.shape[0]*100) < 1]\n",
        "print(df_tc.columns[to_del])\n",
        "# drop useless columns\n",
        "df_tc.drop(to_del, axis=1, inplace=True)\n",
        "print(df_tc.shape)"
      ]
    },
    {
      "cell_type": "markdown",
      "metadata": {
        "id": "5FhtMjLqapcO"
      },
      "source": [
        "### Plot Histogram"
      ]
    },
    {
      "cell_type": "code",
      "execution_count": null,
      "metadata": {
        "id": "-MngSXkWapcO"
      },
      "outputs": [],
      "source": [
        "selected_columns = df_tc.iloc[:, :10]\n",
        "\n",
        "# selected_columns = df_tc.iloc[:, :-2]\n",
        "selected_columns.hist(bins=10, linewidth=1.2)\n",
        "fig = plt.gcf()\n",
        "fig.set_size_inches(25,20)\n",
        "plt.show()"
      ]
    },
    {
      "cell_type": "markdown",
      "metadata": {
        "id": "1QSfYM7dapcO"
      },
      "source": [
        "### Splitting The Data into Training And Testing Dataset"
      ]
    },
    {
      "cell_type": "code",
      "execution_count": null,
      "metadata": {
        "id": "xzGGZFaHapcP"
      },
      "outputs": [],
      "source": [
        "# retrieve numpy array\n",
        "dataset = df_tc.values\n",
        "# split into input (X) and output (y) variables\n",
        "X = dataset[:, :-1]\n",
        "y = dataset[:,-1]\n",
        "\n",
        "# Normalisasi\n",
        "scaler = MinMaxScaler()\n",
        "X = scaler.fit_transform(X)\n",
        "\n",
        "label_encoder = LabelEncoder()\n",
        "y = label_encoder.fit_transform(y)\n",
        "\n",
        "# split into train and test sets\n",
        "X_train, X_test, y_train, y_test = train_test_split(X, y, test_size=0.20, random_state=42)"
      ]
    },
    {
      "cell_type": "markdown",
      "metadata": {
        "id": "ergk9ydfapcP"
      },
      "source": [
        "###Feature Selection"
      ]
    },
    {
      "cell_type": "code",
      "execution_count": null,
      "metadata": {
        "id": "Tz-X2RoiapcP"
      },
      "outputs": [],
      "source": [
        "from sklearn.feature_selection import SelectKBest, chi2, f_classif\n",
        "from sklearn.ensemble import ExtraTreesClassifier\n",
        "from sklearn.feature_selection import RFE\n",
        "from sklearn.ensemble import RandomForestClassifier\n",
        "k_best = 10  # Choose the number of top features to select"
      ]
    },
    {
      "cell_type": "markdown",
      "metadata": {
        "id": "W1YgjAceapcP"
      },
      "source": [
        "#### ANOVA F-test Features"
      ]
    },
    {
      "cell_type": "code",
      "execution_count": null,
      "metadata": {
        "id": "0dpjb4nZapcP"
      },
      "outputs": [],
      "source": [
        "# Create SelectKBest object using chi2 as the score function\n",
        "best_features_anova = SelectKBest(score_func=f_classif, k=k_best).fit(X_train, y_train)\n",
        "selected_features_indices = best_features_anova.get_support(indices=True)\n",
        "\n",
        "# Get the selected column names\n",
        "selected_column_names = [df_tc.columns[i] for i in selected_features_indices]\n",
        "\n",
        "print(f\"Number of selected features ANOVA: {len(selected_column_names)}\")\n",
        "print(f\"Selected features ANOVA : {list(selected_column_names)}\")\n",
        "\n",
        "plt.subplot(1, 2, 2)\n",
        "for feature in selected_column_names:\n",
        "    plt.hist(df_tc[feature], bins=10, alpha=0.5, label=feature)\n",
        "    plt.title('Histogram Seleksi Fitur')\n",
        "    plt.legend()\n",
        "\n",
        "plt.show()"
      ]
    },
    {
      "cell_type": "code",
      "execution_count": null,
      "metadata": {
        "id": "EvFstWr0QHPx"
      },
      "outputs": [],
      "source": [
        "X_train_selected_anova = best_features_anova.transform(X_train)\n",
        "X_test_selected_anova = best_features_anova.transform(X_test)"
      ]
    },
    {
      "cell_type": "code",
      "execution_count": null,
      "metadata": {
        "id": "VrX6-MGKapcP"
      },
      "outputs": [],
      "source": [
        "# Display the shape of the dataset before and after feature selection\n",
        "print(\"Shape of original dataset:\", X_train.shape)\n",
        "print(\"Shape after feature selection:\", X_train_selected_anova.shape)"
      ]
    },
    {
      "cell_type": "code",
      "execution_count": null,
      "metadata": {
        "id": "JQi5rTl0apcQ"
      },
      "outputs": [],
      "source": [
        "df_tc.columns"
      ]
    },
    {
      "cell_type": "markdown",
      "metadata": {
        "id": "XD1Wnw6AapcQ"
      },
      "source": [
        "#### Univariate Selection"
      ]
    },
    {
      "cell_type": "code",
      "execution_count": null,
      "metadata": {
        "id": "94CM_2l5apcQ"
      },
      "outputs": [],
      "source": [
        "# Create SelectKBest object using chi2 as the score function\n",
        "best_features_univariate = SelectKBest(score_func=chi2, k=k_best).fit(X_train, y_train)\n",
        "selected_features_indices = best_features_univariate.get_support(indices=True)\n",
        "\n",
        "# Get the selected column names\n",
        "selected_column_names = [df_tc.columns[i] for i in selected_features_indices]\n",
        "\n",
        "print(f\"Number of selected features univariate: {len(selected_column_names)}\")\n",
        "print(f\"Selected features univariate : {list(selected_column_names)}\")\n",
        "\n",
        "plt.subplot(1, 2, 2)\n",
        "for feature in selected_column_names:\n",
        "    plt.hist(df_tc[feature], bins=10, alpha=0.5, label=feature)\n",
        "    plt.title('Histogram Seleksi Fitur')\n",
        "    plt.legend()\n",
        "\n",
        "plt.show()"
      ]
    },
    {
      "cell_type": "code",
      "execution_count": null,
      "metadata": {
        "id": "vLKtAK9uapcQ"
      },
      "outputs": [],
      "source": [
        "X_train_selected_univariate = best_features_univariate.transform(X_train)\n",
        "X_test_selected_univariate = best_features_univariate.transform(X_test)"
      ]
    },
    {
      "cell_type": "markdown",
      "metadata": {
        "id": "kWl4BMn4apcQ"
      },
      "source": [
        "#### Recursive Feature Elimination"
      ]
    },
    {
      "cell_type": "code",
      "execution_count": null,
      "metadata": {
        "id": "6o-JGgySapcQ"
      },
      "outputs": [],
      "source": [
        "# Inisialisasi RFE dengan model dan jumlah fitur yang diinginkan\n",
        "best_features_rfe = RFE(RandomForestClassifier(n_estimators=5, random_state=42), n_features_to_select=k_best, step=50)  # Sesuaikan parameter\n",
        "best_features_rfe.fit(X_train, y_train)\n",
        "selected_features_indices = best_features_rfe.get_support(indices=True)\n",
        "\n",
        "# Get the selected column names\n",
        "selected_column_names = [df_tc.columns[i] for i in selected_features_indices]\n",
        "\n",
        "print(f\"Number of selected features RFE: {len(selected_column_names)}\")\n",
        "print(f\"Selected features RFE : {list(selected_column_names)}\")\n",
        "\n",
        "plt.subplot(1, 2, 2)\n",
        "for feature in selected_column_names:\n",
        "    plt.hist(df_tc[feature], bins=10, alpha=0.5, label=feature)\n",
        "    plt.title('Histogram Seleksi Fitur')\n",
        "    plt.legend()\n",
        "\n",
        "plt.show()"
      ]
    },
    {
      "cell_type": "code",
      "execution_count": null,
      "metadata": {
        "id": "BN87wkIhapcQ"
      },
      "outputs": [],
      "source": [
        "X_train_selected_rfe = best_features_rfe.transform(X_train)\n",
        "X_test_selected_rfe = best_features_rfe.transform(X_test)"
      ]
    },
    {
      "cell_type": "markdown",
      "metadata": {
        "id": "l2dRwGT2apcR"
      },
      "source": [
        "### Dimensionality Reduction"
      ]
    },
    {
      "cell_type": "code",
      "execution_count": null,
      "metadata": {
        "id": "LuTtiZW1apcR"
      },
      "outputs": [],
      "source": [
        "from numpy import mean\n",
        "from numpy import std\n",
        "from sklearn.datasets import make_classification\n",
        "from sklearn.model_selection import RepeatedStratifiedKFold\n",
        "from sklearn.pipeline import Pipeline\n",
        "from sklearn.decomposition import TruncatedSVD\n",
        "from sklearn.feature_selection import VarianceThreshold\n",
        "from sklearn.preprocessing import LabelEncoder, StandardScaler\n",
        "from sklearn.impute import SimpleImputer\n",
        "from sklearn.decomposition import PCA\n",
        "from sklearn.ensemble import IsolationForest\n",
        "from sklearn.discriminant_analysis import LinearDiscriminantAnalysis"
      ]
    },
    {
      "cell_type": "markdown",
      "metadata": {
        "id": "L0VK-yd7apcR"
      },
      "source": [
        "#### Principal Component Analysis - PCA"
      ]
    },
    {
      "cell_type": "code",
      "execution_count": null,
      "metadata": {
        "id": "so95CJ7VapcR"
      },
      "outputs": [],
      "source": [
        "# Dimensionality Reduction with PCA for all feature\n",
        "print(\"Dimensionality Reduction with PCA for all feature\")\n",
        "n_components = 5\n",
        "pca = PCA(n_components=n_components)\n",
        "X_train_reduced_pca = pca.fit_transform(X_train)\n",
        "X_test_reduced_pca = pca.transform(X_test)"
      ]
    },
    {
      "cell_type": "markdown",
      "metadata": {
        "id": "GCh4DQZMapcR"
      },
      "source": [
        "#### Linear Discriminant Analysis - LDA"
      ]
    },
    {
      "cell_type": "code",
      "execution_count": null,
      "metadata": {
        "id": "BjPCKb3rapcR"
      },
      "outputs": [],
      "source": [
        "# Dimensionality Reduction with LDA for all feature\n",
        "print(\"Dimensionality Reduction with LDA for all feature\")\n",
        "n_components = 1\n",
        "lda = LinearDiscriminantAnalysis(n_components=n_components)\n",
        "X_train_reduced_lda = lda.fit_transform(X_train, y_train)\n",
        "X_test_reduced_lda = lda.transform(X_test)"
      ]
    },
    {
      "cell_type": "markdown",
      "metadata": {
        "id": "jjyi9Q0MapcR"
      },
      "source": [
        "### Uji metode tersebut dengan sedikitnya 5 Klasifikasi"
      ]
    },
    {
      "cell_type": "code",
      "execution_count": null,
      "metadata": {
        "id": "E_tOxAmwapcR"
      },
      "outputs": [],
      "source": [
        "# evaluation of a model using 4 features chosen with anova f-test\n",
        "from sklearn.preprocessing import MinMaxScaler\n",
        "from sklearn.linear_model import LogisticRegression\n",
        "from sklearn.tree import DecisionTreeClassifier\n",
        "from sklearn.svm import SVC\n",
        "from sklearn.neighbors import KNeighborsClassifier # KNN classifier\n",
        "from sklearn.ensemble import RandomForestClassifier\n",
        "from sklearn import metrics # for checking the model accuracy\n",
        "from sklearn.model_selection import GridSearchCV\n",
        "from sklearn.metrics import accuracy_score\n",
        "from sklearn.model_selection import cross_val_score\n",
        "\n",
        "from sklearn import model_selection\n",
        "# Define stratified k-fold cross-validation with 10 splits\n",
        "kfold = model_selection.KFold(n_splits=10, shuffle=True, random_state=42)\n",
        "scoring = 'accuracy'"
      ]
    },
    {
      "cell_type": "markdown",
      "metadata": {
        "id": "KEeDELbRapcR"
      },
      "source": [
        "####Logistic Regresion"
      ]
    },
    {
      "cell_type": "code",
      "execution_count": null,
      "metadata": {
        "id": "OV6hBG-RapcS"
      },
      "outputs": [],
      "source": [
        "# fit the model with all feature\n",
        "model = LogisticRegression()\n",
        "model.fit(X_train, y_train)\n",
        "# evaluate the model\n",
        "yhat = model.predict(X_test)\n",
        "# evaluate predictions\n",
        "accuracy = accuracy_score(y_test, yhat)\n",
        "print('Accuracy with all feature: %.2f' % (accuracy*100))"
      ]
    },
    {
      "cell_type": "code",
      "execution_count": null,
      "metadata": {
        "id": "hD8HHYLMapcS"
      },
      "outputs": [],
      "source": [
        "#Evaluate model with feature selection\n",
        "print('Evaluate model with feature selection')\n",
        "\n",
        "# fit the model with feature selection ANOVA\n",
        "model.fit(X_train_selected_anova, y_train)\n",
        "# evaluate the model\n",
        "yhat = model.predict(X_test_selected_anova)\n",
        "# evaluate predictions\n",
        "accuracy = accuracy_score(y_test, yhat)\n",
        "print('Accuracy with feature selection ANOVA: %.2f' % (accuracy*100))\n",
        "\n",
        "# fit the model with feature selection univariate\n",
        "model.fit(X_train_selected_univariate, y_train)\n",
        "# evaluate the model\n",
        "yhat = model.predict(X_test_selected_univariate)\n",
        "# evaluate predictions\n",
        "accuracy = accuracy_score(y_test, yhat)\n",
        "print('Accuracy with feature selection Univariate Selection: %.2f' % (accuracy*100))\n",
        "\n",
        "# fit the model with Recursive Feature Elimination\n",
        "model.fit(X_train_selected_rfe, y_train)\n",
        "# evaluate the model\n",
        "yhat = model.predict(X_test_selected_rfe)\n",
        "# evaluate predictions\n",
        "accuracy = accuracy_score(y_test, yhat)\n",
        "print('Accuracy with feature selection Recursive Feature Elimination: %.2f' % (accuracy*100))"
      ]
    },
    {
      "cell_type": "code",
      "execution_count": null,
      "metadata": {
        "id": "FvtCbiFYapcS"
      },
      "outputs": [],
      "source": [
        "# Define hyperparameter grid\n",
        "param_grid = {\n",
        "    'C': [0.001, 0.01, 0.1, 1, 10, 100],\n",
        "    'solver': ['newton-cg', 'lbfgs', 'liblinear', 'sag', 'saga']\n",
        "}"
      ]
    },
    {
      "cell_type": "code",
      "execution_count": null,
      "metadata": {
        "id": "RVT-hDO-apcS"
      },
      "outputs": [],
      "source": [
        "# Perform hyperparameter tuning using GridSearchCV\n",
        "grid_search = GridSearchCV(estimator=model, param_grid=param_grid, cv=kfold, scoring=scoring)\n",
        "grid_search.fit(X_train_selected_anova, y_train)\n",
        "\n",
        "# Print the best hyperparameter values\n",
        "best_params = grid_search.best_params_\n",
        "best_score = grid_search.best_score_\n",
        "print(\"Best Hyperparameters with feature selection ANOVA:\", best_params)\n",
        "\n",
        "# Prediction on test set\n",
        "y_pred = grid_search.best_estimator_.predict(X_test_selected_anova)\n",
        "accuracy = round( metrics.accuracy_score(y_test, y_pred) * 100, 2 )\n",
        "\n",
        "# Compare the accuracies\n",
        "print(\"Best score accuracy for Logistic Regression hyperparameter tuning with feature selection ANOVA:\", accuracy)"
      ]
    },
    {
      "cell_type": "code",
      "execution_count": null,
      "metadata": {
        "id": "vRdC-f3TapcS"
      },
      "outputs": [],
      "source": [
        "# Perform hyperparameter tuning using GridSearchCV\n",
        "grid_search = GridSearchCV(estimator=model, param_grid=param_grid, cv=kfold, scoring=scoring)\n",
        "grid_search.fit(X_train_selected_univariate, y_train)\n",
        "\n",
        "# Print the best hyperparameter values\n",
        "best_params = grid_search.best_params_\n",
        "best_score = grid_search.best_score_\n",
        "print(\"Best Hyperparameters with feature selection Univariate:\", best_params)\n",
        "\n",
        "# Prediction on test set\n",
        "y_pred = grid_search.best_estimator_.predict(X_test_selected_univariate)\n",
        "accuracy = round( metrics.accuracy_score(y_test, y_pred) * 100, 2 )\n",
        "\n",
        "# Compare the accuracies\n",
        "print(\"Best score accuracy for Logistic Regression hyperparameter tuning with feature selection Univariate:\", accuracy)"
      ]
    },
    {
      "cell_type": "code",
      "execution_count": null,
      "metadata": {
        "id": "rHZhK9K-apcS"
      },
      "outputs": [],
      "source": [
        "# Perform hyperparameter tuning using GridSearchCV\n",
        "grid_search = GridSearchCV(estimator=model, param_grid=param_grid, cv=kfold, scoring=scoring)\n",
        "grid_search.fit(X_train_selected_rfe, y_train)\n",
        "\n",
        "# Print the best hyperparameter values\n",
        "best_params = grid_search.best_params_\n",
        "best_score = grid_search.best_score_\n",
        "print(\"Best Hyperparameters with feature selection RFE:\", best_params)\n",
        "\n",
        "# Prediction on test set\n",
        "y_pred = grid_search.best_estimator_.predict(X_test_selected_rfe)\n",
        "accuracy = round( metrics.accuracy_score(y_test, y_pred) * 100, 2 )\n",
        "\n",
        "# Compare the accuracies\n",
        "print(\"Best score accuracy for Logistic Regression hyperparameter tuning with feature selection RFE:\", accuracy)"
      ]
    },
    {
      "cell_type": "code",
      "execution_count": null,
      "metadata": {
        "id": "01rvk2JHapcS"
      },
      "outputs": [],
      "source": [
        "# Perform hyperparameter tuning using GridSearchCV\n",
        "grid_search = GridSearchCV(estimator=model, param_grid=param_grid, cv=kfold, scoring=scoring)\n",
        "grid_search.fit(X_train_reduced_pca, y_train)\n",
        "\n",
        "# Print the best hyperparameter values\n",
        "best_params = grid_search.best_params_\n",
        "best_score = grid_search.best_score_\n",
        "print(\"Best Hyperparameters with feature reduction PCA:\", best_params)\n",
        "\n",
        "# Prediction on test set\n",
        "y_pred = grid_search.best_estimator_.predict(X_test_reduced_pca)\n",
        "accuracy = round( metrics.accuracy_score(y_test, y_pred) * 100, 2 )\n",
        "\n",
        "# Compare the accuracies\n",
        "print(\"Best score accuracy for Logistic Regression hyperparameter tuning with feature reduction PCA:\", accuracy)"
      ]
    },
    {
      "cell_type": "code",
      "execution_count": null,
      "metadata": {
        "id": "dmudwbSlapcT"
      },
      "outputs": [],
      "source": [
        "# Perform hyperparameter tuning using GridSearchCV\n",
        "grid_search = GridSearchCV(estimator=model, param_grid=param_grid, cv=kfold, scoring=scoring)\n",
        "grid_search.fit(X_train_reduced_lda, y_train)\n",
        "\n",
        "# Print the best hyperparameter values\n",
        "best_params = grid_search.best_params_\n",
        "best_score = grid_search.best_score_\n",
        "print(\"Best Hyperparameters with feature reduction LDA:\", best_params)\n",
        "\n",
        "# Prediction on test set\n",
        "y_pred = grid_search.best_estimator_.predict(X_test_reduced_lda)\n",
        "accuracy = round( metrics.accuracy_score(y_test, y_pred) * 100, 2 )\n",
        "\n",
        "# Compare the accuracies\n",
        "print(\"Best score accuracy for Logistic Regression hyperparameter tuning with feature reduction LDA:\", accuracy)"
      ]
    },
    {
      "cell_type": "markdown",
      "metadata": {
        "id": "BpqnllBRapcT"
      },
      "source": [
        "####Decision Tree"
      ]
    },
    {
      "cell_type": "code",
      "execution_count": null,
      "metadata": {
        "id": "pRauIbAmapcT"
      },
      "outputs": [],
      "source": [
        "# fit the model with all feature\n",
        "model = DecisionTreeClassifier()\n",
        "model.fit(X_train, y_train)\n",
        "# evaluate the model\n",
        "yhat = model.predict(X_test)\n",
        "# evaluate predictions\n",
        "accuracy = accuracy_score(y_test, yhat)\n",
        "print('Accuracy with all feature: %.2f' % (accuracy*100))"
      ]
    },
    {
      "cell_type": "code",
      "execution_count": null,
      "metadata": {
        "id": "C0d_5ucdapcT"
      },
      "outputs": [],
      "source": [
        "#Evaluate model with feature selection\n",
        "print('Evaluate model with feature selection')\n",
        "\n",
        "# fit the model with feature selection ANOVA\n",
        "model.fit(X_train_selected_anova, y_train)\n",
        "# evaluate the model\n",
        "yhat = model.predict(X_test_selected_anova)\n",
        "# evaluate predictions\n",
        "accuracy = accuracy_score(y_test, yhat)\n",
        "print('Accuracy with feature selection ANOVA: %.2f' % (accuracy*100))\n",
        "\n",
        "# fit the model with feature selection univariate\n",
        "model.fit(X_train_selected_univariate, y_train)\n",
        "# evaluate the model\n",
        "yhat = model.predict(X_test_selected_univariate)\n",
        "# evaluate predictions\n",
        "accuracy = accuracy_score(y_test, yhat)\n",
        "print('Accuracy with feature selection Univariate Selection: %.2f' % (accuracy*100))\n",
        "\n",
        "# fit the model with Recursive Feature Elimination\n",
        "model.fit(X_train_selected_rfe, y_train)\n",
        "# evaluate the model\n",
        "yhat = model.predict(X_test_selected_rfe)\n",
        "# evaluate predictions\n",
        "accuracy = accuracy_score(y_test, yhat)\n",
        "print('Accuracy with feature selection Recursive Feature Elimination: %.2f' % (accuracy*100))"
      ]
    },
    {
      "cell_type": "code",
      "execution_count": null,
      "metadata": {
        "id": "SHPBQ3E5apcT"
      },
      "outputs": [],
      "source": [
        "# Define hyperparameter grid\n",
        "param_grid = {\n",
        "    'max_depth': [10, 20, 30, None],\n",
        "    'min_samples_split': [2, 10, 50, 100]\n",
        "}"
      ]
    },
    {
      "cell_type": "code",
      "execution_count": null,
      "metadata": {
        "id": "vbh3Qvo8apcT"
      },
      "outputs": [],
      "source": [
        "# Perform hyperparameter tuning using GridSearchCV\n",
        "grid_search = GridSearchCV(estimator=model, param_grid=param_grid, cv=kfold, scoring=scoring)\n",
        "grid_search.fit(X_train_selected_anova, y_train)\n",
        "\n",
        "# Print the best hyperparameter values\n",
        "best_params = grid_search.best_params_\n",
        "best_score = grid_search.best_score_\n",
        "print(\"Best Hyperparameters with feature selection ANOVA:\", best_params)\n",
        "\n",
        "# Prediction on test set\n",
        "y_pred = grid_search.best_estimator_.predict(X_test_selected_anova)\n",
        "accuracy = round( metrics.accuracy_score(y_test, y_pred) * 100, 2 )\n",
        "\n",
        "# Compare the accuracies\n",
        "print(\"Best score accuracy for Decision Tree hyperparameter tuning with feature selection ANOVA:\", accuracy)"
      ]
    },
    {
      "cell_type": "code",
      "execution_count": null,
      "metadata": {
        "id": "r6EcWjePapcT"
      },
      "outputs": [],
      "source": [
        "# Perform hyperparameter tuning using GridSearchCV\n",
        "grid_search = GridSearchCV(estimator=model, param_grid=param_grid, cv=kfold, scoring=scoring)\n",
        "grid_search.fit(X_train_selected_univariate, y_train)\n",
        "\n",
        "# Print the best hyperparameter values\n",
        "best_params = grid_search.best_params_\n",
        "best_score = grid_search.best_score_\n",
        "print(\"Best Hyperparameters with feature selection Univariate:\", best_params)\n",
        "\n",
        "# Prediction on test set\n",
        "y_pred = grid_search.best_estimator_.predict(X_test_selected_univariate)\n",
        "accuracy = round( metrics.accuracy_score(y_test, y_pred) * 100, 2 )\n",
        "\n",
        "# Compare the accuracies\n",
        "print(\"Best score accuracy for Decision Tree hyperparameter tuning with feature selection Univariate:\", accuracy)"
      ]
    },
    {
      "cell_type": "code",
      "execution_count": null,
      "metadata": {
        "id": "LTA2eNfAapcU"
      },
      "outputs": [],
      "source": [
        "# Perform hyperparameter tuning using GridSearchCV\n",
        "grid_search = GridSearchCV(estimator=model, param_grid=param_grid, cv=kfold, scoring=scoring)\n",
        "grid_search.fit(X_train_selected_rfe, y_train)\n",
        "\n",
        "# Print the best hyperparameter values\n",
        "best_params = grid_search.best_params_\n",
        "best_score = grid_search.best_score_\n",
        "print(\"Best Hyperparameters with feature selection RFE:\", best_params)\n",
        "\n",
        "# Prediction on test set\n",
        "y_pred = grid_search.best_estimator_.predict(X_test_selected_rfe)\n",
        "accuracy = round( metrics.accuracy_score(y_test, y_pred) * 100, 2 )\n",
        "\n",
        "# Compare the accuracies\n",
        "print(\"Best score accuracy for Decision Tree hyperparameter tuning with feature selection RFE:\", accuracy)"
      ]
    },
    {
      "cell_type": "code",
      "execution_count": null,
      "metadata": {
        "id": "OiPLsTf-apcU"
      },
      "outputs": [],
      "source": [
        "# Perform hyperparameter tuning using GridSearchCV\n",
        "grid_search = GridSearchCV(estimator=model, param_grid=param_grid, cv=kfold, scoring=scoring)\n",
        "grid_search.fit(X_train_reduced_pca, y_train)\n",
        "\n",
        "# Print the best hyperparameter values\n",
        "best_params = grid_search.best_params_\n",
        "best_score = grid_search.best_score_\n",
        "print(\"Best Hyperparameters with feature reduction PCA:\", best_params)\n",
        "\n",
        "# Prediction on test set\n",
        "y_pred = grid_search.best_estimator_.predict(X_test_reduced_pca)\n",
        "accuracy = round( metrics.accuracy_score(y_test, y_pred) * 100, 2 )\n",
        "\n",
        "# Compare the accuracies\n",
        "print(\"Best score accuracy for Decision Tree hyperparameter tuning with feature reduction PCA:\", accuracy)"
      ]
    },
    {
      "cell_type": "code",
      "execution_count": null,
      "metadata": {
        "id": "k-T6B97WapcU"
      },
      "outputs": [],
      "source": [
        "# Perform hyperparameter tuning using GridSearchCV\n",
        "grid_search = GridSearchCV(estimator=model, param_grid=param_grid, cv=kfold, scoring=scoring)\n",
        "grid_search.fit(X_train_reduced_lda, y_train)\n",
        "\n",
        "# Print the best hyperparameter values\n",
        "best_params = grid_search.best_params_\n",
        "best_score = grid_search.best_score_\n",
        "print(\"Best Hyperparameters with feature reduction LDA:\", best_params)\n",
        "\n",
        "# Prediction on test set\n",
        "y_pred = grid_search.best_estimator_.predict(X_test_reduced_lda)\n",
        "accuracy = round( metrics.accuracy_score(y_test, y_pred) * 100, 2 )\n",
        "\n",
        "# Compare the accuracies\n",
        "print(\"Best score accuracy for Decision Tree hyperparameter tuning with feature reduction LDA:\", accuracy)"
      ]
    },
    {
      "cell_type": "markdown",
      "metadata": {
        "id": "EbQjuw_WapcU"
      },
      "source": [
        "####Support Vector Machine"
      ]
    },
    {
      "cell_type": "code",
      "execution_count": null,
      "metadata": {
        "id": "yjFouznlapcU"
      },
      "outputs": [],
      "source": [
        "# fit the model with all feature\n",
        "model = SVC()\n",
        "model.fit(X_train, y_train)\n",
        "# evaluate the model\n",
        "yhat = model.predict(X_test)\n",
        "# evaluate predictions\n",
        "accuracy = accuracy_score(y_test, yhat)\n",
        "print('Accuracy with all feature: %.2f' % (accuracy*100))"
      ]
    },
    {
      "cell_type": "code",
      "execution_count": null,
      "metadata": {
        "id": "hLKfwXxPapcV"
      },
      "outputs": [],
      "source": [
        "#Evaluate model with feature selection\n",
        "print('Evaluate model with feature selection')\n",
        "\n",
        "# fit the model with feature selection ANOVA\n",
        "model.fit(X_train_selected_anova, y_train)\n",
        "# evaluate the model\n",
        "yhat = model.predict(X_test_selected_anova)\n",
        "# evaluate predictions\n",
        "accuracy = accuracy_score(y_test, yhat)\n",
        "print('Accuracy with feature selection ANOVA: %.2f' % (accuracy*100))\n",
        "\n",
        "# fit the model with feature selection univariate\n",
        "model.fit(X_train_selected_univariate, y_train)\n",
        "# evaluate the model\n",
        "yhat = model.predict(X_test_selected_univariate)\n",
        "# evaluate predictions\n",
        "accuracy = accuracy_score(y_test, yhat)\n",
        "print('Accuracy with feature selection Univariate Selection: %.2f' % (accuracy*100))\n",
        "\n",
        "# fit the model with Recursive Feature Elimination\n",
        "model.fit(X_train_selected_rfe, y_train)\n",
        "# evaluate the model\n",
        "yhat = model.predict(X_test_selected_rfe)\n",
        "# evaluate predictions\n",
        "accuracy = accuracy_score(y_test, yhat)\n",
        "print('Accuracy with feature selection Recursive Feature Elimination: %.2f' % (accuracy*100))"
      ]
    },
    {
      "cell_type": "code",
      "execution_count": null,
      "metadata": {
        "id": "zHpBbPdMapcV"
      },
      "outputs": [],
      "source": [
        "# Define hyperparameter grid\n",
        "param_grid = {\n",
        "    'C': [0.1, 1, 10],\n",
        "    'gamma': [0.1, 1, 'auto']\n",
        "}"
      ]
    },
    {
      "cell_type": "code",
      "execution_count": null,
      "metadata": {
        "id": "6zvIc2tVapcV"
      },
      "outputs": [],
      "source": [
        "# Perform hyperparameter tuning using GridSearchCV\n",
        "grid_search = GridSearchCV(estimator=model, param_grid=param_grid, cv=kfold, scoring=scoring)\n",
        "grid_search.fit(X_train_selected_anova, y_train)\n",
        "\n",
        "# Print the best hyperparameter values\n",
        "best_params = grid_search.best_params_\n",
        "best_score = grid_search.best_score_\n",
        "print(\"Best Hyperparameters with feature selection ANOVA:\", best_params)\n",
        "\n",
        "# Prediction on test set\n",
        "y_pred = grid_search.best_estimator_.predict(X_test_selected_anova)\n",
        "accuracy = round( metrics.accuracy_score(y_test, y_pred) * 100, 2 )\n",
        "\n",
        "# Compare the accuracies\n",
        "print(\"Best score accuracy for Support Vector Machine hyperparameter tuning with feature selection ANOVA:\", accuracy)"
      ]
    },
    {
      "cell_type": "code",
      "execution_count": null,
      "metadata": {
        "id": "_LRcckPtapcV"
      },
      "outputs": [],
      "source": [
        "# Perform hyperparameter tuning using GridSearchCV\n",
        "grid_search = GridSearchCV(estimator=model, param_grid=param_grid, cv=kfold, scoring=scoring)\n",
        "grid_search.fit(X_train_selected_univariate, y_train)\n",
        "\n",
        "# Print the best hyperparameter values\n",
        "best_params = grid_search.best_params_\n",
        "best_score = grid_search.best_score_\n",
        "print(\"Best Hyperparameters with feature selection Univariate:\", best_params)\n",
        "\n",
        "# Prediction on test set\n",
        "y_pred = grid_search.best_estimator_.predict(X_test_selected_univariate)\n",
        "accuracy = round( metrics.accuracy_score(y_test, y_pred) * 100, 2 )\n",
        "\n",
        "# Compare the accuracies\n",
        "print(\"Best score accuracy for Support Vector Machine hyperparameter tuning with feature selection Univariate:\", accuracy)"
      ]
    },
    {
      "cell_type": "code",
      "execution_count": null,
      "metadata": {
        "id": "U3ChJCM4apcV"
      },
      "outputs": [],
      "source": [
        "# Perform hyperparameter tuning using GridSearchCV\n",
        "grid_search = GridSearchCV(estimator=model, param_grid=param_grid, cv=kfold, scoring=scoring)\n",
        "grid_search.fit(X_train_selected_rfe, y_train)\n",
        "\n",
        "# Print the best hyperparameter values\n",
        "best_params = grid_search.best_params_\n",
        "best_score = grid_search.best_score_\n",
        "print(\"Best Hyperparameters with feature selection RFE:\", best_params)\n",
        "\n",
        "# Prediction on test set\n",
        "y_pred = grid_search.best_estimator_.predict(X_test_selected_rfe)\n",
        "accuracy = round( metrics.accuracy_score(y_test, y_pred) * 100, 2 )\n",
        "\n",
        "# Compare the accuracies\n",
        "print(\"Best score accuracy for Support Vector Machine hyperparameter tuning with feature selection RFE:\", accuracy)"
      ]
    },
    {
      "cell_type": "code",
      "execution_count": null,
      "metadata": {
        "id": "j4wl5wWgapcV"
      },
      "outputs": [],
      "source": [
        "# Perform hyperparameter tuning using GridSearchCV\n",
        "grid_search = GridSearchCV(estimator=model, param_grid=param_grid, cv=kfold, scoring=scoring)\n",
        "grid_search.fit(X_train_reduced_pca, y_train)\n",
        "\n",
        "# Print the best hyperparameter values\n",
        "best_params = grid_search.best_params_\n",
        "best_score = grid_search.best_score_\n",
        "print(\"Best Hyperparameters with feature reduction PCA:\", best_params)\n",
        "\n",
        "# Prediction on test set\n",
        "y_pred = grid_search.best_estimator_.predict(X_test_reduced_pca)\n",
        "accuracy = round( metrics.accuracy_score(y_test, y_pred) * 100, 2 )\n",
        "\n",
        "# Compare the accuracies\n",
        "print(\"Best score accuracy for Support Vector Machine hyperparameter tuning with feature reduction PCA:\", accuracy)"
      ]
    },
    {
      "cell_type": "code",
      "execution_count": null,
      "metadata": {
        "id": "4q1qJilHapcW"
      },
      "outputs": [],
      "source": [
        "# Perform hyperparameter tuning using GridSearchCV\n",
        "grid_search = GridSearchCV(estimator=model, param_grid=param_grid, cv=kfold, scoring=scoring)\n",
        "grid_search.fit(X_train_reduced_lda, y_train)\n",
        "\n",
        "# Print the best hyperparameter values\n",
        "best_params = grid_search.best_params_\n",
        "best_score = grid_search.best_score_\n",
        "print(\"Best Hyperparameters with feature reduction LDA:\", best_params)\n",
        "\n",
        "# Prediction on test set\n",
        "y_pred = grid_search.best_estimator_.predict(X_test_reduced_lda)\n",
        "accuracy = round( metrics.accuracy_score(y_test, y_pred) * 100, 2 )\n",
        "\n",
        "# Compare the accuracies\n",
        "print(\"Best score accuracy for Support Vector Machine hyperparameter tuning with feature reduction LDA:\", accuracy)"
      ]
    },
    {
      "cell_type": "markdown",
      "metadata": {
        "id": "1ydLJUJVapcW"
      },
      "source": [
        "####K-Nearest Neighbors"
      ]
    },
    {
      "cell_type": "code",
      "execution_count": null,
      "metadata": {
        "id": "MV6M-jGQapcW"
      },
      "outputs": [],
      "source": [
        "# fit the model with all feature\n",
        "model = KNeighborsClassifier()\n",
        "model.fit(X_train, y_train)\n",
        "# evaluate the model\n",
        "yhat = model.predict(X_test)\n",
        "# evaluate predictions\n",
        "accuracy = accuracy_score(y_test, yhat)\n",
        "print('Accuracy with all feature: %.2f' % (accuracy*100))"
      ]
    },
    {
      "cell_type": "code",
      "execution_count": null,
      "metadata": {
        "id": "6zHM5meWapcW"
      },
      "outputs": [],
      "source": [
        "#Evaluate model with feature selection\n",
        "print('Evaluate model with feature selection')\n",
        "\n",
        "# fit the model with feature selection ANOVA\n",
        "model.fit(X_train_selected_anova, y_train)\n",
        "# evaluate the model\n",
        "yhat = model.predict(X_test_selected_anova)\n",
        "# evaluate predictions\n",
        "accuracy = accuracy_score(y_test, yhat)\n",
        "print('Accuracy with feature selection ANOVA: %.2f' % (accuracy*100))\n",
        "\n",
        "# fit the model with feature selection univariate\n",
        "model.fit(X_train_selected_univariate, y_train)\n",
        "# evaluate the model\n",
        "yhat = model.predict(X_test_selected_univariate)\n",
        "# evaluate predictions\n",
        "accuracy = accuracy_score(y_test, yhat)\n",
        "print('Accuracy with feature selection Univariate Selection: %.2f' % (accuracy*100))\n",
        "\n",
        "# fit the model with Recursive Feature Elimination\n",
        "model.fit(X_train_selected_rfe, y_train)\n",
        "# evaluate the model\n",
        "yhat = model.predict(X_test_selected_rfe)\n",
        "# evaluate predictions\n",
        "accuracy = accuracy_score(y_test, yhat)\n",
        "print('Accuracy with feature selection Recursive Feature Elimination: %.2f' % (accuracy*100))"
      ]
    },
    {
      "cell_type": "code",
      "execution_count": null,
      "metadata": {
        "id": "UWCIVotmapcW"
      },
      "outputs": [],
      "source": [
        "# Define hyperparameter grid\n",
        "param_grid = {\n",
        "    'n_neighbors': [3, 5, 7, 9],\n",
        "    'weights': ['uniform', 'distance']\n",
        "}"
      ]
    },
    {
      "cell_type": "code",
      "execution_count": null,
      "metadata": {
        "id": "CIGgU2LTapcW"
      },
      "outputs": [],
      "source": [
        "# Perform hyperparameter tuning using GridSearchCV\n",
        "grid_search = GridSearchCV(estimator=model, param_grid=param_grid, cv=kfold, scoring=scoring)\n",
        "grid_search.fit(X_train_selected_anova, y_train)\n",
        "\n",
        "# Print the best hyperparameter values\n",
        "best_params = grid_search.best_params_\n",
        "best_score = grid_search.best_score_\n",
        "print(\"Best Hyperparameters with feature selection ANOVA:\", best_params)\n",
        "\n",
        "# Prediction on test set\n",
        "y_pred = grid_search.best_estimator_.predict(X_test_selected_anova)\n",
        "accuracy = round( metrics.accuracy_score(y_test, y_pred) * 100, 2 )\n",
        "\n",
        "# Compare the accuracies\n",
        "print(\"Best score accuracy for K-Nearest Neighbors hyperparameter tuning with feature selection ANOVA:\", accuracy)"
      ]
    },
    {
      "cell_type": "code",
      "execution_count": null,
      "metadata": {
        "id": "mDiJmneEapcW"
      },
      "outputs": [],
      "source": [
        "# Perform hyperparameter tuning using GridSearchCV\n",
        "grid_search = GridSearchCV(estimator=model, param_grid=param_grid, cv=kfold, scoring=scoring)\n",
        "grid_search.fit(X_train_selected_univariate, y_train)\n",
        "\n",
        "# Print the best hyperparameter values\n",
        "best_params = grid_search.best_params_\n",
        "best_score = grid_search.best_score_\n",
        "print(\"Best Hyperparameters with feature selection Univariate:\", best_params)\n",
        "\n",
        "# Prediction on test set\n",
        "y_pred = grid_search.best_estimator_.predict(X_test_selected_univariate)\n",
        "accuracy = round( metrics.accuracy_score(y_test, y_pred) * 100, 2 )\n",
        "\n",
        "# Compare the accuracies\n",
        "print(\"Best score accuracy for K-Nearest Neighbors hyperparameter tuning with feature selection Univariate:\", accuracy)"
      ]
    },
    {
      "cell_type": "code",
      "execution_count": null,
      "metadata": {
        "id": "B4A7-VlcapcW"
      },
      "outputs": [],
      "source": [
        "# Perform hyperparameter tuning using GridSearchCV\n",
        "grid_search = GridSearchCV(estimator=model, param_grid=param_grid, cv=kfold, scoring=scoring)\n",
        "grid_search.fit(X_train_selected_rfe, y_train)\n",
        "\n",
        "# Print the best hyperparameter values\n",
        "best_params = grid_search.best_params_\n",
        "best_score = grid_search.best_score_\n",
        "print(\"Best Hyperparameters with feature selection RFE:\", best_params)\n",
        "\n",
        "# Prediction on test set\n",
        "y_pred = grid_search.best_estimator_.predict(X_test_selected_rfe)\n",
        "accuracy = round( metrics.accuracy_score(y_test, y_pred) * 100, 2 )\n",
        "\n",
        "# Compare the accuracies\n",
        "print(\"Best score accuracy for K-Nearest Neighbors hyperparameter tuning with feature selection RFE:\", accuracy)"
      ]
    },
    {
      "cell_type": "code",
      "execution_count": null,
      "metadata": {
        "id": "o9rqO_OpapcX"
      },
      "outputs": [],
      "source": [
        "# Perform hyperparameter tuning using GridSearchCV\n",
        "grid_search = GridSearchCV(estimator=model, param_grid=param_grid, cv=kfold, scoring=scoring)\n",
        "grid_search.fit(X_train_reduced_pca, y_train)\n",
        "\n",
        "# Print the best hyperparameter values\n",
        "best_params = grid_search.best_params_\n",
        "best_score = grid_search.best_score_\n",
        "print(\"Best Hyperparameters with feature reduction PCA:\", best_params)\n",
        "\n",
        "# Prediction on test set\n",
        "y_pred = grid_search.best_estimator_.predict(X_test_reduced_pca)\n",
        "accuracy = round( metrics.accuracy_score(y_test, y_pred) * 100, 2 )\n",
        "\n",
        "# Compare the accuracies\n",
        "print(\"Best score accuracy for K-Nearest Neighbors hyperparameter tuning with feature reduction PCA:\", accuracy)"
      ]
    },
    {
      "cell_type": "code",
      "execution_count": null,
      "metadata": {
        "id": "0Ma8SMl8apcX"
      },
      "outputs": [],
      "source": [
        "# Perform hyperparameter tuning using GridSearchCV\n",
        "grid_search = GridSearchCV(estimator=model, param_grid=param_grid, cv=kfold, scoring=scoring)\n",
        "grid_search.fit(X_train_reduced_lda, y_train)\n",
        "\n",
        "# Print the best hyperparameter values\n",
        "best_params = grid_search.best_params_\n",
        "best_score = grid_search.best_score_\n",
        "print(\"Best Hyperparameters with feature reduction LDA:\", best_params)\n",
        "\n",
        "# Prediction on test set\n",
        "y_pred = grid_search.best_estimator_.predict(X_test_reduced_lda)\n",
        "accuracy = round( metrics.accuracy_score(y_test, y_pred) * 100, 2 )\n",
        "\n",
        "# Compare the accuracies\n",
        "print(\"Best score accuracy for K-Nearest Neighbors hyperparameter tuning with feature reduction LDA:\", accuracy)"
      ]
    },
    {
      "cell_type": "markdown",
      "metadata": {
        "id": "slvHUWInapcX"
      },
      "source": [
        "####Random Forest"
      ]
    },
    {
      "cell_type": "code",
      "execution_count": null,
      "metadata": {
        "id": "ULJDz8msapcX"
      },
      "outputs": [],
      "source": [
        "# fit the model with all feature\n",
        "model = RandomForestClassifier()\n",
        "model.fit(X_train, y_train)\n",
        "# evaluate the model\n",
        "yhat = model.predict(X_test)\n",
        "# evaluate predictions\n",
        "accuracy = accuracy_score(y_test, yhat)\n",
        "print('Accuracy with all feature: %.2f' % (accuracy*100))"
      ]
    },
    {
      "cell_type": "code",
      "execution_count": null,
      "metadata": {
        "id": "tAYjZY_AapcX"
      },
      "outputs": [],
      "source": [
        "#Evaluate model with feature selection\n",
        "print('Evaluate model with feature selection')\n",
        "\n",
        "# fit the model with feature selection ANOVA\n",
        "model.fit(X_train_selected_anova, y_train)\n",
        "# evaluate the model\n",
        "yhat = model.predict(X_test_selected_anova)\n",
        "# evaluate predictions\n",
        "accuracy = accuracy_score(y_test, yhat)\n",
        "print('Accuracy with feature selection ANOVA: %.2f' % (accuracy*100))\n",
        "\n",
        "# fit the model with feature selection univariate\n",
        "model.fit(X_train_selected_univariate, y_train)\n",
        "# evaluate the model\n",
        "yhat = model.predict(X_test_selected_univariate)\n",
        "# evaluate predictions\n",
        "accuracy = accuracy_score(y_test, yhat)\n",
        "print('Accuracy with feature selection Univariate Selection: %.2f' % (accuracy*100))\n",
        "\n",
        "# fit the model with Recursive Feature Elimination\n",
        "model.fit(X_train_selected_rfe, y_train)\n",
        "# evaluate the model\n",
        "yhat = model.predict(X_test_selected_rfe)\n",
        "# evaluate predictions\n",
        "accuracy = accuracy_score(y_test, yhat)\n",
        "print('Accuracy with feature selection Recursive Feature Elimination: %.2f' % (accuracy*100))"
      ]
    },
    {
      "cell_type": "code",
      "execution_count": null,
      "metadata": {
        "id": "3jxsL-wHapcX"
      },
      "outputs": [],
      "source": [
        "# Define hyperparameter grid\n",
        "param_grid = {\n",
        "    'n_estimators': [50, 100, 200],\n",
        "    'max_depth': [None, 10, 20]\n",
        "}"
      ]
    },
    {
      "cell_type": "code",
      "execution_count": null,
      "metadata": {
        "id": "8Z7xN8yaapcX"
      },
      "outputs": [],
      "source": [
        "# Perform hyperparameter tuning using GridSearchCV\n",
        "grid_search = GridSearchCV(estimator=model, param_grid=param_grid, cv=kfold, scoring=scoring)\n",
        "grid_search.fit(X_train_selected_anova, y_train)\n",
        "\n",
        "# Print the best hyperparameter values\n",
        "best_params = grid_search.best_params_\n",
        "best_score = grid_search.best_score_\n",
        "print(\"Best Hyperparameters with feature selection ANOVA:\", best_params)\n",
        "\n",
        "# Prediction on test set\n",
        "y_pred = grid_search.best_estimator_.predict(X_test_selected_anova)\n",
        "accuracy = round( metrics.accuracy_score(y_test, y_pred) * 100, 2 )\n",
        "\n",
        "# Compare the accuracies\n",
        "print(\"Best score accuracy for Random Forest hyperparameter tuning with feature selection ANOVA:\", accuracy)"
      ]
    },
    {
      "cell_type": "code",
      "execution_count": null,
      "metadata": {
        "id": "Oc2z-2KnapcX"
      },
      "outputs": [],
      "source": [
        "# Perform hyperparameter tuning using GridSearchCV\n",
        "grid_search = GridSearchCV(estimator=model, param_grid=param_grid, cv=kfold, scoring=scoring)\n",
        "grid_search.fit(X_train_selected_univariate, y_train)\n",
        "\n",
        "# Print the best hyperparameter values\n",
        "best_params = grid_search.best_params_\n",
        "best_score = grid_search.best_score_\n",
        "print(\"Best Hyperparameters with feature selection Univariate:\", best_params)\n",
        "\n",
        "# Prediction on test set\n",
        "y_pred = grid_search.best_estimator_.predict(X_test_selected_univariate)\n",
        "accuracy = round( metrics.accuracy_score(y_test, y_pred) * 100, 2 )\n",
        "\n",
        "# Compare the accuracies\n",
        "print(\"Best score accuracy for Random Forest hyperparameter tuning with feature selection Univariate:\", accuracy)"
      ]
    },
    {
      "cell_type": "code",
      "execution_count": null,
      "metadata": {
        "id": "NF3oVjzPapcY"
      },
      "outputs": [],
      "source": [
        "# Perform hyperparameter tuning using GridSearchCV\n",
        "grid_search = GridSearchCV(estimator=model, param_grid=param_grid, cv=kfold, scoring=scoring)\n",
        "grid_search.fit(X_train_selected_rfe, y_train)\n",
        "\n",
        "# Print the best hyperparameter values\n",
        "best_params = grid_search.best_params_\n",
        "best_score = grid_search.best_score_\n",
        "print(\"Best Hyperparameters with feature selection RFE:\", best_params)\n",
        "\n",
        "# Prediction on test set\n",
        "y_pred = grid_search.best_estimator_.predict(X_test_selected_rfe)\n",
        "accuracy = round( metrics.accuracy_score(y_test, y_pred) * 100, 2 )\n",
        "\n",
        "# Compare the accuracies\n",
        "print(\"Best score accuracy for Random Forest hyperparameter tuning with feature selection RFE:\", accuracy)"
      ]
    },
    {
      "cell_type": "code",
      "execution_count": null,
      "metadata": {
        "id": "AaWyRU51apcY"
      },
      "outputs": [],
      "source": [
        "# Perform hyperparameter tuning using GridSearchCV\n",
        "grid_search = GridSearchCV(estimator=model, param_grid=param_grid, cv=kfold, scoring=scoring)\n",
        "grid_search.fit(X_train_reduced_pca, y_train)\n",
        "\n",
        "# Print the best hyperparameter values\n",
        "best_params = grid_search.best_params_\n",
        "best_score = grid_search.best_score_\n",
        "print(\"Best Hyperparameters with feature reduction PCA:\", best_params)\n",
        "\n",
        "# Prediction on test set\n",
        "y_pred = grid_search.best_estimator_.predict(X_test_reduced_pca)\n",
        "accuracy = round( metrics.accuracy_score(y_test, y_pred) * 100, 2 )\n",
        "\n",
        "# Compare the accuracies\n",
        "print(\"Best score accuracy for Random Forest hyperparameter tuning with feature reduction PCA:\", accuracy)"
      ]
    },
    {
      "cell_type": "code",
      "execution_count": null,
      "metadata": {
        "id": "E4SKRKtLapcY"
      },
      "outputs": [],
      "source": [
        "# Perform hyperparameter tuning using GridSearchCV\n",
        "grid_search = GridSearchCV(estimator=model, param_grid=param_grid, cv=kfold, scoring=scoring)\n",
        "grid_search.fit(X_train_reduced_lda, y_train)\n",
        "\n",
        "# Print the best hyperparameter values\n",
        "best_params = grid_search.best_params_\n",
        "best_score = grid_search.best_score_\n",
        "print(\"Best Hyperparameters with feature reduction LDA:\", best_params)\n",
        "\n",
        "# Prediction on test set\n",
        "y_pred = grid_search.best_estimator_.predict(X_test_reduced_lda)\n",
        "accuracy = round( metrics.accuracy_score(y_test, y_pred) * 100, 2 )\n",
        "\n",
        "# Compare the accuracies\n",
        "print(\"Best score accuracy for Random Forest hyperparameter tuning with feature reduction LDA:\", accuracy)"
      ]
    },
    {
      "cell_type": "markdown",
      "metadata": {
        "id": "ztqYKk0icvPF"
      },
      "source": [
        "# `3. Gene Expression`"
      ]
    },
    {
      "cell_type": "markdown",
      "metadata": {
        "id": "1DcfnVYecvPM"
      },
      "source": [
        "### Data Cleaning"
      ]
    },
    {
      "cell_type": "code",
      "execution_count": null,
      "metadata": {
        "id": "nlGv8ekQcvPN"
      },
      "outputs": [],
      "source": [
        "import numpy as np\n",
        "import pandas as pd\n",
        "from pandas import Series, DataFrame\n",
        "from numpy import arange\n",
        "\n",
        "import plotly.graph_objs as go\n",
        "from plotly.offline import download_plotlyjs, init_notebook_mode, plot,iplot\n",
        "init_notebook_mode(connected=True)\n",
        "\n",
        "import seaborn as sns\n",
        "import matplotlib.pyplot as plt\n",
        "\n",
        "from scipy import stats\n",
        "%matplotlib inline\n",
        "from sklearn.preprocessing import LabelEncoder, MinMaxScaler\n",
        "from sklearn.model_selection import train_test_split\n",
        "\n",
        "import warnings\n",
        "warnings.filterwarnings(\"ignore\")\n",
        "\n",
        "from google.colab import drive\n",
        "drive.mount('/content/drive')"
      ]
    },
    {
      "cell_type": "markdown",
      "metadata": {
        "id": "SJuSmwLrcvPN"
      },
      "source": [
        "####Load Dataset"
      ]
    },
    {
      "cell_type": "code",
      "execution_count": null,
      "metadata": {
        "id": "b2nC4Aj0cvPN"
      },
      "outputs": [],
      "source": [
        "path = \"/content/drive/MyDrive/Colab Notebooks/Dataset/\"\n",
        "rna_exp = pd.read_csv(path +'Gene Expression/data.csv')\n",
        "labels = pd.read_csv(path +'Gene Expression/labels.csv')\n",
        "\n",
        "df_gene = pd.concat([rna_exp, labels], axis=1)"
      ]
    },
    {
      "cell_type": "markdown",
      "metadata": {
        "id": "tfUDUbA0cvPN"
      },
      "source": [
        "####Show top 10 Data"
      ]
    },
    {
      "cell_type": "code",
      "execution_count": null,
      "metadata": {
        "id": "P8mwK8vncvPN"
      },
      "outputs": [],
      "source": [
        "df_gene.head(10)"
      ]
    },
    {
      "cell_type": "code",
      "execution_count": null,
      "metadata": {
        "id": "A7z28mcrcvPN"
      },
      "outputs": [],
      "source": [
        "df_gene.shape"
      ]
    },
    {
      "cell_type": "code",
      "execution_count": null,
      "metadata": {
        "id": "diAe-z8qcvPO"
      },
      "outputs": [],
      "source": [
        "df_gene.groupby('Class').describe()"
      ]
    },
    {
      "cell_type": "code",
      "execution_count": null,
      "metadata": {
        "id": "dHencOYjcvPO"
      },
      "outputs": [],
      "source": [
        "df_gene.info()"
      ]
    },
    {
      "cell_type": "markdown",
      "metadata": {
        "id": "vAs8lOYMd1WK"
      },
      "source": [
        "#### Removing unneeded column"
      ]
    },
    {
      "cell_type": "code",
      "execution_count": null,
      "metadata": {
        "id": "UwTXUxBkd1WS"
      },
      "outputs": [],
      "source": [
        "df_gene.drop('Unnamed: 0', axis=1, inplace=True)"
      ]
    },
    {
      "cell_type": "code",
      "execution_count": null,
      "metadata": {
        "id": "cNB5WS84d1WS"
      },
      "outputs": [],
      "source": [
        "df_gene.head(10)"
      ]
    },
    {
      "cell_type": "markdown",
      "metadata": {
        "id": "I-qJOZtEcvPO"
      },
      "source": [
        "#### Identify Columns That Null Value and Remove Null Value"
      ]
    },
    {
      "cell_type": "code",
      "execution_count": null,
      "metadata": {
        "id": "uiDCRoe2cvPO"
      },
      "outputs": [],
      "source": [
        "# Check for null values in the entire dataset\n",
        "null_counts = df_gene.isnull().sum()\n",
        "\n",
        "# Display columns with null values and their counts\n",
        "print(\"Columns with null values:\")\n",
        "print(null_counts[null_counts > 0])\n",
        "\n",
        "if len(null_counts[null_counts > 0]) != 0 :\n",
        "  # Remove rows with any null values\n",
        "  df_gene = df_gene.dropna()"
      ]
    },
    {
      "cell_type": "markdown",
      "metadata": {
        "id": "iGbwK36tcvPO"
      },
      "source": [
        " #### Identify Columns That Contain a Single Value"
      ]
    },
    {
      "cell_type": "code",
      "execution_count": null,
      "metadata": {
        "id": "i5i4s3uMcvPP"
      },
      "outputs": [],
      "source": [
        "#checking for quasi constants\n",
        "df_gene.nunique()"
      ]
    },
    {
      "cell_type": "markdown",
      "metadata": {
        "id": "snRxxsOgcvPP"
      },
      "source": [
        " #### Delete Columns That Contain a Single Value"
      ]
    },
    {
      "cell_type": "code",
      "execution_count": null,
      "metadata": {
        "id": "MMgYecBFcvPP"
      },
      "outputs": [],
      "source": [
        "print(df_gene.shape)\n",
        "# get number of unique values for each column\n",
        "counts = df_gene.nunique()\n",
        "# record columns to delete\n",
        "to_del = [i for i,v in enumerate(counts) if v == 1]\n",
        "print(df_gene.columns[to_del])\n",
        "# drop useless columns\n",
        "df_gene.drop(df_gene.columns[to_del], axis=1, inplace=True)\n",
        "print(df_gene.shape)"
      ]
    },
    {
      "cell_type": "markdown",
      "metadata": {
        "id": "kFkchah3cvPP"
      },
      "source": [
        "#### Identify Rows That Contain Duplicate Data and Delete Rows"
      ]
    },
    {
      "cell_type": "code",
      "execution_count": null,
      "metadata": {
        "id": "2qeW3-rhcvPP"
      },
      "outputs": [],
      "source": [
        "# calculate duplicates\n",
        "dups = df_gene.duplicated()\n",
        "# report if there are any duplicates\n",
        "print(dups.any())\n",
        "# list all duplicate rows\n",
        "print(df_gene[dups])\n",
        "if dups.any() == True:\n",
        "  df_gene.drop_duplicates(inplace=True)\n",
        "  print(df_gene.shape)\n"
      ]
    },
    {
      "cell_type": "markdown",
      "metadata": {
        "id": "XH7ZnmvPcvPP"
      },
      "source": [
        "####Consider Columns That Have Very Few Values"
      ]
    },
    {
      "cell_type": "code",
      "execution_count": null,
      "metadata": {
        "id": "aRkA1gcecvPP"
      },
      "outputs": [],
      "source": [
        "# summarize the number of unique values in each column\n",
        "for i in range(df_gene.shape[1]):\n",
        "  num = len(df_gene.iloc[:, i].unique())\n",
        "  percentage = float(num) / df_gene.shape[0] * 100\n",
        "  if percentage < 1:\n",
        "    print('%d, %d, %.1f%%' % (i, num, percentage))"
      ]
    },
    {
      "cell_type": "code",
      "execution_count": null,
      "metadata": {
        "id": "nGXxbHfTcvPQ"
      },
      "outputs": [],
      "source": [
        "print(df_gene.shape)\n",
        "# get number of unique values for each column\n",
        "counts = df_gene.nunique()\n",
        "# record columns to delete\n",
        "to_del = [i for i,v in enumerate(counts) if (float(v)/df_gene.shape[0]*100) < 1]\n",
        "print(df_gene.columns[to_del])\n",
        "# drop useless columns\n",
        "df_gene.drop(df_gene.columns[to_del], axis=1, inplace=True)\n",
        "print(df_gene.shape)"
      ]
    },
    {
      "cell_type": "markdown",
      "metadata": {
        "id": "LC8yd3y3cvPQ"
      },
      "source": [
        "### Plot Histogram"
      ]
    },
    {
      "cell_type": "code",
      "execution_count": null,
      "metadata": {
        "id": "_wiIXgmjcvPQ"
      },
      "outputs": [],
      "source": [
        "selected_columns = df_gene.iloc[:, :10]\n",
        "\n",
        "# selected_columns = df_gene.iloc[:, :-2]\n",
        "selected_columns.hist(bins=10, linewidth=1.2)\n",
        "fig = plt.gcf()\n",
        "fig.set_size_inches(25,20)\n",
        "plt.show()"
      ]
    },
    {
      "cell_type": "markdown",
      "metadata": {
        "id": "v39dOXvacvPQ"
      },
      "source": [
        "### Splitting The Data into Training And Testing Dataset"
      ]
    },
    {
      "cell_type": "code",
      "execution_count": null,
      "metadata": {
        "id": "iswblEGacvPQ"
      },
      "outputs": [],
      "source": [
        "# retrieve numpy array\n",
        "dataset = df_gene.values\n",
        "# split into input (X) and output (y) variables\n",
        "X = dataset[:, :-1]\n",
        "y = dataset[:,-1]\n",
        "\n",
        "# Normalisasi\n",
        "scaler = MinMaxScaler()\n",
        "X = scaler.fit_transform(X)\n",
        "\n",
        "label_encoder = LabelEncoder()\n",
        "y = label_encoder.fit_transform(y)\n",
        "\n",
        "# split into train and test sets\n",
        "X_train, X_test, y_train, y_test = train_test_split(X, y, test_size=0.20, random_state=42)"
      ]
    },
    {
      "cell_type": "markdown",
      "metadata": {
        "id": "79lm1ohecvPQ"
      },
      "source": [
        "###Feature Selection"
      ]
    },
    {
      "cell_type": "code",
      "execution_count": null,
      "metadata": {
        "id": "OjA5sRDVcvPR"
      },
      "outputs": [],
      "source": [
        "from sklearn.feature_selection import SelectKBest, chi2, f_classif, mutual_info_classif, SelectFromModel\n",
        "from sklearn.ensemble import ExtraTreesClassifier\n",
        "from sklearn.feature_selection import RFE\n",
        "from sklearn.linear_model import LogisticRegression\n",
        "from sklearn.linear_model import Lasso\n",
        "from sklearn.ensemble import RandomForestClassifier\n",
        "k_best = 10  # Choose the number of top features to select"
      ]
    },
    {
      "cell_type": "markdown",
      "metadata": {
        "id": "Q4wPU3OdcvPR"
      },
      "source": [
        "#### ANOVA F-test Features"
      ]
    },
    {
      "cell_type": "code",
      "execution_count": null,
      "metadata": {
        "id": "ro6lVbVbcvPR"
      },
      "outputs": [],
      "source": [
        "# Create SelectKBest object using chi2 as the score function\n",
        "best_features_anova = SelectKBest(score_func=f_classif, k=k_best).fit(X_train, y_train)\n",
        "selected_features_indices = best_features_anova.get_support(indices=True)\n",
        "\n",
        "# Get the selected column names\n",
        "selected_column_names = [df_gene.columns[i] for i in selected_features_indices]\n",
        "\n",
        "print(f\"Number of selected features ANOVA: {len(selected_column_names)}\")\n",
        "print(f\"Selected features ANOVA : {list(selected_column_names)}\")\n",
        "\n",
        "plt.subplot(1, 2, 2)\n",
        "for feature in selected_column_names:\n",
        "    plt.hist(df_gene[feature], bins=10, alpha=0.5, label=feature)\n",
        "    plt.title('Histogram Seleksi Fitur')\n",
        "    plt.legend()\n",
        "\n",
        "plt.show()"
      ]
    },
    {
      "cell_type": "code",
      "execution_count": null,
      "metadata": {
        "id": "aPKsgIltXcjq"
      },
      "outputs": [],
      "source": [
        "X_train_selected_anova = best_features_anova.transform(X_train)\n",
        "X_test_selected_anova = best_features_anova.transform(X_test)"
      ]
    },
    {
      "cell_type": "code",
      "execution_count": null,
      "metadata": {
        "id": "r7khAUYjcvPR"
      },
      "outputs": [],
      "source": [
        "# Display the shape of the dataset before and after feature selection\n",
        "print(\"Shape of original dataset:\", X_train.shape)\n",
        "print(\"Shape after feature selection:\", X_train_selected_anova.shape)"
      ]
    },
    {
      "cell_type": "code",
      "execution_count": null,
      "metadata": {
        "id": "x1pH37KScvPR"
      },
      "outputs": [],
      "source": [
        "df_gene.columns"
      ]
    },
    {
      "cell_type": "markdown",
      "metadata": {
        "id": "xSGgGIEzcvPS"
      },
      "source": [
        "#### Univariate Selection"
      ]
    },
    {
      "cell_type": "code",
      "execution_count": null,
      "metadata": {
        "id": "yq3ymCXlcvPS"
      },
      "outputs": [],
      "source": [
        "# Create SelectKBest object using chi2 as the score function\n",
        "best_features_univariate = SelectKBest(score_func=chi2, k=k_best).fit(X_train, y_train)\n",
        "selected_features_indices = best_features_univariate.get_support(indices=True)\n",
        "\n",
        "# Get the selected column names\n",
        "selected_column_names = [df_gene.columns[i] for i in selected_features_indices]\n",
        "\n",
        "print(f\"Number of selected features univariate: {len(selected_column_names)}\")\n",
        "print(f\"Selected features univariate : {list(selected_column_names)}\")\n",
        "\n",
        "plt.subplot(1, 2, 2)\n",
        "for feature in selected_column_names:\n",
        "    plt.hist(df_gene[feature], bins=10, alpha=0.5, label=feature)\n",
        "    plt.title('Histogram Seleksi Fitur')\n",
        "    plt.legend()\n",
        "\n",
        "plt.show()"
      ]
    },
    {
      "cell_type": "code",
      "execution_count": null,
      "metadata": {
        "id": "HCdm_GbNcvPS"
      },
      "outputs": [],
      "source": [
        "X_train_selected_univariate = best_features_univariate.transform(X_train)\n",
        "X_test_selected_univariate = best_features_univariate.transform(X_test)"
      ]
    },
    {
      "cell_type": "markdown",
      "metadata": {
        "id": "GCG3ayS1cvPS"
      },
      "source": [
        "#### Recursive Feature Elimination"
      ]
    },
    {
      "cell_type": "code",
      "execution_count": null,
      "metadata": {
        "id": "roak-jm_YJSH"
      },
      "outputs": [],
      "source": [
        "# Inisialisasi RFE dengan model dan jumlah fitur yang diinginkan\n",
        "best_features_rfe = RFE(RandomForestClassifier(n_estimators=5, random_state=42), n_features_to_select=k_best, step=50)  # Sesuaikan parameter\n",
        "best_features_rfe.fit(X_train, y_train)\n",
        "selected_features_indices = best_features_rfe.get_support(indices=True)\n",
        "\n",
        "# Get the selected column names\n",
        "selected_column_names = [df_gene.columns[i] for i in selected_features_indices]\n",
        "\n",
        "print(f\"Number of selected features RFE: {len(selected_column_names)}\")\n",
        "print(f\"Selected features RFE : {list(selected_column_names)}\")\n",
        "\n",
        "plt.subplot(1, 2, 2)\n",
        "for feature in selected_column_names:\n",
        "    plt.hist(df_gene[feature], bins=10, alpha=0.5, label=feature)\n",
        "    plt.title('Histogram Seleksi Fitur')\n",
        "    plt.legend()\n",
        "\n",
        "plt.show()"
      ]
    },
    {
      "cell_type": "code",
      "execution_count": null,
      "metadata": {
        "id": "BP7O1bSGcvPT"
      },
      "outputs": [],
      "source": [
        "X_train_selected_rfe = best_features_rfe.transform(X_train)\n",
        "X_test_selected_rfe = best_features_rfe.transform(X_test)"
      ]
    },
    {
      "cell_type": "markdown",
      "metadata": {
        "id": "lFzDIwilcvPT"
      },
      "source": [
        "### Dimensionality Reduction"
      ]
    },
    {
      "cell_type": "code",
      "execution_count": null,
      "metadata": {
        "id": "tkE3Xe8bcvPT"
      },
      "outputs": [],
      "source": [
        "from numpy import mean\n",
        "from numpy import std\n",
        "from sklearn.datasets import make_classification\n",
        "from sklearn.model_selection import RepeatedStratifiedKFold\n",
        "from sklearn.pipeline import Pipeline\n",
        "from sklearn.decomposition import TruncatedSVD\n",
        "from sklearn.feature_selection import VarianceThreshold\n",
        "from sklearn.impute import SimpleImputer\n",
        "from sklearn.decomposition import PCA\n",
        "from sklearn.ensemble import IsolationForest\n",
        "from sklearn.discriminant_analysis import LinearDiscriminantAnalysis"
      ]
    },
    {
      "cell_type": "markdown",
      "metadata": {
        "id": "9LfzgSslcvPT"
      },
      "source": [
        "#### Principal Component Analysis - PCA"
      ]
    },
    {
      "cell_type": "code",
      "execution_count": null,
      "metadata": {
        "id": "LJacYcALcvPU"
      },
      "outputs": [],
      "source": [
        "# Dimensionality Reduction with PCA for all feature\n",
        "print(\"Dimensionality Reduction with PCA for all feature\")\n",
        "n_components = 5\n",
        "pca = PCA(n_components=n_components)\n",
        "X_train_reduced_pca = pca.fit_transform(X_train)\n",
        "X_test_reduced_pca = pca.transform(X_test)"
      ]
    },
    {
      "cell_type": "markdown",
      "metadata": {
        "id": "fdCo--YHcvPU"
      },
      "source": [
        "#### Linear Discriminant Analysis - LDA"
      ]
    },
    {
      "cell_type": "code",
      "execution_count": null,
      "metadata": {
        "id": "qMsLxQ7gcvPU"
      },
      "outputs": [],
      "source": [
        "# Dimensionality Reduction with LDA for all feature\n",
        "print(\"Dimensionality Reduction with LDA for all feature\")\n",
        "n_components = 1\n",
        "lda = LinearDiscriminantAnalysis(n_components=n_components)\n",
        "X_train_reduced_lda = lda.fit_transform(X_train, y_train)\n",
        "X_test_reduced_lda = lda.transform(X_test)"
      ]
    },
    {
      "cell_type": "markdown",
      "metadata": {
        "id": "6_zxPpEVcvPU"
      },
      "source": [
        "### Uji metode tersebut dengan sedikitnya 5 Klasifikasi"
      ]
    },
    {
      "cell_type": "code",
      "execution_count": null,
      "metadata": {
        "id": "Z_X2UO-5cvPU"
      },
      "outputs": [],
      "source": [
        "# evaluation of a model using 4 features chosen with anova f-test\n",
        "from sklearn.preprocessing import MinMaxScaler\n",
        "from sklearn.linear_model import LogisticRegression\n",
        "from sklearn.tree import DecisionTreeClassifier\n",
        "from sklearn.svm import SVC\n",
        "from sklearn.neighbors import KNeighborsClassifier # KNN classifier\n",
        "from sklearn.ensemble import RandomForestClassifier\n",
        "from sklearn import metrics # for checking the model accuracy\n",
        "from sklearn.model_selection import GridSearchCV\n",
        "from sklearn.metrics import accuracy_score\n",
        "from sklearn.model_selection import cross_val_score\n",
        "\n",
        "from sklearn import model_selection\n",
        "# Define stratified k-fold cross-validation with 10 splits\n",
        "kfold = model_selection.KFold(n_splits=10, shuffle=True, random_state=42)\n",
        "scoring = 'accuracy'"
      ]
    },
    {
      "cell_type": "markdown",
      "metadata": {
        "id": "zEGPuenGcvPU"
      },
      "source": [
        "####Logistic Regresion"
      ]
    },
    {
      "cell_type": "code",
      "execution_count": null,
      "metadata": {
        "id": "5dWl61TbcvPU"
      },
      "outputs": [],
      "source": [
        "# fit the model with all feature\n",
        "model = LogisticRegression()\n",
        "model.fit(X_train, y_train)\n",
        "# evaluate the model\n",
        "yhat = model.predict(X_test)\n",
        "# evaluate predictions\n",
        "accuracy = accuracy_score(y_test, yhat)\n",
        "print('Accuracy with all feature: %.2f' % (accuracy*100))"
      ]
    },
    {
      "cell_type": "code",
      "execution_count": null,
      "metadata": {
        "id": "Ycd2sA2lcvPU"
      },
      "outputs": [],
      "source": [
        "#Evaluate model with feature selection\n",
        "print('Evaluate model with feature selection')\n",
        "\n",
        "# fit the model with feature selection ANOVA\n",
        "model.fit(X_train_selected_anova, y_train)\n",
        "# evaluate the model\n",
        "yhat = model.predict(X_test_selected_anova)\n",
        "# evaluate predictions\n",
        "accuracy = accuracy_score(y_test, yhat)\n",
        "print('Accuracy with feature selection ANOVA: %.2f' % (accuracy*100))\n",
        "\n",
        "# fit the model with feature selection univariate\n",
        "model.fit(X_train_selected_univariate, y_train)\n",
        "# evaluate the model\n",
        "yhat = model.predict(X_test_selected_univariate)\n",
        "# evaluate predictions\n",
        "accuracy = accuracy_score(y_test, yhat)\n",
        "print('Accuracy with feature selection Univariate Selection: %.2f' % (accuracy*100))\n",
        "\n",
        "# fit the model with Recursive Feature Elimination\n",
        "model.fit(X_train_selected_rfe, y_train)\n",
        "# evaluate the model\n",
        "yhat = model.predict(X_test_selected_rfe)\n",
        "# evaluate predictions\n",
        "accuracy = accuracy_score(y_test, yhat)\n",
        "print('Accuracy with feature selection Recursive Feature Elimination: %.2f' % (accuracy*100))"
      ]
    },
    {
      "cell_type": "code",
      "execution_count": null,
      "metadata": {
        "id": "MJxitxW4cvPV"
      },
      "outputs": [],
      "source": [
        "# Define hyperparameter grid\n",
        "param_grid = {\n",
        "    'C': [0.001, 0.01, 0.1, 1, 10, 100],\n",
        "    'solver': ['newton-cg', 'lbfgs', 'liblinear', 'sag', 'saga']\n",
        "}"
      ]
    },
    {
      "cell_type": "code",
      "execution_count": null,
      "metadata": {
        "id": "-qpFcQRTcvPV"
      },
      "outputs": [],
      "source": [
        "# Perform hyperparameter tuning using GridSearchCV\n",
        "grid_search = GridSearchCV(estimator=model, param_grid=param_grid, cv=kfold, scoring=scoring)\n",
        "grid_search.fit(X_train_selected_anova, y_train)\n",
        "\n",
        "# Print the best hyperparameter values\n",
        "best_params = grid_search.best_params_\n",
        "best_score = grid_search.best_score_\n",
        "print(\"Best Hyperparameters with feature selection ANOVA:\", best_params)\n",
        "\n",
        "# Prediction on test set\n",
        "y_pred = grid_search.best_estimator_.predict(X_test_selected_anova)\n",
        "accuracy = round( metrics.accuracy_score(y_test, y_pred) * 100, 2 )\n",
        "\n",
        "# Compare the accuracies\n",
        "print(\"Best score accuracy for Logistic Regression hyperparameter tuning with feature selection ANOVA:\", accuracy)"
      ]
    },
    {
      "cell_type": "code",
      "execution_count": null,
      "metadata": {
        "id": "fxWItu5LcvPV"
      },
      "outputs": [],
      "source": [
        "# Perform hyperparameter tuning using GridSearchCV\n",
        "grid_search = GridSearchCV(estimator=model, param_grid=param_grid, cv=kfold, scoring=scoring)\n",
        "grid_search.fit(X_train_selected_univariate, y_train)\n",
        "\n",
        "# Print the best hyperparameter values\n",
        "best_params = grid_search.best_params_\n",
        "best_score = grid_search.best_score_\n",
        "print(\"Best Hyperparameters with feature selection Univariate:\", best_params)\n",
        "\n",
        "# Prediction on test set\n",
        "y_pred = grid_search.best_estimator_.predict(X_test_selected_univariate)\n",
        "accuracy = round( metrics.accuracy_score(y_test, y_pred) * 100, 2 )\n",
        "\n",
        "# Compare the accuracies\n",
        "print(\"Best score accuracy for Logistic Regression hyperparameter tuning with feature selection Univariate:\", accuracy)"
      ]
    },
    {
      "cell_type": "code",
      "execution_count": null,
      "metadata": {
        "id": "CFpJQhbZcvPV"
      },
      "outputs": [],
      "source": [
        "# Perform hyperparameter tuning using GridSearchCV\n",
        "grid_search = GridSearchCV(estimator=model, param_grid=param_grid, cv=kfold, scoring=scoring)\n",
        "grid_search.fit(X_train_selected_rfe, y_train)\n",
        "\n",
        "# Print the best hyperparameter values\n",
        "best_params = grid_search.best_params_\n",
        "best_score = grid_search.best_score_\n",
        "print(\"Best Hyperparameters with feature selection RFE:\", best_params)\n",
        "\n",
        "# Prediction on test set\n",
        "y_pred = grid_search.best_estimator_.predict(X_test_selected_rfe)\n",
        "accuracy = round( metrics.accuracy_score(y_test, y_pred) * 100, 2 )\n",
        "\n",
        "# Compare the accuracies\n",
        "print(\"Best score accuracy for Logistic Regression hyperparameter tuning with feature selection RFE:\", accuracy)"
      ]
    },
    {
      "cell_type": "code",
      "execution_count": null,
      "metadata": {
        "id": "9jHYeyO7cvPV"
      },
      "outputs": [],
      "source": [
        "# Perform hyperparameter tuning using GridSearchCV\n",
        "grid_search = GridSearchCV(estimator=model, param_grid=param_grid, cv=kfold, scoring=scoring)\n",
        "grid_search.fit(X_train_reduced_pca, y_train)\n",
        "\n",
        "# Print the best hyperparameter values\n",
        "best_params = grid_search.best_params_\n",
        "best_score = grid_search.best_score_\n",
        "print(\"Best Hyperparameters with feature reduction PCA:\", best_params)\n",
        "\n",
        "# Prediction on test set\n",
        "y_pred = grid_search.best_estimator_.predict(X_test_reduced_pca)\n",
        "accuracy = round( metrics.accuracy_score(y_test, y_pred) * 100, 2 )\n",
        "\n",
        "# Compare the accuracies\n",
        "print(\"Best score accuracy for Logistic Regression hyperparameter tuning with feature reduction PCA:\", accuracy)"
      ]
    },
    {
      "cell_type": "code",
      "execution_count": null,
      "metadata": {
        "id": "2KwclmEKcvPV"
      },
      "outputs": [],
      "source": [
        "# Perform hyperparameter tuning using GridSearchCV\n",
        "grid_search = GridSearchCV(estimator=model, param_grid=param_grid, cv=kfold, scoring=scoring)\n",
        "grid_search.fit(X_train_reduced_lda, y_train)\n",
        "\n",
        "# Print the best hyperparameter values\n",
        "best_params = grid_search.best_params_\n",
        "best_score = grid_search.best_score_\n",
        "print(\"Best Hyperparameters with feature reduction LDA:\", best_params)\n",
        "\n",
        "# Prediction on test set\n",
        "y_pred = grid_search.best_estimator_.predict(X_test_reduced_lda)\n",
        "accuracy = round( metrics.accuracy_score(y_test, y_pred) * 100, 2 )\n",
        "\n",
        "# Compare the accuracies\n",
        "print(\"Best score accuracy for Logistic Regression hyperparameter tuning with feature reduction LDA:\", accuracy)"
      ]
    },
    {
      "cell_type": "markdown",
      "metadata": {
        "id": "8Po_KaqMcvPV"
      },
      "source": [
        "####Decision Tree"
      ]
    },
    {
      "cell_type": "code",
      "execution_count": null,
      "metadata": {
        "id": "EqKja-uRcvPW"
      },
      "outputs": [],
      "source": [
        "# fit the model with all feature\n",
        "model = DecisionTreeClassifier()\n",
        "model.fit(X_train, y_train)\n",
        "# evaluate the model\n",
        "yhat = model.predict(X_test)\n",
        "# evaluate predictions\n",
        "accuracy = accuracy_score(y_test, yhat)\n",
        "print('Accuracy with all feature: %.2f' % (accuracy*100))"
      ]
    },
    {
      "cell_type": "code",
      "execution_count": null,
      "metadata": {
        "id": "9SiF9W41cvPW"
      },
      "outputs": [],
      "source": [
        "#Evaluate model with feature selection\n",
        "print('Evaluate model with feature selection')\n",
        "\n",
        "# fit the model with feature selection ANOVA\n",
        "model.fit(X_train_selected_anova, y_train)\n",
        "# evaluate the model\n",
        "yhat = model.predict(X_test_selected_anova)\n",
        "# evaluate predictions\n",
        "accuracy = accuracy_score(y_test, yhat)\n",
        "print('Accuracy with feature selection ANOVA: %.2f' % (accuracy*100))\n",
        "\n",
        "# fit the model with feature selection univariate\n",
        "model.fit(X_train_selected_univariate, y_train)\n",
        "# evaluate the model\n",
        "yhat = model.predict(X_test_selected_univariate)\n",
        "# evaluate predictions\n",
        "accuracy = accuracy_score(y_test, yhat)\n",
        "print('Accuracy with feature selection Univariate Selection: %.2f' % (accuracy*100))\n",
        "\n",
        "# fit the model with Recursive Feature Elimination\n",
        "model.fit(X_train_selected_rfe, y_train)\n",
        "# evaluate the model\n",
        "yhat = model.predict(X_test_selected_rfe)\n",
        "# evaluate predictions\n",
        "accuracy = accuracy_score(y_test, yhat)\n",
        "print('Accuracy with feature selection Recursive Feature Elimination: %.2f' % (accuracy*100))"
      ]
    },
    {
      "cell_type": "code",
      "execution_count": null,
      "metadata": {
        "id": "fl1AxxBNcvPW"
      },
      "outputs": [],
      "source": [
        "# Define hyperparameter grid\n",
        "param_grid = {\n",
        "    'max_depth': [10, 20, 30, None],\n",
        "    'min_samples_split': [2, 10, 50, 100]\n",
        "}"
      ]
    },
    {
      "cell_type": "code",
      "execution_count": null,
      "metadata": {
        "id": "2-Ac7akEcvPW"
      },
      "outputs": [],
      "source": [
        "# Perform hyperparameter tuning using GridSearchCV\n",
        "grid_search = GridSearchCV(estimator=model, param_grid=param_grid, cv=kfold, scoring=scoring)\n",
        "grid_search.fit(X_train_selected_anova, y_train)\n",
        "\n",
        "# Print the best hyperparameter values\n",
        "best_params = grid_search.best_params_\n",
        "best_score = grid_search.best_score_\n",
        "print(\"Best Hyperparameters with feature selection ANOVA:\", best_params)\n",
        "\n",
        "# Prediction on test set\n",
        "y_pred = grid_search.best_estimator_.predict(X_test_selected_anova)\n",
        "accuracy = round( metrics.accuracy_score(y_test, y_pred) * 100, 2 )\n",
        "\n",
        "# Compare the accuracies\n",
        "print(\"Best score accuracy for Decision Tree hyperparameter tuning with feature selection ANOVA:\", accuracy)"
      ]
    },
    {
      "cell_type": "code",
      "execution_count": null,
      "metadata": {
        "id": "5m2gdG-ucvPW"
      },
      "outputs": [],
      "source": [
        "# Perform hyperparameter tuning using GridSearchCV\n",
        "grid_search = GridSearchCV(estimator=model, param_grid=param_grid, cv=kfold, scoring=scoring)\n",
        "grid_search.fit(X_train_selected_univariate, y_train)\n",
        "\n",
        "# Print the best hyperparameter values\n",
        "best_params = grid_search.best_params_\n",
        "best_score = grid_search.best_score_\n",
        "print(\"Best Hyperparameters with feature selection Univariate:\", best_params)\n",
        "\n",
        "# Prediction on test set\n",
        "y_pred = grid_search.best_estimator_.predict(X_test_selected_univariate)\n",
        "accuracy = round( metrics.accuracy_score(y_test, y_pred) * 100, 2 )\n",
        "\n",
        "# Compare the accuracies\n",
        "print(\"Best score accuracy for Decision Tree hyperparameter tuning with feature selection Univariate:\", accuracy)"
      ]
    },
    {
      "cell_type": "code",
      "execution_count": null,
      "metadata": {
        "id": "b_Uhv1pqcvPW"
      },
      "outputs": [],
      "source": [
        "# Perform hyperparameter tuning using GridSearchCV\n",
        "grid_search = GridSearchCV(estimator=model, param_grid=param_grid, cv=kfold, scoring=scoring)\n",
        "grid_search.fit(X_train_selected_rfe, y_train)\n",
        "\n",
        "# Print the best hyperparameter values\n",
        "best_params = grid_search.best_params_\n",
        "best_score = grid_search.best_score_\n",
        "print(\"Best Hyperparameters with feature selection RFE:\", best_params)\n",
        "\n",
        "# Prediction on test set\n",
        "y_pred = grid_search.best_estimator_.predict(X_test_selected_rfe)\n",
        "accuracy = round( metrics.accuracy_score(y_test, y_pred) * 100, 2 )\n",
        "\n",
        "# Compare the accuracies\n",
        "print(\"Best score accuracy for Decision Tree hyperparameter tuning with feature selection RFE:\", accuracy)"
      ]
    },
    {
      "cell_type": "code",
      "execution_count": null,
      "metadata": {
        "id": "iSG9o-lacvPW"
      },
      "outputs": [],
      "source": [
        "# Perform hyperparameter tuning using GridSearchCV\n",
        "grid_search = GridSearchCV(estimator=model, param_grid=param_grid, cv=kfold, scoring=scoring)\n",
        "grid_search.fit(X_train_reduced_pca, y_train)\n",
        "\n",
        "# Print the best hyperparameter values\n",
        "best_params = grid_search.best_params_\n",
        "best_score = grid_search.best_score_\n",
        "print(\"Best Hyperparameters with feature reduction PCA:\", best_params)\n",
        "\n",
        "# Prediction on test set\n",
        "y_pred = grid_search.best_estimator_.predict(X_test_reduced_pca)\n",
        "accuracy = round( metrics.accuracy_score(y_test, y_pred) * 100, 2 )\n",
        "\n",
        "# Compare the accuracies\n",
        "print(\"Best score accuracy for Decision Tree hyperparameter tuning with feature reduction PCA:\", accuracy)"
      ]
    },
    {
      "cell_type": "code",
      "execution_count": null,
      "metadata": {
        "id": "vbC3zuZUcvPX"
      },
      "outputs": [],
      "source": [
        "# Perform hyperparameter tuning using GridSearchCV\n",
        "grid_search = GridSearchCV(estimator=model, param_grid=param_grid, cv=kfold, scoring=scoring)\n",
        "grid_search.fit(X_train_reduced_lda, y_train)\n",
        "\n",
        "# Print the best hyperparameter values\n",
        "best_params = grid_search.best_params_\n",
        "best_score = grid_search.best_score_\n",
        "print(\"Best Hyperparameters with feature reduction LDA:\", best_params)\n",
        "\n",
        "# Prediction on test set\n",
        "y_pred = grid_search.best_estimator_.predict(X_test_reduced_lda)\n",
        "accuracy = round( metrics.accuracy_score(y_test, y_pred) * 100, 2 )\n",
        "\n",
        "# Compare the accuracies\n",
        "print(\"Best score accuracy for Decision Tree hyperparameter tuning with feature reduction LDA:\", accuracy)"
      ]
    },
    {
      "cell_type": "markdown",
      "metadata": {
        "id": "aOlCxaS8cvPX"
      },
      "source": [
        "####Support Vector Machine"
      ]
    },
    {
      "cell_type": "code",
      "execution_count": null,
      "metadata": {
        "id": "Me2UZqvicvPX"
      },
      "outputs": [],
      "source": [
        "# fit the model with all feature\n",
        "model = SVC()\n",
        "model.fit(X_train, y_train)\n",
        "# evaluate the model\n",
        "yhat = model.predict(X_test)\n",
        "# evaluate predictions\n",
        "accuracy = accuracy_score(y_test, yhat)\n",
        "print('Accuracy with all feature: %.2f' % (accuracy*100))"
      ]
    },
    {
      "cell_type": "code",
      "execution_count": null,
      "metadata": {
        "id": "795BXqR7cvPX"
      },
      "outputs": [],
      "source": [
        "#Evaluate model with feature selection\n",
        "print('Evaluate model with feature selection')\n",
        "\n",
        "# fit the model with feature selection ANOVA\n",
        "model.fit(X_train_selected_anova, y_train)\n",
        "# evaluate the model\n",
        "yhat = model.predict(X_test_selected_anova)\n",
        "# evaluate predictions\n",
        "accuracy = accuracy_score(y_test, yhat)\n",
        "print('Accuracy with feature selection ANOVA: %.2f' % (accuracy*100))\n",
        "\n",
        "# fit the model with feature selection univariate\n",
        "model.fit(X_train_selected_univariate, y_train)\n",
        "# evaluate the model\n",
        "yhat = model.predict(X_test_selected_univariate)\n",
        "# evaluate predictions\n",
        "accuracy = accuracy_score(y_test, yhat)\n",
        "print('Accuracy with feature selection Univariate Selection: %.2f' % (accuracy*100))\n",
        "\n",
        "# fit the model with Recursive Feature Elimination\n",
        "model.fit(X_train_selected_rfe, y_train)\n",
        "# evaluate the model\n",
        "yhat = model.predict(X_test_selected_rfe)\n",
        "# evaluate predictions\n",
        "accuracy = accuracy_score(y_test, yhat)\n",
        "print('Accuracy with feature selection Recursive Feature Elimination: %.2f' % (accuracy*100))"
      ]
    },
    {
      "cell_type": "code",
      "execution_count": null,
      "metadata": {
        "id": "-huiU094cvPX"
      },
      "outputs": [],
      "source": [
        "# Define hyperparameter grid\n",
        "param_grid = {\n",
        "    'C': [0.1, 1, 10],\n",
        "    'gamma': [0.1, 1, 'auto']\n",
        "}"
      ]
    },
    {
      "cell_type": "code",
      "execution_count": null,
      "metadata": {
        "id": "Iu-L6y3CcvPX"
      },
      "outputs": [],
      "source": [
        "# Perform hyperparameter tuning using GridSearchCV\n",
        "grid_search = GridSearchCV(estimator=model, param_grid=param_grid, cv=kfold, scoring=scoring)\n",
        "grid_search.fit(X_train_selected_anova, y_train)\n",
        "\n",
        "# Print the best hyperparameter values\n",
        "best_params = grid_search.best_params_\n",
        "best_score = grid_search.best_score_\n",
        "print(\"Best Hyperparameters with feature selection ANOVA:\", best_params)\n",
        "\n",
        "# Prediction on test set\n",
        "y_pred = grid_search.best_estimator_.predict(X_test_selected_anova)\n",
        "accuracy = round( metrics.accuracy_score(y_test, y_pred) * 100, 2 )\n",
        "\n",
        "# Compare the accuracies\n",
        "print(\"Best score accuracy for Support Vector Machine hyperparameter tuning with feature selection ANOVA:\", accuracy)"
      ]
    },
    {
      "cell_type": "code",
      "execution_count": null,
      "metadata": {
        "id": "Egpg44WTcvPX"
      },
      "outputs": [],
      "source": [
        "# Perform hyperparameter tuning using GridSearchCV\n",
        "grid_search = GridSearchCV(estimator=model, param_grid=param_grid, cv=kfold, scoring=scoring)\n",
        "grid_search.fit(X_train_selected_univariate, y_train)\n",
        "\n",
        "# Print the best hyperparameter values\n",
        "best_params = grid_search.best_params_\n",
        "best_score = grid_search.best_score_\n",
        "print(\"Best Hyperparameters with feature selection Univariate:\", best_params)\n",
        "\n",
        "# Prediction on test set\n",
        "y_pred = grid_search.best_estimator_.predict(X_test_selected_univariate)\n",
        "accuracy = round( metrics.accuracy_score(y_test, y_pred) * 100, 2 )\n",
        "\n",
        "# Compare the accuracies\n",
        "print(\"Best score accuracy for Support Vector Machine hyperparameter tuning with feature selection Univariate:\", accuracy)"
      ]
    },
    {
      "cell_type": "code",
      "execution_count": null,
      "metadata": {
        "id": "H-K613c3cvPY"
      },
      "outputs": [],
      "source": [
        "# Perform hyperparameter tuning using GridSearchCV\n",
        "grid_search = GridSearchCV(estimator=model, param_grid=param_grid, cv=kfold, scoring=scoring)\n",
        "grid_search.fit(X_train_selected_rfe, y_train)\n",
        "\n",
        "# Print the best hyperparameter values\n",
        "best_params = grid_search.best_params_\n",
        "best_score = grid_search.best_score_\n",
        "print(\"Best Hyperparameters with feature selection RFE:\", best_params)\n",
        "\n",
        "# Prediction on test set\n",
        "y_pred = grid_search.best_estimator_.predict(X_test_selected_rfe)\n",
        "accuracy = round( metrics.accuracy_score(y_test, y_pred) * 100, 2 )\n",
        "\n",
        "# Compare the accuracies\n",
        "print(\"Best score accuracy for Support Vector Machine hyperparameter tuning with feature selection RFE:\", accuracy)"
      ]
    },
    {
      "cell_type": "code",
      "execution_count": null,
      "metadata": {
        "id": "t9PHVlujcvPY"
      },
      "outputs": [],
      "source": [
        "# Perform hyperparameter tuning using GridSearchCV\n",
        "grid_search = GridSearchCV(estimator=model, param_grid=param_grid, cv=kfold, scoring=scoring)\n",
        "grid_search.fit(X_train_reduced_pca, y_train)\n",
        "\n",
        "# Print the best hyperparameter values\n",
        "best_params = grid_search.best_params_\n",
        "best_score = grid_search.best_score_\n",
        "print(\"Best Hyperparameters with feature reduction PCA:\", best_params)\n",
        "\n",
        "# Prediction on test set\n",
        "y_pred = grid_search.best_estimator_.predict(X_test_reduced_pca)\n",
        "accuracy = round( metrics.accuracy_score(y_test, y_pred) * 100, 2 )\n",
        "\n",
        "# Compare the accuracies\n",
        "print(\"Best score accuracy for Support Vector Machine hyperparameter tuning with feature reduction PCA:\", accuracy)"
      ]
    },
    {
      "cell_type": "code",
      "execution_count": null,
      "metadata": {
        "id": "ie-94UN7cvPY"
      },
      "outputs": [],
      "source": [
        "# Perform hyperparameter tuning using GridSearchCV\n",
        "grid_search = GridSearchCV(estimator=model, param_grid=param_grid, cv=kfold, scoring=scoring)\n",
        "grid_search.fit(X_train_reduced_lda, y_train)\n",
        "\n",
        "# Print the best hyperparameter values\n",
        "best_params = grid_search.best_params_\n",
        "best_score = grid_search.best_score_\n",
        "print(\"Best Hyperparameters with feature reduction LDA:\", best_params)\n",
        "\n",
        "# Prediction on test set\n",
        "y_pred = grid_search.best_estimator_.predict(X_test_reduced_lda)\n",
        "accuracy = round( metrics.accuracy_score(y_test, y_pred) * 100, 2 )\n",
        "\n",
        "# Compare the accuracies\n",
        "print(\"Best score accuracy for Support Vector Machine hyperparameter tuning with feature reduction LDA:\", accuracy)"
      ]
    },
    {
      "cell_type": "markdown",
      "metadata": {
        "id": "bj4nVIlqcvPY"
      },
      "source": [
        "####K-Nearest Neighbors"
      ]
    },
    {
      "cell_type": "code",
      "execution_count": null,
      "metadata": {
        "id": "tu_ehDk-cvPY"
      },
      "outputs": [],
      "source": [
        "# fit the model with all feature\n",
        "model = KNeighborsClassifier()\n",
        "model.fit(X_train, y_train)\n",
        "# evaluate the model\n",
        "yhat = model.predict(X_test)\n",
        "# evaluate predictions\n",
        "accuracy = accuracy_score(y_test, yhat)\n",
        "print('Accuracy with all feature: %.2f' % (accuracy*100))"
      ]
    },
    {
      "cell_type": "code",
      "execution_count": null,
      "metadata": {
        "id": "Q104cLW9cvPY"
      },
      "outputs": [],
      "source": [
        "#Evaluate model with feature selection\n",
        "print('Evaluate model with feature selection')\n",
        "\n",
        "# fit the model with feature selection ANOVA\n",
        "model.fit(X_train_selected_anova, y_train)\n",
        "# evaluate the model\n",
        "yhat = model.predict(X_test_selected_anova)\n",
        "# evaluate predictions\n",
        "accuracy = accuracy_score(y_test, yhat)\n",
        "print('Accuracy with feature selection ANOVA: %.2f' % (accuracy*100))\n",
        "\n",
        "# fit the model with feature selection univariate\n",
        "model.fit(X_train_selected_univariate, y_train)\n",
        "# evaluate the model\n",
        "yhat = model.predict(X_test_selected_univariate)\n",
        "# evaluate predictions\n",
        "accuracy = accuracy_score(y_test, yhat)\n",
        "print('Accuracy with feature selection Univariate Selection: %.2f' % (accuracy*100))\n",
        "\n",
        "# fit the model with Recursive Feature Elimination\n",
        "model.fit(X_train_selected_rfe, y_train)\n",
        "# evaluate the model\n",
        "yhat = model.predict(X_test_selected_rfe)\n",
        "# evaluate predictions\n",
        "accuracy = accuracy_score(y_test, yhat)\n",
        "print('Accuracy with feature selection Recursive Feature Elimination: %.2f' % (accuracy*100))"
      ]
    },
    {
      "cell_type": "code",
      "execution_count": null,
      "metadata": {
        "id": "QeP6NcNucvPY"
      },
      "outputs": [],
      "source": [
        "# Define hyperparameter grid for KNeighborsClassifier\n",
        "param_grid = {\n",
        "    'n_neighbors': [3, 5, 7, 9],\n",
        "    'weights': ['uniform', 'distance']\n",
        "}"
      ]
    },
    {
      "cell_type": "code",
      "execution_count": null,
      "metadata": {
        "id": "hLePLjd7cvPZ"
      },
      "outputs": [],
      "source": [
        "# Perform hyperparameter tuning using GridSearchCV\n",
        "grid_search = GridSearchCV(estimator=model, param_grid=param_grid, cv=kfold, scoring=scoring)\n",
        "grid_search.fit(X_train_selected_anova, y_train)\n",
        "\n",
        "# Print the best hyperparameter values\n",
        "best_params = grid_search.best_params_\n",
        "best_score = grid_search.best_score_\n",
        "print(\"Best Hyperparameters with feature selection ANOVA:\", best_params)\n",
        "\n",
        "# Prediction on test set\n",
        "y_pred = grid_search.best_estimator_.predict(X_test_selected_anova)\n",
        "accuracy = round( metrics.accuracy_score(y_test, y_pred) * 100, 2 )\n",
        "\n",
        "# Compare the accuracies\n",
        "print(\"Best score accuracy for K-Nearest Neighbors hyperparameter tuning with feature selection ANOVA:\", accuracy)"
      ]
    },
    {
      "cell_type": "code",
      "execution_count": null,
      "metadata": {
        "id": "fvxDhHlecvPZ"
      },
      "outputs": [],
      "source": [
        "# Perform hyperparameter tuning using GridSearchCV\n",
        "grid_search = GridSearchCV(estimator=model, param_grid=param_grid, cv=kfold, scoring=scoring)\n",
        "grid_search.fit(X_train_selected_univariate, y_train)\n",
        "\n",
        "# Print the best hyperparameter values\n",
        "best_params = grid_search.best_params_\n",
        "best_score = grid_search.best_score_\n",
        "print(\"Best Hyperparameters with feature selection Univariate:\", best_params)\n",
        "\n",
        "# Prediction on test set\n",
        "y_pred = grid_search.best_estimator_.predict(X_test_selected_univariate)\n",
        "accuracy = round( metrics.accuracy_score(y_test, y_pred) * 100, 2 )\n",
        "\n",
        "# Compare the accuracies\n",
        "print(\"Best score accuracy for K-Nearest Neighbors hyperparameter tuning with feature selection Univariate:\", accuracy)"
      ]
    },
    {
      "cell_type": "code",
      "execution_count": null,
      "metadata": {
        "id": "9Ofhwr9GcvPZ"
      },
      "outputs": [],
      "source": [
        "# Perform hyperparameter tuning using GridSearchCV\n",
        "grid_search = GridSearchCV(estimator=model, param_grid=param_grid, cv=kfold, scoring=scoring)\n",
        "grid_search.fit(X_train_selected_rfe, y_train)\n",
        "\n",
        "# Print the best hyperparameter values\n",
        "best_params = grid_search.best_params_\n",
        "best_score = grid_search.best_score_\n",
        "print(\"Best Hyperparameters with feature selection RFE:\", best_params)\n",
        "\n",
        "# Prediction on test set\n",
        "y_pred = grid_search.best_estimator_.predict(X_test_selected_rfe)\n",
        "accuracy = round( metrics.accuracy_score(y_test, y_pred) * 100, 2 )\n",
        "\n",
        "# Compare the accuracies\n",
        "print(\"Best score accuracy for K-Nearest Neighbors hyperparameter tuning with feature selection RFE:\", accuracy)"
      ]
    },
    {
      "cell_type": "code",
      "execution_count": null,
      "metadata": {
        "id": "U3jrVbCncvPZ"
      },
      "outputs": [],
      "source": [
        "# Perform hyperparameter tuning using GridSearchCV\n",
        "grid_search = GridSearchCV(estimator=model, param_grid=param_grid, cv=kfold, scoring=scoring)\n",
        "grid_search.fit(X_train_reduced_pca, y_train)\n",
        "\n",
        "# Print the best hyperparameter values\n",
        "best_params = grid_search.best_params_\n",
        "best_score = grid_search.best_score_\n",
        "print(\"Best Hyperparameters with feature reduction PCA:\", best_params)\n",
        "\n",
        "# Prediction on test set\n",
        "y_pred = grid_search.best_estimator_.predict(X_test_reduced_pca)\n",
        "accuracy = round( metrics.accuracy_score(y_test, y_pred) * 100, 2 )\n",
        "\n",
        "# Compare the accuracies\n",
        "print(\"Best score accuracy for K-Nearest Neighbors hyperparameter tuning with feature reduction PCA:\", accuracy)"
      ]
    },
    {
      "cell_type": "code",
      "execution_count": null,
      "metadata": {
        "id": "LyyezSHlcvPZ"
      },
      "outputs": [],
      "source": [
        "# Perform hyperparameter tuning using GridSearchCV\n",
        "grid_search = GridSearchCV(estimator=model, param_grid=param_grid, cv=kfold, scoring=scoring)\n",
        "grid_search.fit(X_train_reduced_lda, y_train)\n",
        "\n",
        "# Print the best hyperparameter values\n",
        "best_params = grid_search.best_params_\n",
        "best_score = grid_search.best_score_\n",
        "print(\"Best Hyperparameters with feature reduction LDA:\", best_params)\n",
        "\n",
        "# Prediction on test set\n",
        "y_pred = grid_search.best_estimator_.predict(X_test_reduced_lda)\n",
        "accuracy = round( metrics.accuracy_score(y_test, y_pred) * 100, 2 )\n",
        "\n",
        "# Compare the accuracies\n",
        "print(\"Best score accuracy for K-Nearest Neighbors hyperparameter tuning with feature reduction LDA:\", accuracy)"
      ]
    },
    {
      "cell_type": "markdown",
      "metadata": {
        "id": "lWvKTXwPcvPZ"
      },
      "source": [
        "####Random Forest"
      ]
    },
    {
      "cell_type": "code",
      "execution_count": null,
      "metadata": {
        "id": "EKNn6daxcvPZ"
      },
      "outputs": [],
      "source": [
        "# fit the model with all feature\n",
        "model = RandomForestClassifier()\n",
        "model.fit(X_train, y_train)\n",
        "# evaluate the model\n",
        "yhat = model.predict(X_test)\n",
        "# evaluate predictions\n",
        "accuracy = accuracy_score(y_test, yhat)\n",
        "print('Accuracy with all feature: %.2f' % (accuracy*100))"
      ]
    },
    {
      "cell_type": "code",
      "execution_count": null,
      "metadata": {
        "id": "6mFBV7DdcvPa"
      },
      "outputs": [],
      "source": [
        "#Evaluate model with feature selection\n",
        "print('Evaluate model with feature selection')\n",
        "\n",
        "# fit the model with feature selection ANOVA\n",
        "model.fit(X_train_selected_anova, y_train)\n",
        "# evaluate the model\n",
        "yhat = model.predict(X_test_selected_anova)\n",
        "# evaluate predictions\n",
        "accuracy = accuracy_score(y_test, yhat)\n",
        "print('Accuracy with feature selection ANOVA: %.2f' % (accuracy*100))\n",
        "\n",
        "# fit the model with feature selection univariate\n",
        "model.fit(X_train_selected_univariate, y_train)\n",
        "# evaluate the model\n",
        "yhat = model.predict(X_test_selected_univariate)\n",
        "# evaluate predictions\n",
        "accuracy = accuracy_score(y_test, yhat)\n",
        "print('Accuracy with feature selection Univariate Selection: %.2f' % (accuracy*100))\n",
        "\n",
        "# fit the model with Recursive Feature Elimination\n",
        "model.fit(X_train_selected_rfe, y_train)\n",
        "# evaluate the model\n",
        "yhat = model.predict(X_test_selected_rfe)\n",
        "# evaluate predictions\n",
        "accuracy = accuracy_score(y_test, yhat)\n",
        "print('Accuracy with feature selection Recursive Feature Elimination: %.2f' % (accuracy*100))"
      ]
    },
    {
      "cell_type": "code",
      "execution_count": null,
      "metadata": {
        "id": "Y-TUDaWbcvPa"
      },
      "outputs": [],
      "source": [
        "# Define hyperparameter grid for KNeighborsClassifier\n",
        "param_grid = {\n",
        "    'n_estimators': [50, 100, 200],\n",
        "    'max_depth': [None, 10, 20]\n",
        "}"
      ]
    },
    {
      "cell_type": "code",
      "execution_count": null,
      "metadata": {
        "id": "W7RXz3afcvPa"
      },
      "outputs": [],
      "source": [
        "# Perform hyperparameter tuning using GridSearchCV\n",
        "grid_search = GridSearchCV(estimator=model, param_grid=param_grid, cv=kfold, scoring=scoring)\n",
        "grid_search.fit(X_train_selected_anova, y_train)\n",
        "\n",
        "# Print the best hyperparameter values\n",
        "best_params = grid_search.best_params_\n",
        "best_score = grid_search.best_score_\n",
        "print(\"Best Hyperparameters with feature selection ANOVA:\", best_params)\n",
        "\n",
        "# Prediction on test set\n",
        "y_pred = grid_search.best_estimator_.predict(X_test_selected_anova)\n",
        "accuracy = round( metrics.accuracy_score(y_test, y_pred) * 100, 2 )\n",
        "\n",
        "# Compare the accuracies\n",
        "print(\"Best score accuracy for Random Forest hyperparameter tuning with feature selection ANOVA:\", accuracy)"
      ]
    },
    {
      "cell_type": "code",
      "execution_count": null,
      "metadata": {
        "id": "jdN1ekYqcvPa"
      },
      "outputs": [],
      "source": [
        "# Perform hyperparameter tuning using GridSearchCV\n",
        "grid_search = GridSearchCV(estimator=model, param_grid=param_grid, cv=kfold, scoring=scoring)\n",
        "grid_search.fit(X_train_selected_univariate, y_train)\n",
        "\n",
        "# Print the best hyperparameter values\n",
        "best_params = grid_search.best_params_\n",
        "best_score = grid_search.best_score_\n",
        "print(\"Best Hyperparameters with feature selection Univariate:\", best_params)\n",
        "\n",
        "# Prediction on test set\n",
        "y_pred = grid_search.best_estimator_.predict(X_test_selected_univariate)\n",
        "accuracy = round( metrics.accuracy_score(y_test, y_pred) * 100, 2 )\n",
        "\n",
        "# Compare the accuracies\n",
        "print(\"Best score accuracy for Random Forest hyperparameter tuning with feature selection Univariate:\", accuracy)"
      ]
    },
    {
      "cell_type": "code",
      "execution_count": null,
      "metadata": {
        "id": "ah_PiBv2cvPa"
      },
      "outputs": [],
      "source": [
        "# Perform hyperparameter tuning using GridSearchCV\n",
        "grid_search = GridSearchCV(estimator=model, param_grid=param_grid, cv=kfold, scoring=scoring)\n",
        "grid_search.fit(X_train_selected_rfe, y_train)\n",
        "\n",
        "# Print the best hyperparameter values\n",
        "best_params = grid_search.best_params_\n",
        "best_score = grid_search.best_score_\n",
        "print(\"Best Hyperparameters with feature selection RFE:\", best_params)\n",
        "\n",
        "# Prediction on test set\n",
        "y_pred = grid_search.best_estimator_.predict(X_test_selected_rfe)\n",
        "accuracy = round( metrics.accuracy_score(y_test, y_pred) * 100, 2 )\n",
        "\n",
        "# Compare the accuracies\n",
        "print(\"Best score accuracy for Random Forest hyperparameter tuning with feature selection RFE:\", accuracy)"
      ]
    },
    {
      "cell_type": "code",
      "execution_count": null,
      "metadata": {
        "id": "W7zS1AqvcvPa"
      },
      "outputs": [],
      "source": [
        "# Perform hyperparameter tuning using GridSearchCV\n",
        "grid_search = GridSearchCV(estimator=model, param_grid=param_grid, cv=kfold, scoring=scoring)\n",
        "grid_search.fit(X_train_reduced_pca, y_train)\n",
        "\n",
        "# Print the best hyperparameter values\n",
        "best_params = grid_search.best_params_\n",
        "best_score = grid_search.best_score_\n",
        "print(\"Best Hyperparameters with feature reduction PCA:\", best_params)\n",
        "\n",
        "# Prediction on test set\n",
        "y_pred = grid_search.best_estimator_.predict(X_test_reduced_pca)\n",
        "accuracy = round( metrics.accuracy_score(y_test, y_pred) * 100, 2 )\n",
        "\n",
        "# Compare the accuracies\n",
        "print(\"Best score accuracy for Random Forest hyperparameter tuning with feature reduction PCA:\", accuracy)"
      ]
    },
    {
      "cell_type": "code",
      "execution_count": null,
      "metadata": {
        "id": "r4BVXpoYcvPa"
      },
      "outputs": [],
      "source": [
        "# Perform hyperparameter tuning using GridSearchCV\n",
        "grid_search = GridSearchCV(estimator=model, param_grid=param_grid, cv=kfold, scoring=scoring)\n",
        "grid_search.fit(X_train_reduced_lda, y_train)\n",
        "\n",
        "# Print the best hyperparameter values\n",
        "best_params = grid_search.best_params_\n",
        "best_score = grid_search.best_score_\n",
        "print(\"Best Hyperparameters with feature reduction LDA:\", best_params)\n",
        "\n",
        "# Prediction on test set\n",
        "y_pred = grid_search.best_estimator_.predict(X_test_reduced_lda)\n",
        "accuracy = round( metrics.accuracy_score(y_test, y_pred) * 100, 2 )\n",
        "\n",
        "# Compare the accuracies\n",
        "print(\"Best score accuracy for Random Forest hyperparameter tuning with feature reduction LDA:\", accuracy)"
      ]
    }
  ],
  "metadata": {
    "colab": {
      "collapsed_sections": [
        "zEGPuenGcvPU"
      ],
      "provenance": [],
      "toc_visible": true
    },
    "kernelspec": {
      "display_name": "Python 3",
      "name": "python3"
    },
    "language_info": {
      "codemirror_mode": {
        "name": "ipython",
        "version": 3
      },
      "file_extension": ".py",
      "mimetype": "text/x-python",
      "name": "python",
      "nbconvert_exporter": "python",
      "pygments_lexer": "ipython3",
      "version": "3.11.5"
    }
  },
  "nbformat": 4,
  "nbformat_minor": 0
}
