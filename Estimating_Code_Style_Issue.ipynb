{
  "cells": [
    {
      "cell_type": "markdown",
      "metadata": {
        "id": "UKKoJ5wKDW4O"
      },
      "source": [
        "**Estimating Code Style Issue**"
      ]
    },
    {
      "cell_type": "markdown",
      "metadata": {
        "id": "KnOhneV2Enh3"
      },
      "source": [
        "# Dataset"
      ]
    },
    {
      "cell_type": "code",
      "execution_count": 1,
      "metadata": {
        "colab": {
          "base_uri": "https://localhost:8080/",
          "height": 17
        },
        "id": "3shF_zsMblfS",
        "outputId": "055b8ea0-814f-4a42-bf5c-957215a79d7d"
      },
      "outputs": [
        {
          "data": {
            "text/html": [
              "        <script type=\"text/javascript\">\n",
              "        window.PlotlyConfig = {MathJaxConfig: 'local'};\n",
              "        if (window.MathJax && window.MathJax.Hub && window.MathJax.Hub.Config) {window.MathJax.Hub.Config({SVG: {font: \"STIX-Web\"}});}\n",
              "        if (typeof require !== 'undefined') {\n",
              "        require.undef(\"plotly\");\n",
              "        requirejs.config({\n",
              "            paths: {\n",
              "                'plotly': ['https://cdn.plot.ly/plotly-2.29.1.min']\n",
              "            }\n",
              "        });\n",
              "        require(['plotly'], function(Plotly) {\n",
              "            window._Plotly = Plotly;\n",
              "        });\n",
              "        }\n",
              "        </script>\n",
              "        "
            ]
          },
          "metadata": {},
          "output_type": "display_data"
        },
        {
          "data": {
            "text/html": [
              "        <script type=\"text/javascript\">\n",
              "        window.PlotlyConfig = {MathJaxConfig: 'local'};\n",
              "        if (window.MathJax && window.MathJax.Hub && window.MathJax.Hub.Config) {window.MathJax.Hub.Config({SVG: {font: \"STIX-Web\"}});}\n",
              "        if (typeof require !== 'undefined') {\n",
              "        require.undef(\"plotly\");\n",
              "        requirejs.config({\n",
              "            paths: {\n",
              "                'plotly': ['https://cdn.plot.ly/plotly-2.29.1.min']\n",
              "            }\n",
              "        });\n",
              "        require(['plotly'], function(Plotly) {\n",
              "            window._Plotly = Plotly;\n",
              "        });\n",
              "        }\n",
              "        </script>\n",
              "        "
            ]
          },
          "metadata": {},
          "output_type": "display_data"
        }
      ],
      "source": [
        "import numpy as np\n",
        "import pandas as pd\n",
        "from pandas import Series, DataFrame\n",
        "from numpy import arange\n",
        "\n",
        "import plotly.graph_objs as go\n",
        "from plotly.offline import download_plotlyjs, init_notebook_mode, plot,iplot\n",
        "init_notebook_mode(connected=True)\n",
        "\n",
        "import seaborn as sns\n",
        "import matplotlib.pyplot as plt\n",
        "from plotly.offline import init_notebook_mode, iplot\n",
        "init_notebook_mode(connected=True)\n",
        "\n",
        "from scipy import stats\n",
        "%matplotlib inline\n",
        "from sklearn.preprocessing import LabelEncoder, MinMaxScaler\n",
        "from sklearn.model_selection import train_test_split\n",
        "\n",
        "import warnings\n",
        "warnings.filterwarnings(\"ignore\")"
      ]
    },
    {
      "cell_type": "code",
      "execution_count": 2,
      "metadata": {
        "id": "ZsZgoAKFDnA9"
      },
      "outputs": [],
      "source": [
        "url = 'https://raw.githubusercontent.com/k4ilham/Tugas-Paper-Kelompok-3---Software-Engineering/main/dataset.csv'\n",
        "df = pd.read_csv(url, encoding='latin1')"
      ]
    },
    {
      "cell_type": "code",
      "execution_count": 3,
      "metadata": {
        "colab": {
          "base_uri": "https://localhost:8080/",
          "height": 464
        },
        "id": "_DM4TpWnETaL",
        "outputId": "92f72b13-8beb-42e9-ebca-fb3c9a381bde"
      },
      "outputs": [
        {
          "data": {
            "text/html": [
              "<div>\n",
              "<style scoped>\n",
              "    .dataframe tbody tr th:only-of-type {\n",
              "        vertical-align: middle;\n",
              "    }\n",
              "\n",
              "    .dataframe tbody tr th {\n",
              "        vertical-align: top;\n",
              "    }\n",
              "\n",
              "    .dataframe thead th {\n",
              "        text-align: right;\n",
              "    }\n",
              "</style>\n",
              "<table border=\"1\" class=\"dataframe\">\n",
              "  <thead>\n",
              "    <tr style=\"text-align: right;\">\n",
              "      <th></th>\n",
              "      <th>project_name</th>\n",
              "      <th>web_url</th>\n",
              "      <th>data_release</th>\n",
              "      <th>about</th>\n",
              "      <th>languages</th>\n",
              "      <th>watch</th>\n",
              "      <th>fork</th>\n",
              "      <th>star</th>\n",
              "      <th>brances</th>\n",
              "      <th>tags</th>\n",
              "      <th>...</th>\n",
              "      <th>duplication</th>\n",
              "      <th>branch</th>\n",
              "      <th>severity_minor</th>\n",
              "      <th>severity_medium</th>\n",
              "      <th>severity_critical</th>\n",
              "      <th>grade</th>\n",
              "      <th>security.1</th>\n",
              "      <th>performance.1</th>\n",
              "      <th>error_prone</th>\n",
              "      <th>code_style</th>\n",
              "    </tr>\n",
              "  </thead>\n",
              "  <tbody>\n",
              "    <tr>\n",
              "      <th>0</th>\n",
              "      <td>pytorch / vision</td>\n",
              "      <td>Releases · pytorch/vision (github.com)</td>\n",
              "      <td>05-Oct-23</td>\n",
              "      <td>Datasets, Transforms and Models specific to Co...</td>\n",
              "      <td>Python</td>\n",
              "      <td>398</td>\n",
              "      <td>6800</td>\n",
              "      <td>14800</td>\n",
              "      <td>108</td>\n",
              "      <td>113</td>\n",
              "      <td>...</td>\n",
              "      <td>31%</td>\n",
              "      <td>1</td>\n",
              "      <td>882</td>\n",
              "      <td>506</td>\n",
              "      <td>50</td>\n",
              "      <td>A</td>\n",
              "      <td>108</td>\n",
              "      <td>5</td>\n",
              "      <td>1</td>\n",
              "      <td>1324</td>\n",
              "    </tr>\n",
              "    <tr>\n",
              "      <th>1</th>\n",
              "      <td>opencv</td>\n",
              "      <td>opencv/opencv: Open Source Computer Vision Lib...</td>\n",
              "      <td>04-Jul-13</td>\n",
              "      <td>Open Source Computer Vision Library</td>\n",
              "      <td>C++</td>\n",
              "      <td>2700</td>\n",
              "      <td>55700</td>\n",
              "      <td>72400</td>\n",
              "      <td>6</td>\n",
              "      <td>123</td>\n",
              "      <td>...</td>\n",
              "      <td>28%</td>\n",
              "      <td>1</td>\n",
              "      <td>11843</td>\n",
              "      <td>1941</td>\n",
              "      <td>608</td>\n",
              "      <td>A</td>\n",
              "      <td>550</td>\n",
              "      <td>233</td>\n",
              "      <td>907</td>\n",
              "      <td>12625</td>\n",
              "    </tr>\n",
              "    <tr>\n",
              "      <th>2</th>\n",
              "      <td>mmcv</td>\n",
              "      <td>open-mmlab/mmcv: OpenMMLab Computer Vision Fou...</td>\n",
              "      <td>03-Aug-20</td>\n",
              "      <td>OpenMMLab Computer Vision Foundation</td>\n",
              "      <td>Python</td>\n",
              "      <td>87</td>\n",
              "      <td>1600</td>\n",
              "      <td>5300</td>\n",
              "      <td>10</td>\n",
              "      <td>106</td>\n",
              "      <td>...</td>\n",
              "      <td>32%</td>\n",
              "      <td>1</td>\n",
              "      <td>349</td>\n",
              "      <td>68</td>\n",
              "      <td>29</td>\n",
              "      <td>A</td>\n",
              "      <td>16</td>\n",
              "      <td>30</td>\n",
              "      <td>16</td>\n",
              "      <td>384</td>\n",
              "    </tr>\n",
              "    <tr>\n",
              "      <th>3</th>\n",
              "      <td>AliceVision</td>\n",
              "      <td>alicevision/AliceVision: Photogrammetric Compu...</td>\n",
              "      <td>09-Aug-18</td>\n",
              "      <td>Photogrammetric Computer Vision Framework</td>\n",
              "      <td>C++</td>\n",
              "      <td>133</td>\n",
              "      <td>770</td>\n",
              "      <td>2700</td>\n",
              "      <td>121</td>\n",
              "      <td>22</td>\n",
              "      <td>...</td>\n",
              "      <td>35%</td>\n",
              "      <td>1</td>\n",
              "      <td>832</td>\n",
              "      <td>638</td>\n",
              "      <td>15</td>\n",
              "      <td>A</td>\n",
              "      <td>54</td>\n",
              "      <td>22</td>\n",
              "      <td>37</td>\n",
              "      <td>1372</td>\n",
              "    </tr>\n",
              "    <tr>\n",
              "      <th>4</th>\n",
              "      <td>computervision-recipes</td>\n",
              "      <td>microsoft/computervision-recipes: Best Practic...</td>\n",
              "      <td>01-Oct-19</td>\n",
              "      <td>Best Practices, code samples, and documentatio...</td>\n",
              "      <td>Jupyter Notebook</td>\n",
              "      <td>288</td>\n",
              "      <td>1200</td>\n",
              "      <td>9200</td>\n",
              "      <td>28</td>\n",
              "      <td>3</td>\n",
              "      <td>...</td>\n",
              "      <td>16%</td>\n",
              "      <td>1</td>\n",
              "      <td>2390</td>\n",
              "      <td>1292</td>\n",
              "      <td>87</td>\n",
              "      <td>B</td>\n",
              "      <td>83</td>\n",
              "      <td>0</td>\n",
              "      <td>30</td>\n",
              "      <td>3656</td>\n",
              "    </tr>\n",
              "  </tbody>\n",
              "</table>\n",
              "<p>5 rows × 40 columns</p>\n",
              "</div>"
            ],
            "text/plain": [
              "             project_name                                            web_url  \\\n",
              "0        pytorch / vision             Releases · pytorch/vision (github.com)   \n",
              "1                  opencv  opencv/opencv: Open Source Computer Vision Lib...   \n",
              "2                    mmcv  open-mmlab/mmcv: OpenMMLab Computer Vision Fou...   \n",
              "3             AliceVision  alicevision/AliceVision: Photogrammetric Compu...   \n",
              "4  computervision-recipes  microsoft/computervision-recipes: Best Practic...   \n",
              "\n",
              "  data_release                                              about  \\\n",
              "0    05-Oct-23  Datasets, Transforms and Models specific to Co...   \n",
              "1    04-Jul-13                Open Source Computer Vision Library   \n",
              "2    03-Aug-20               OpenMMLab Computer Vision Foundation   \n",
              "3    09-Aug-18          Photogrammetric Computer Vision Framework   \n",
              "4    01-Oct-19  Best Practices, code samples, and documentatio...   \n",
              "\n",
              "          languages  watch   fork   star  brances  tags  ...  duplication  \\\n",
              "0            Python    398   6800  14800      108   113  ...          31%   \n",
              "1               C++   2700  55700  72400        6   123  ...          28%   \n",
              "2            Python     87   1600   5300       10   106  ...          32%   \n",
              "3               C++    133    770   2700      121    22  ...          35%   \n",
              "4  Jupyter Notebook    288   1200   9200       28     3  ...          16%   \n",
              "\n",
              "   branch  severity_minor  severity_medium  severity_critical  grade  \\\n",
              "0       1             882              506                 50      A   \n",
              "1       1           11843             1941                608      A   \n",
              "2       1             349               68                 29      A   \n",
              "3       1             832              638                 15      A   \n",
              "4       1            2390             1292                 87      B   \n",
              "\n",
              "   security.1  performance.1  error_prone  code_style  \n",
              "0         108              5            1        1324  \n",
              "1         550            233          907       12625  \n",
              "2          16             30           16         384  \n",
              "3          54             22           37        1372  \n",
              "4          83              0           30        3656  \n",
              "\n",
              "[5 rows x 40 columns]"
            ]
          },
          "execution_count": 3,
          "metadata": {},
          "output_type": "execute_result"
        }
      ],
      "source": [
        "df.head(5)"
      ]
    },
    {
      "cell_type": "code",
      "execution_count": 4,
      "metadata": {
        "colab": {
          "base_uri": "https://localhost:8080/"
        },
        "id": "QYSfn9MUExiM",
        "outputId": "1bf41142-c40f-4b52-e64f-44ddc28c4619"
      },
      "outputs": [
        {
          "data": {
            "text/plain": [
              "(30, 40)"
            ]
          },
          "execution_count": 4,
          "metadata": {},
          "output_type": "execute_result"
        }
      ],
      "source": [
        "df.shape"
      ]
    },
    {
      "cell_type": "code",
      "execution_count": 5,
      "metadata": {
        "colab": {
          "base_uri": "https://localhost:8080/",
          "height": 398
        },
        "id": "vkBSF1H5E2XP",
        "outputId": "ae4b367b-8d46-4f07-86f8-76be9a5f68b3"
      },
      "outputs": [
        {
          "data": {
            "text/html": [
              "<div>\n",
              "<style scoped>\n",
              "    .dataframe tbody tr th:only-of-type {\n",
              "        vertical-align: middle;\n",
              "    }\n",
              "\n",
              "    .dataframe tbody tr th {\n",
              "        vertical-align: top;\n",
              "    }\n",
              "\n",
              "    .dataframe thead tr th {\n",
              "        text-align: left;\n",
              "    }\n",
              "\n",
              "    .dataframe thead tr:last-of-type th {\n",
              "        text-align: right;\n",
              "    }\n",
              "</style>\n",
              "<table border=\"1\" class=\"dataframe\">\n",
              "  <thead>\n",
              "    <tr>\n",
              "      <th></th>\n",
              "      <th colspan=\"8\" halign=\"left\">watch</th>\n",
              "      <th colspan=\"2\" halign=\"left\">fork</th>\n",
              "      <th>...</th>\n",
              "      <th colspan=\"2\" halign=\"left\">error_prone</th>\n",
              "      <th colspan=\"8\" halign=\"left\">code_style</th>\n",
              "    </tr>\n",
              "    <tr>\n",
              "      <th></th>\n",
              "      <th>count</th>\n",
              "      <th>mean</th>\n",
              "      <th>std</th>\n",
              "      <th>min</th>\n",
              "      <th>25%</th>\n",
              "      <th>50%</th>\n",
              "      <th>75%</th>\n",
              "      <th>max</th>\n",
              "      <th>count</th>\n",
              "      <th>mean</th>\n",
              "      <th>...</th>\n",
              "      <th>75%</th>\n",
              "      <th>max</th>\n",
              "      <th>count</th>\n",
              "      <th>mean</th>\n",
              "      <th>std</th>\n",
              "      <th>min</th>\n",
              "      <th>25%</th>\n",
              "      <th>50%</th>\n",
              "      <th>75%</th>\n",
              "      <th>max</th>\n",
              "    </tr>\n",
              "    <tr>\n",
              "      <th>languages</th>\n",
              "      <th></th>\n",
              "      <th></th>\n",
              "      <th></th>\n",
              "      <th></th>\n",
              "      <th></th>\n",
              "      <th></th>\n",
              "      <th></th>\n",
              "      <th></th>\n",
              "      <th></th>\n",
              "      <th></th>\n",
              "      <th></th>\n",
              "      <th></th>\n",
              "      <th></th>\n",
              "      <th></th>\n",
              "      <th></th>\n",
              "      <th></th>\n",
              "      <th></th>\n",
              "      <th></th>\n",
              "      <th></th>\n",
              "      <th></th>\n",
              "      <th></th>\n",
              "    </tr>\n",
              "  </thead>\n",
              "  <tbody>\n",
              "    <tr>\n",
              "      <th>C</th>\n",
              "      <td>2.0</td>\n",
              "      <td>255.5</td>\n",
              "      <td>139.300036</td>\n",
              "      <td>157.0</td>\n",
              "      <td>206.25</td>\n",
              "      <td>255.5</td>\n",
              "      <td>304.75</td>\n",
              "      <td>354.0</td>\n",
              "      <td>2.0</td>\n",
              "      <td>1226.000000</td>\n",
              "      <td>...</td>\n",
              "      <td>80.25</td>\n",
              "      <td>105.0</td>\n",
              "      <td>2.0</td>\n",
              "      <td>782.500000</td>\n",
              "      <td>644.174278</td>\n",
              "      <td>327.0</td>\n",
              "      <td>554.75</td>\n",
              "      <td>782.5</td>\n",
              "      <td>1010.25</td>\n",
              "      <td>1238.0</td>\n",
              "    </tr>\n",
              "    <tr>\n",
              "      <th>C++</th>\n",
              "      <td>5.0</td>\n",
              "      <td>676.4</td>\n",
              "      <td>1134.901449</td>\n",
              "      <td>40.0</td>\n",
              "      <td>133.00</td>\n",
              "      <td>235.0</td>\n",
              "      <td>274.00</td>\n",
              "      <td>2700.0</td>\n",
              "      <td>5.0</td>\n",
              "      <td>11802.400000</td>\n",
              "      <td>...</td>\n",
              "      <td>101.00</td>\n",
              "      <td>907.0</td>\n",
              "      <td>5.0</td>\n",
              "      <td>3868.600000</td>\n",
              "      <td>5053.359902</td>\n",
              "      <td>623.0</td>\n",
              "      <td>919.00</td>\n",
              "      <td>1372.0</td>\n",
              "      <td>3804.00</td>\n",
              "      <td>12625.0</td>\n",
              "    </tr>\n",
              "    <tr>\n",
              "      <th>Go</th>\n",
              "      <td>1.0</td>\n",
              "      <td>151.0</td>\n",
              "      <td>NaN</td>\n",
              "      <td>151.0</td>\n",
              "      <td>151.00</td>\n",
              "      <td>151.0</td>\n",
              "      <td>151.00</td>\n",
              "      <td>151.0</td>\n",
              "      <td>1.0</td>\n",
              "      <td>870.000000</td>\n",
              "      <td>...</td>\n",
              "      <td>2.00</td>\n",
              "      <td>2.0</td>\n",
              "      <td>1.0</td>\n",
              "      <td>163.000000</td>\n",
              "      <td>NaN</td>\n",
              "      <td>163.0</td>\n",
              "      <td>163.00</td>\n",
              "      <td>163.0</td>\n",
              "      <td>163.00</td>\n",
              "      <td>163.0</td>\n",
              "    </tr>\n",
              "    <tr>\n",
              "      <th>Java</th>\n",
              "      <td>2.0</td>\n",
              "      <td>93.5</td>\n",
              "      <td>33.234019</td>\n",
              "      <td>70.0</td>\n",
              "      <td>81.75</td>\n",
              "      <td>93.5</td>\n",
              "      <td>105.25</td>\n",
              "      <td>117.0</td>\n",
              "      <td>2.0</td>\n",
              "      <td>365.000000</td>\n",
              "      <td>...</td>\n",
              "      <td>3.75</td>\n",
              "      <td>5.0</td>\n",
              "      <td>2.0</td>\n",
              "      <td>36543.500000</td>\n",
              "      <td>51449.796506</td>\n",
              "      <td>163.0</td>\n",
              "      <td>18353.25</td>\n",
              "      <td>36543.5</td>\n",
              "      <td>54733.75</td>\n",
              "      <td>72924.0</td>\n",
              "    </tr>\n",
              "    <tr>\n",
              "      <th>JavaScript</th>\n",
              "      <td>1.0</td>\n",
              "      <td>290.0</td>\n",
              "      <td>NaN</td>\n",
              "      <td>290.0</td>\n",
              "      <td>290.00</td>\n",
              "      <td>290.0</td>\n",
              "      <td>290.00</td>\n",
              "      <td>290.0</td>\n",
              "      <td>1.0</td>\n",
              "      <td>1500.000000</td>\n",
              "      <td>...</td>\n",
              "      <td>94.00</td>\n",
              "      <td>94.0</td>\n",
              "      <td>1.0</td>\n",
              "      <td>619.000000</td>\n",
              "      <td>NaN</td>\n",
              "      <td>619.0</td>\n",
              "      <td>619.00</td>\n",
              "      <td>619.0</td>\n",
              "      <td>619.00</td>\n",
              "      <td>619.0</td>\n",
              "    </tr>\n",
              "    <tr>\n",
              "      <th>Jupyter Notebook</th>\n",
              "      <td>4.0</td>\n",
              "      <td>98.0</td>\n",
              "      <td>126.796425</td>\n",
              "      <td>28.0</td>\n",
              "      <td>32.50</td>\n",
              "      <td>38.0</td>\n",
              "      <td>103.50</td>\n",
              "      <td>288.0</td>\n",
              "      <td>4.0</td>\n",
              "      <td>670.750000</td>\n",
              "      <td>...</td>\n",
              "      <td>15.75</td>\n",
              "      <td>30.0</td>\n",
              "      <td>4.0</td>\n",
              "      <td>1389.750000</td>\n",
              "      <td>1556.193727</td>\n",
              "      <td>168.0</td>\n",
              "      <td>532.50</td>\n",
              "      <td>867.5</td>\n",
              "      <td>1724.75</td>\n",
              "      <td>3656.0</td>\n",
              "    </tr>\n",
              "    <tr>\n",
              "      <th>Python</th>\n",
              "      <td>15.0</td>\n",
              "      <td>108.4</td>\n",
              "      <td>106.292588</td>\n",
              "      <td>20.0</td>\n",
              "      <td>39.50</td>\n",
              "      <td>69.0</td>\n",
              "      <td>127.50</td>\n",
              "      <td>398.0</td>\n",
              "      <td>15.0</td>\n",
              "      <td>1109.933333</td>\n",
              "      <td>...</td>\n",
              "      <td>3.00</td>\n",
              "      <td>16.0</td>\n",
              "      <td>15.0</td>\n",
              "      <td>1477.733333</td>\n",
              "      <td>2238.915664</td>\n",
              "      <td>99.0</td>\n",
              "      <td>381.50</td>\n",
              "      <td>623.0</td>\n",
              "      <td>1243.00</td>\n",
              "      <td>8322.0</td>\n",
              "    </tr>\n",
              "  </tbody>\n",
              "</table>\n",
              "<p>7 rows × 240 columns</p>\n",
              "</div>"
            ],
            "text/plain": [
              "                 watch                                                    \\\n",
              "                 count   mean          std    min     25%    50%     75%   \n",
              "languages                                                                  \n",
              "C                  2.0  255.5   139.300036  157.0  206.25  255.5  304.75   \n",
              "C++                5.0  676.4  1134.901449   40.0  133.00  235.0  274.00   \n",
              "Go                 1.0  151.0          NaN  151.0  151.00  151.0  151.00   \n",
              "Java               2.0   93.5    33.234019   70.0   81.75   93.5  105.25   \n",
              "JavaScript         1.0  290.0          NaN  290.0  290.00  290.0  290.00   \n",
              "Jupyter Notebook   4.0   98.0   126.796425   28.0   32.50   38.0  103.50   \n",
              "Python            15.0  108.4   106.292588   20.0   39.50   69.0  127.50   \n",
              "\n",
              "                          fork                ... error_prone         \\\n",
              "                     max count          mean  ...         75%    max   \n",
              "languages                                     ...                      \n",
              "C                  354.0   2.0   1226.000000  ...       80.25  105.0   \n",
              "C++               2700.0   5.0  11802.400000  ...      101.00  907.0   \n",
              "Go                 151.0   1.0    870.000000  ...        2.00    2.0   \n",
              "Java               117.0   2.0    365.000000  ...        3.75    5.0   \n",
              "JavaScript         290.0   1.0   1500.000000  ...       94.00   94.0   \n",
              "Jupyter Notebook   288.0   4.0    670.750000  ...       15.75   30.0   \n",
              "Python             398.0  15.0   1109.933333  ...        3.00   16.0   \n",
              "\n",
              "                 code_style                                               \\\n",
              "                      count          mean           std    min       25%   \n",
              "languages                                                                  \n",
              "C                       2.0    782.500000    644.174278  327.0    554.75   \n",
              "C++                     5.0   3868.600000   5053.359902  623.0    919.00   \n",
              "Go                      1.0    163.000000           NaN  163.0    163.00   \n",
              "Java                    2.0  36543.500000  51449.796506  163.0  18353.25   \n",
              "JavaScript              1.0    619.000000           NaN  619.0    619.00   \n",
              "Jupyter Notebook        4.0   1389.750000   1556.193727  168.0    532.50   \n",
              "Python                 15.0   1477.733333   2238.915664   99.0    381.50   \n",
              "\n",
              "                                              \n",
              "                      50%       75%      max  \n",
              "languages                                     \n",
              "C                   782.5   1010.25   1238.0  \n",
              "C++                1372.0   3804.00  12625.0  \n",
              "Go                  163.0    163.00    163.0  \n",
              "Java              36543.5  54733.75  72924.0  \n",
              "JavaScript          619.0    619.00    619.0  \n",
              "Jupyter Notebook    867.5   1724.75   3656.0  \n",
              "Python              623.0   1243.00   8322.0  \n",
              "\n",
              "[7 rows x 240 columns]"
            ]
          },
          "execution_count": 5,
          "metadata": {},
          "output_type": "execute_result"
        }
      ],
      "source": [
        "df.groupby('languages').describe()"
      ]
    },
    {
      "cell_type": "code",
      "execution_count": 6,
      "metadata": {
        "colab": {
          "base_uri": "https://localhost:8080/"
        },
        "id": "oYVaR6oLGUnm",
        "outputId": "d16558ab-55a5-4239-8e00-fd60cbef83e4"
      },
      "outputs": [
        {
          "name": "stdout",
          "output_type": "stream",
          "text": [
            "<class 'pandas.core.frame.DataFrame'>\n",
            "RangeIndex: 30 entries, 0 to 29\n",
            "Data columns (total 40 columns):\n",
            " #   Column             Non-Null Count  Dtype \n",
            "---  ------             --------------  ----- \n",
            " 0   project_name       30 non-null     object\n",
            " 1   web_url            30 non-null     object\n",
            " 2   data_release       30 non-null     object\n",
            " 3   about              30 non-null     object\n",
            " 4   languages          30 non-null     object\n",
            " 5   watch              30 non-null     int64 \n",
            " 6   fork               30 non-null     int64 \n",
            " 7   star               30 non-null     int64 \n",
            " 8   brances            30 non-null     int64 \n",
            " 9   tags               30 non-null     int64 \n",
            " 10  issue              30 non-null     int64 \n",
            " 11  pull_request       30 non-null     int64 \n",
            " 12  file               30 non-null     int64 \n",
            " 13  total_lines        30 non-null     int64 \n",
            " 14  line_code          30 non-null     int64 \n",
            " 15  line_comment       30 non-null     int64 \n",
            " 16  line_blank         30 non-null     int64 \n",
            " 17  class              30 non-null     int64 \n",
            " 18  function           30 non-null     int64 \n",
            " 19  pull_request2      30 non-null     int64 \n",
            " 20  files              30 non-null     object\n",
            " 21  active_branch      30 non-null     int64 \n",
            " 22  total_issues       30 non-null     int64 \n",
            " 23  complexcity        30 non-null     int64 \n",
            " 24  style              30 non-null     int64 \n",
            " 25  performance        30 non-null     int64 \n",
            " 26  maintainability    30 non-null     int64 \n",
            " 27  security           30 non-null     int64 \n",
            " 28  issues             30 non-null     object\n",
            " 29  complexicy         30 non-null     object\n",
            " 30  duplication        30 non-null     object\n",
            " 31  branch             30 non-null     int64 \n",
            " 32  severity_minor     30 non-null     int64 \n",
            " 33  severity_medium    30 non-null     int64 \n",
            " 34  severity_critical  30 non-null     int64 \n",
            " 35  grade              30 non-null     object\n",
            " 36  security.1         30 non-null     int64 \n",
            " 37  performance.1      30 non-null     int64 \n",
            " 38  error_prone        30 non-null     int64 \n",
            " 39  code_style         30 non-null     int64 \n",
            "dtypes: int64(30), object(10)\n",
            "memory usage: 9.5+ KB\n"
          ]
        }
      ],
      "source": [
        "df.info()"
      ]
    },
    {
      "cell_type": "markdown",
      "metadata": {
        "id": "MXKXF6wiGssp"
      },
      "source": [
        "# Data Cleaning"
      ]
    },
    {
      "cell_type": "markdown",
      "metadata": {
        "id": "RJIcmCf_HaDe"
      },
      "source": [
        "## Removing unneeded column"
      ]
    },
    {
      "cell_type": "code",
      "execution_count": 7,
      "metadata": {
        "colab": {
          "base_uri": "https://localhost:8080/"
        },
        "id": "eXVzFiikKzjd",
        "outputId": "b641f57a-da6c-4380-e67c-1dcc6df0575e"
      },
      "outputs": [
        {
          "name": "stdout",
          "output_type": "stream",
          "text": [
            "<class 'pandas.core.frame.DataFrame'>\n",
            "RangeIndex: 30 entries, 0 to 29\n",
            "Data columns (total 40 columns):\n",
            " #   Column             Non-Null Count  Dtype \n",
            "---  ------             --------------  ----- \n",
            " 0   project_name       30 non-null     object\n",
            " 1   web_url            30 non-null     object\n",
            " 2   data_release       30 non-null     object\n",
            " 3   about              30 non-null     object\n",
            " 4   languages          30 non-null     object\n",
            " 5   watch              30 non-null     int64 \n",
            " 6   fork               30 non-null     int64 \n",
            " 7   star               30 non-null     int64 \n",
            " 8   brances            30 non-null     int64 \n",
            " 9   tags               30 non-null     int64 \n",
            " 10  issue              30 non-null     int64 \n",
            " 11  pull_request       30 non-null     int64 \n",
            " 12  file               30 non-null     int64 \n",
            " 13  total_lines        30 non-null     int64 \n",
            " 14  line_code          30 non-null     int64 \n",
            " 15  line_comment       30 non-null     int64 \n",
            " 16  line_blank         30 non-null     int64 \n",
            " 17  class              30 non-null     int64 \n",
            " 18  function           30 non-null     int64 \n",
            " 19  pull_request2      30 non-null     int64 \n",
            " 20  files              30 non-null     object\n",
            " 21  active_branch      30 non-null     int64 \n",
            " 22  total_issues       30 non-null     int64 \n",
            " 23  complexcity        30 non-null     int64 \n",
            " 24  style              30 non-null     int64 \n",
            " 25  performance        30 non-null     int64 \n",
            " 26  maintainability    30 non-null     int64 \n",
            " 27  security           30 non-null     int64 \n",
            " 28  issues             30 non-null     object\n",
            " 29  complexicy         30 non-null     object\n",
            " 30  duplication        30 non-null     object\n",
            " 31  branch             30 non-null     int64 \n",
            " 32  severity_minor     30 non-null     int64 \n",
            " 33  severity_medium    30 non-null     int64 \n",
            " 34  severity_critical  30 non-null     int64 \n",
            " 35  grade              30 non-null     object\n",
            " 36  security.1         30 non-null     int64 \n",
            " 37  performance.1      30 non-null     int64 \n",
            " 38  error_prone        30 non-null     int64 \n",
            " 39  code_style         30 non-null     int64 \n",
            "dtypes: int64(30), object(10)\n",
            "memory usage: 9.5+ KB\n"
          ]
        }
      ],
      "source": [
        "df.info()"
      ]
    },
    {
      "cell_type": "code",
      "execution_count": 8,
      "metadata": {
        "id": "mIqsZvixGuwP"
      },
      "outputs": [],
      "source": [
        "df.drop('project_name', axis=1, inplace=True)\n",
        "df.drop('web_url', axis=1, inplace=True)\n",
        "df.drop('data_release', axis=1, inplace=True)\n",
        "df.drop('about', axis=1, inplace=True)"
      ]
    },
    {
      "cell_type": "code",
      "execution_count": 9,
      "metadata": {
        "colab": {
          "base_uri": "https://localhost:8080/"
        },
        "id": "BS6Dc2IgLDNm",
        "outputId": "373391ac-f3ca-4511-f584-b44e70a7bfc8"
      },
      "outputs": [
        {
          "name": "stdout",
          "output_type": "stream",
          "text": [
            "<class 'pandas.core.frame.DataFrame'>\n",
            "RangeIndex: 30 entries, 0 to 29\n",
            "Data columns (total 36 columns):\n",
            " #   Column             Non-Null Count  Dtype\n",
            "---  ------             --------------  -----\n",
            " 0   languages          30 non-null     int32\n",
            " 1   watch              30 non-null     int64\n",
            " 2   fork               30 non-null     int64\n",
            " 3   star               30 non-null     int64\n",
            " 4   brances            30 non-null     int64\n",
            " 5   tags               30 non-null     int64\n",
            " 6   issue              30 non-null     int64\n",
            " 7   pull_request       30 non-null     int64\n",
            " 8   file               30 non-null     int64\n",
            " 9   total_lines        30 non-null     int64\n",
            " 10  line_code          30 non-null     int64\n",
            " 11  line_comment       30 non-null     int64\n",
            " 12  line_blank         30 non-null     int64\n",
            " 13  class              30 non-null     int64\n",
            " 14  function           30 non-null     int64\n",
            " 15  pull_request2      30 non-null     int64\n",
            " 16  files              30 non-null     int32\n",
            " 17  active_branch      30 non-null     int64\n",
            " 18  total_issues       30 non-null     int64\n",
            " 19  complexcity        30 non-null     int64\n",
            " 20  style              30 non-null     int64\n",
            " 21  performance        30 non-null     int64\n",
            " 22  maintainability    30 non-null     int64\n",
            " 23  security           30 non-null     int64\n",
            " 24  issues             30 non-null     int32\n",
            " 25  complexicy         30 non-null     int32\n",
            " 26  duplication        30 non-null     int32\n",
            " 27  branch             30 non-null     int64\n",
            " 28  severity_minor     30 non-null     int64\n",
            " 29  severity_medium    30 non-null     int64\n",
            " 30  severity_critical  30 non-null     int64\n",
            " 31  grade              30 non-null     int32\n",
            " 32  security.1         30 non-null     int64\n",
            " 33  performance.1      30 non-null     int64\n",
            " 34  error_prone        30 non-null     int64\n",
            " 35  code_style         30 non-null     int64\n",
            "dtypes: int32(6), int64(30)\n",
            "memory usage: 7.9 KB\n"
          ]
        }
      ],
      "source": [
        "label_encoder = LabelEncoder()\n",
        "df['languages'] = label_encoder.fit_transform(df['languages'])\n",
        "df['files'] = label_encoder.fit_transform(df['files'])\n",
        "df['issues'] = label_encoder.fit_transform(df['issues'])\n",
        "df['complexicy'] = label_encoder.fit_transform(df['complexicy'])\n",
        "df['duplication'] = label_encoder.fit_transform(df['duplication'])\n",
        "df['grade'] = label_encoder.fit_transform(df['grade'])\n",
        "df.info()"
      ]
    },
    {
      "cell_type": "code",
      "execution_count": 10,
      "metadata": {
        "colab": {
          "base_uri": "https://localhost:8080/",
          "height": 255
        },
        "id": "-ybimjPcG1fq",
        "outputId": "f0936212-ae48-4370-ec03-24728c25a07f"
      },
      "outputs": [
        {
          "data": {
            "text/html": [
              "<div>\n",
              "<style scoped>\n",
              "    .dataframe tbody tr th:only-of-type {\n",
              "        vertical-align: middle;\n",
              "    }\n",
              "\n",
              "    .dataframe tbody tr th {\n",
              "        vertical-align: top;\n",
              "    }\n",
              "\n",
              "    .dataframe thead th {\n",
              "        text-align: right;\n",
              "    }\n",
              "</style>\n",
              "<table border=\"1\" class=\"dataframe\">\n",
              "  <thead>\n",
              "    <tr style=\"text-align: right;\">\n",
              "      <th></th>\n",
              "      <th>languages</th>\n",
              "      <th>watch</th>\n",
              "      <th>fork</th>\n",
              "      <th>star</th>\n",
              "      <th>brances</th>\n",
              "      <th>tags</th>\n",
              "      <th>issue</th>\n",
              "      <th>pull_request</th>\n",
              "      <th>file</th>\n",
              "      <th>total_lines</th>\n",
              "      <th>...</th>\n",
              "      <th>duplication</th>\n",
              "      <th>branch</th>\n",
              "      <th>severity_minor</th>\n",
              "      <th>severity_medium</th>\n",
              "      <th>severity_critical</th>\n",
              "      <th>grade</th>\n",
              "      <th>security.1</th>\n",
              "      <th>performance.1</th>\n",
              "      <th>error_prone</th>\n",
              "      <th>code_style</th>\n",
              "    </tr>\n",
              "  </thead>\n",
              "  <tbody>\n",
              "    <tr>\n",
              "      <th>0</th>\n",
              "      <td>6</td>\n",
              "      <td>398</td>\n",
              "      <td>6800</td>\n",
              "      <td>14800</td>\n",
              "      <td>108</td>\n",
              "      <td>113</td>\n",
              "      <td>747</td>\n",
              "      <td>199</td>\n",
              "      <td>7</td>\n",
              "      <td>201</td>\n",
              "      <td>...</td>\n",
              "      <td>15</td>\n",
              "      <td>1</td>\n",
              "      <td>882</td>\n",
              "      <td>506</td>\n",
              "      <td>50</td>\n",
              "      <td>0</td>\n",
              "      <td>108</td>\n",
              "      <td>5</td>\n",
              "      <td>1</td>\n",
              "      <td>1324</td>\n",
              "    </tr>\n",
              "    <tr>\n",
              "      <th>1</th>\n",
              "      <td>1</td>\n",
              "      <td>2700</td>\n",
              "      <td>55700</td>\n",
              "      <td>72400</td>\n",
              "      <td>6</td>\n",
              "      <td>123</td>\n",
              "      <td>2400</td>\n",
              "      <td>116</td>\n",
              "      <td>4901</td>\n",
              "      <td>2903845</td>\n",
              "      <td>...</td>\n",
              "      <td>13</td>\n",
              "      <td>1</td>\n",
              "      <td>11843</td>\n",
              "      <td>1941</td>\n",
              "      <td>608</td>\n",
              "      <td>0</td>\n",
              "      <td>550</td>\n",
              "      <td>233</td>\n",
              "      <td>907</td>\n",
              "      <td>12625</td>\n",
              "    </tr>\n",
              "    <tr>\n",
              "      <th>2</th>\n",
              "      <td>6</td>\n",
              "      <td>87</td>\n",
              "      <td>1600</td>\n",
              "      <td>5300</td>\n",
              "      <td>10</td>\n",
              "      <td>106</td>\n",
              "      <td>222</td>\n",
              "      <td>98</td>\n",
              "      <td>648</td>\n",
              "      <td>85491</td>\n",
              "      <td>...</td>\n",
              "      <td>16</td>\n",
              "      <td>1</td>\n",
              "      <td>349</td>\n",
              "      <td>68</td>\n",
              "      <td>29</td>\n",
              "      <td>0</td>\n",
              "      <td>16</td>\n",
              "      <td>30</td>\n",
              "      <td>16</td>\n",
              "      <td>384</td>\n",
              "    </tr>\n",
              "    <tr>\n",
              "      <th>3</th>\n",
              "      <td>1</td>\n",
              "      <td>133</td>\n",
              "      <td>770</td>\n",
              "      <td>2700</td>\n",
              "      <td>121</td>\n",
              "      <td>22</td>\n",
              "      <td>37</td>\n",
              "      <td>27</td>\n",
              "      <td>921</td>\n",
              "      <td>222361</td>\n",
              "      <td>...</td>\n",
              "      <td>18</td>\n",
              "      <td>1</td>\n",
              "      <td>832</td>\n",
              "      <td>638</td>\n",
              "      <td>15</td>\n",
              "      <td>0</td>\n",
              "      <td>54</td>\n",
              "      <td>22</td>\n",
              "      <td>37</td>\n",
              "      <td>1372</td>\n",
              "    </tr>\n",
              "    <tr>\n",
              "      <th>4</th>\n",
              "      <td>5</td>\n",
              "      <td>288</td>\n",
              "      <td>1200</td>\n",
              "      <td>9200</td>\n",
              "      <td>28</td>\n",
              "      <td>3</td>\n",
              "      <td>61</td>\n",
              "      <td>5</td>\n",
              "      <td>192</td>\n",
              "      <td>31995</td>\n",
              "      <td>...</td>\n",
              "      <td>6</td>\n",
              "      <td>1</td>\n",
              "      <td>2390</td>\n",
              "      <td>1292</td>\n",
              "      <td>87</td>\n",
              "      <td>1</td>\n",
              "      <td>83</td>\n",
              "      <td>0</td>\n",
              "      <td>30</td>\n",
              "      <td>3656</td>\n",
              "    </tr>\n",
              "  </tbody>\n",
              "</table>\n",
              "<p>5 rows × 36 columns</p>\n",
              "</div>"
            ],
            "text/plain": [
              "   languages  watch   fork   star  brances  tags  issue  pull_request  file  \\\n",
              "0          6    398   6800  14800      108   113    747           199     7   \n",
              "1          1   2700  55700  72400        6   123   2400           116  4901   \n",
              "2          6     87   1600   5300       10   106    222            98   648   \n",
              "3          1    133    770   2700      121    22     37            27   921   \n",
              "4          5    288   1200   9200       28     3     61             5   192   \n",
              "\n",
              "   total_lines  ...  duplication  branch  severity_minor  severity_medium  \\\n",
              "0          201  ...           15       1             882              506   \n",
              "1      2903845  ...           13       1           11843             1941   \n",
              "2        85491  ...           16       1             349               68   \n",
              "3       222361  ...           18       1             832              638   \n",
              "4        31995  ...            6       1            2390             1292   \n",
              "\n",
              "   severity_critical  grade  security.1  performance.1  error_prone  \\\n",
              "0                 50      0         108              5            1   \n",
              "1                608      0         550            233          907   \n",
              "2                 29      0          16             30           16   \n",
              "3                 15      0          54             22           37   \n",
              "4                 87      1          83              0           30   \n",
              "\n",
              "   code_style  \n",
              "0        1324  \n",
              "1       12625  \n",
              "2         384  \n",
              "3        1372  \n",
              "4        3656  \n",
              "\n",
              "[5 rows x 36 columns]"
            ]
          },
          "execution_count": 10,
          "metadata": {},
          "output_type": "execute_result"
        }
      ],
      "source": [
        "df.head(5)"
      ]
    },
    {
      "cell_type": "markdown",
      "metadata": {
        "id": "OLF2BB1ZHf47"
      },
      "source": [
        "## Identify Columns That Null Value and Remove Null Value"
      ]
    },
    {
      "cell_type": "code",
      "execution_count": 11,
      "metadata": {
        "colab": {
          "base_uri": "https://localhost:8080/"
        },
        "id": "Q-S3AT_BHiaE",
        "outputId": "31513a61-2358-4250-99ea-00e96f4bf7cb"
      },
      "outputs": [
        {
          "name": "stdout",
          "output_type": "stream",
          "text": [
            "Columns with null values:\n",
            "Series([], dtype: int64)\n"
          ]
        }
      ],
      "source": [
        "null_counts = df.isnull().sum()\n",
        "print(\"Columns with null values:\")\n",
        "print(null_counts[null_counts > 0])\n",
        "\n",
        "if len(null_counts[null_counts > 0]) != 0 :\n",
        "  df = df.dropna()"
      ]
    },
    {
      "cell_type": "markdown",
      "metadata": {
        "id": "kfXkxvr8Hunb"
      },
      "source": [
        "## Identify Columns That Contain a Single Value"
      ]
    },
    {
      "cell_type": "code",
      "execution_count": 12,
      "metadata": {
        "colab": {
          "base_uri": "https://localhost:8080/"
        },
        "id": "47hEBX-HHxK8",
        "outputId": "5191ad29-bb1b-4df2-f366-f2fe8028afa2"
      },
      "outputs": [
        {
          "data": {
            "text/plain": [
              "languages             7\n",
              "watch                29\n",
              "fork                 27\n",
              "star                 24\n",
              "brances              20\n",
              "tags                 23\n",
              "issue                27\n",
              "pull_request         24\n",
              "file                 29\n",
              "total_lines          30\n",
              "line_code            30\n",
              "line_comment         30\n",
              "line_blank           30\n",
              "class                29\n",
              "function             30\n",
              "pull_request2        24\n",
              "files                29\n",
              "active_branch         2\n",
              "total_issues         30\n",
              "complexcity          25\n",
              "style                15\n",
              "performance           4\n",
              "maintainability      28\n",
              "security             17\n",
              "issues               21\n",
              "complexicy            8\n",
              "duplication          25\n",
              "branch                2\n",
              "severity_minor       30\n",
              "severity_medium      30\n",
              "severity_critical    20\n",
              "grade                 3\n",
              "security.1           26\n",
              "performance.1         9\n",
              "error_prone          17\n",
              "code_style           28\n",
              "dtype: int64"
            ]
          },
          "execution_count": 12,
          "metadata": {},
          "output_type": "execute_result"
        }
      ],
      "source": [
        "df.nunique()"
      ]
    },
    {
      "cell_type": "markdown",
      "metadata": {
        "id": "ya1nLdTFH2Zk"
      },
      "source": [
        "## Delete Columns That Contain a Single Value"
      ]
    },
    {
      "cell_type": "code",
      "execution_count": 13,
      "metadata": {
        "colab": {
          "base_uri": "https://localhost:8080/"
        },
        "id": "VEYNJEHJH5eJ",
        "outputId": "9a955b9a-f52d-4c9b-b087-1da458858c7f"
      },
      "outputs": [
        {
          "name": "stdout",
          "output_type": "stream",
          "text": [
            "(30, 36)\n",
            "Index([], dtype='object')\n",
            "(30, 36)\n"
          ]
        }
      ],
      "source": [
        "print(df.shape)\n",
        "counts = df.nunique()\n",
        "to_del = [i for i,v in enumerate(counts) if v == 1]\n",
        "print(df.columns[to_del])\n",
        "df.drop(to_del, axis=1, inplace=True)\n",
        "print(df.shape)"
      ]
    },
    {
      "cell_type": "markdown",
      "metadata": {
        "id": "vW61uEkBIB8G"
      },
      "source": [
        "## Identify Rows That Contain Duplicate Data and Delete Rows"
      ]
    },
    {
      "cell_type": "code",
      "execution_count": 14,
      "metadata": {
        "colab": {
          "base_uri": "https://localhost:8080/"
        },
        "id": "kC9ndZs1IFJa",
        "outputId": "1622e57b-f172-43a9-d01d-2ba72a097383"
      },
      "outputs": [
        {
          "name": "stdout",
          "output_type": "stream",
          "text": [
            "False\n",
            "Empty DataFrame\n",
            "Columns: [languages, watch, fork, star, brances, tags, issue, pull_request, file, total_lines, line_code, line_comment, line_blank, class, function, pull_request2, files, active_branch, total_issues, complexcity, style, performance, maintainability, security, issues, complexicy, duplication, branch, severity_minor, severity_medium, severity_critical, grade, security.1, performance.1, error_prone, code_style]\n",
            "Index: []\n",
            "\n",
            "[0 rows x 36 columns]\n"
          ]
        }
      ],
      "source": [
        "dups = df.duplicated()\n",
        "print(dups.any())\n",
        "print(df[dups])\n",
        "if dups.any() == True:\n",
        "  df.drop_duplicates(inplace=True)\n",
        "  print(df.shape)"
      ]
    },
    {
      "cell_type": "markdown",
      "metadata": {
        "id": "y5XwrdvDIUrZ"
      },
      "source": [
        "## Consider Columns That Have Very Few Values"
      ]
    },
    {
      "cell_type": "code",
      "execution_count": 15,
      "metadata": {
        "id": "UI5QRb6WIXLp"
      },
      "outputs": [],
      "source": [
        "for i in range(df.shape[1]):\n",
        "  num = len(df.iloc[:, i].unique())\n",
        "  percentage = float(num) / df.shape[0] * 100\n",
        "  if percentage < 1:\n",
        "    print('%d, %d, %.1f%%' % (i, num, percentage))"
      ]
    },
    {
      "cell_type": "code",
      "execution_count": 16,
      "metadata": {
        "colab": {
          "base_uri": "https://localhost:8080/"
        },
        "id": "X-hEKUmXIgWR",
        "outputId": "c6150f89-a59a-4e4f-f805-e32a7b3cb2bb"
      },
      "outputs": [
        {
          "name": "stdout",
          "output_type": "stream",
          "text": [
            "(30, 36)\n",
            "Index([], dtype='object')\n",
            "(30, 36)\n"
          ]
        }
      ],
      "source": [
        "print(df.shape)\n",
        "counts = df.nunique()\n",
        "to_del = [i for i,v in enumerate(counts) if (float(v)/df.shape[0]*100) < 1]\n",
        "print(df.columns[to_del])\n",
        "df.drop(to_del, axis=1, inplace=True)\n",
        "print(df.shape)"
      ]
    },
    {
      "cell_type": "markdown",
      "metadata": {
        "id": "lYL6aKJJIugi"
      },
      "source": [
        "# Plot Histogram"
      ]
    },
    {
      "cell_type": "code",
      "execution_count": 17,
      "metadata": {
        "colab": {
          "base_uri": "https://localhost:8080/",
          "height": 1000
        },
        "id": "ghX8A06OIwvP",
        "outputId": "1082986f-3b5b-4dd7-f985-8ba3dc01a8fd"
      },
      "outputs": [
        {
          "data": {
            "image/png": "[encoded data removed]",
            "text/plain": [
              "<Figure size 2500x2000 with 12 Axes>"
            ]
          },
          "metadata": {},
          "output_type": "display_data"
        }
      ],
      "source": [
        "selected_columns = df.iloc[:, :10]\n",
        "\n",
        "selected_columns.hist(bins=10, linewidth=1.2)\n",
        "fig = plt.gcf()\n",
        "fig.set_size_inches(25,20)\n",
        "plt.show()"
      ]
    },
    {
      "cell_type": "markdown",
      "metadata": {
        "id": "J9T3iH03JBEJ"
      },
      "source": [
        "# Splitting The Data into Training And Testing Dataset"
      ]
    },
    {
      "cell_type": "code",
      "execution_count": 18,
      "metadata": {
        "colab": {
          "base_uri": "https://localhost:8080/"
        },
        "id": "JeOYZRJXL4v0",
        "outputId": "aac83f02-f094-4daf-dcca-9ef5c3d6ae58"
      },
      "outputs": [
        {
          "name": "stdout",
          "output_type": "stream",
          "text": [
            "<class 'pandas.core.frame.DataFrame'>\n",
            "RangeIndex: 30 entries, 0 to 29\n",
            "Data columns (total 36 columns):\n",
            " #   Column             Non-Null Count  Dtype\n",
            "---  ------             --------------  -----\n",
            " 0   languages          30 non-null     int32\n",
            " 1   watch              30 non-null     int64\n",
            " 2   fork               30 non-null     int64\n",
            " 3   star               30 non-null     int64\n",
            " 4   brances            30 non-null     int64\n",
            " 5   tags               30 non-null     int64\n",
            " 6   issue              30 non-null     int64\n",
            " 7   pull_request       30 non-null     int64\n",
            " 8   file               30 non-null     int64\n",
            " 9   total_lines        30 non-null     int64\n",
            " 10  line_code          30 non-null     int64\n",
            " 11  line_comment       30 non-null     int64\n",
            " 12  line_blank         30 non-null     int64\n",
            " 13  class              30 non-null     int64\n",
            " 14  function           30 non-null     int64\n",
            " 15  pull_request2      30 non-null     int64\n",
            " 16  files              30 non-null     int32\n",
            " 17  active_branch      30 non-null     int64\n",
            " 18  total_issues       30 non-null     int64\n",
            " 19  complexcity        30 non-null     int64\n",
            " 20  style              30 non-null     int64\n",
            " 21  performance        30 non-null     int64\n",
            " 22  maintainability    30 non-null     int64\n",
            " 23  security           30 non-null     int64\n",
            " 24  issues             30 non-null     int32\n",
            " 25  complexicy         30 non-null     int32\n",
            " 26  duplication        30 non-null     int32\n",
            " 27  branch             30 non-null     int64\n",
            " 28  severity_minor     30 non-null     int64\n",
            " 29  severity_medium    30 non-null     int64\n",
            " 30  severity_critical  30 non-null     int64\n",
            " 31  grade              30 non-null     int32\n",
            " 32  security.1         30 non-null     int64\n",
            " 33  performance.1      30 non-null     int64\n",
            " 34  error_prone        30 non-null     int64\n",
            " 35  code_style         30 non-null     int64\n",
            "dtypes: int32(6), int64(30)\n",
            "memory usage: 7.9 KB\n"
          ]
        }
      ],
      "source": [
        "df.info()"
      ]
    },
    {
      "cell_type": "code",
      "execution_count": 26,
      "metadata": {
        "id": "oFvfkRoAJD2Q"
      },
      "outputs": [],
      "source": [
        "# retrieve numpy array\n",
        "dataset = df.values\n",
        "# split into input (X) and output (y) variables\n",
        "X = dataset[:, :-1]\n",
        "y = dataset[:,-1]\n",
        "\n",
        "# Normalisasi\n",
        "scaler = MinMaxScaler()\n",
        "X = scaler.fit_transform(X)\n",
        "\n",
        "label_encoder = LabelEncoder()\n",
        "y = label_encoder.fit_transform(y)\n",
        "\n",
        "# split into train and test sets\n",
        "X_train, X_test, y_train, y_test = train_test_split(X, y, test_size=0.20, random_state=42)"
      ]
    },
    {
      "cell_type": "markdown",
      "metadata": {
        "id": "0nSgCFDsM3kS"
      },
      "source": [
        "#Clasification"
      ]
    },
    {
      "cell_type": "code",
      "execution_count": 27,
      "metadata": {
        "id": "zJdYzS79NAdC"
      },
      "outputs": [],
      "source": [
        "# evaluation of a model using 4 features chosen with anova f-test\n",
        "from sklearn.preprocessing import MinMaxScaler\n",
        "from sklearn.linear_model import LogisticRegression\n",
        "from sklearn.tree import DecisionTreeClassifier\n",
        "from sklearn.svm import SVC\n",
        "from sklearn.neighbors import KNeighborsClassifier # KNN classifier\n",
        "from sklearn.ensemble import RandomForestClassifier\n",
        "from sklearn import metrics # for checking the model accuracy\n",
        "from sklearn.model_selection import GridSearchCV\n",
        "from sklearn.metrics import accuracy_score\n",
        "from sklearn.model_selection import cross_val_score\n",
        "\n",
        "from sklearn import model_selection\n",
        "# Define stratified k-fold cross-validation with 10 splits\n",
        "kfold = model_selection.KFold(n_splits=10, shuffle=True, random_state=42)\n",
        "scoring = 'accuracy'"
      ]
    },
    {
      "cell_type": "markdown",
      "metadata": {
        "id": "nvXElUMQNJoa"
      },
      "source": [
        "## Model"
      ]
    },
    {
      "cell_type": "code",
      "execution_count": 28,
      "metadata": {
        "colab": {
          "base_uri": "https://localhost:8080/"
        },
        "id": "R1SfimLyOSdN",
        "outputId": "01807d1b-005f-452e-f274-461738c430ca"
      },
      "outputs": [
        {
          "name": "stdout",
          "output_type": "stream",
          "text": [
            "Accuracy : 0.00\n"
          ]
        }
      ],
      "source": [
        "#SVM\n",
        "model = SVC()\n",
        "model.fit(X_train, y_train)\n",
        "\n",
        "yhat = model.predict(X_test)\n",
        "accuracy = accuracy_score(y_test, yhat)\n",
        "print('Accuracy : %.2f' % (accuracy*100))"
      ]
    },
    {
      "cell_type": "code",
      "execution_count": 22,
      "metadata": {
        "colab": {
          "base_uri": "https://localhost:8080/"
        },
        "id": "tU99tgUYMyMH",
        "outputId": "6d8b61f0-78eb-410f-8953-806d62f60720"
      },
      "outputs": [
        {
          "name": "stdout",
          "output_type": "stream",
          "text": [
            "Accuracy : 0.00\n"
          ]
        }
      ],
      "source": [
        "#LogisticRegression\n",
        "model = LogisticRegression()\n",
        "model.fit(X_train, y_train)\n",
        "\n",
        "yhat = model.predict(X_test)\n",
        "accuracy = accuracy_score(y_test, yhat)\n",
        "print('Accuracy : %.2f' % (accuracy*100))"
      ]
    },
    {
      "cell_type": "code",
      "execution_count": 23,
      "metadata": {
        "colab": {
          "base_uri": "https://localhost:8080/"
        },
        "id": "KO28hYsyOs_c",
        "outputId": "81d34c4f-807f-4828-bd9e-d71adc2a2fab"
      },
      "outputs": [
        {
          "name": "stdout",
          "output_type": "stream",
          "text": [
            "Accuracy : 0.00\n"
          ]
        }
      ],
      "source": [
        "#KNN\n",
        "model = KNeighborsClassifier()\n",
        "model.fit(X_train, y_train)\n",
        "\n",
        "yhat = model.predict(X_test)\n",
        "accuracy = accuracy_score(y_test, yhat)\n",
        "print('Accuracy : %.2f' % (accuracy*100))"
      ]
    },
    {
      "cell_type": "code",
      "execution_count": 24,
      "metadata": {
        "colab": {
          "base_uri": "https://localhost:8080/"
        },
        "id": "9DuE-O9OO8g3",
        "outputId": "18922839-5978-4580-a060-8ba87844a004"
      },
      "outputs": [
        {
          "name": "stdout",
          "output_type": "stream",
          "text": [
            "Accuracy : 0.00\n"
          ]
        }
      ],
      "source": [
        "#RandomForest\n",
        "model = RandomForestClassifier()\n",
        "model.fit(X_train, y_train)\n",
        "\n",
        "yhat = model.predict(X_test)\n",
        "accuracy = accuracy_score(y_test, yhat)\n",
        "print('Accuracy : %.2f' % (accuracy*100))"
      ]
    },
    {
      "cell_type": "code",
      "execution_count": 25,
      "metadata": {
        "colab": {
          "base_uri": "https://localhost:8080/"
        },
        "id": "HGZB2YkQOCDd",
        "outputId": "657e23dc-c222-4242-a1db-4a63aff60ec2"
      },
      "outputs": [
        {
          "name": "stdout",
          "output_type": "stream",
          "text": [
            "Accuracy : 0.00\n"
          ]
        }
      ],
      "source": [
        "#DecisionTree\n",
        "model = DecisionTreeClassifier()\n",
        "model.fit(X_train, y_train)\n",
        "\n",
        "yhat = model.predict(X_test)\n",
        "accuracy = accuracy_score(y_test, yhat)\n",
        "print('Accuracy : %.2f' % (accuracy*100))"
      ]
    }
  ],
  "metadata": {
    "colab": {
      "provenance": [],
      "toc_visible": true
    },
    "kernelspec": {
      "display_name": "Python 3",
      "name": "python3"
    },
    "language_info": {
      "codemirror_mode": {
        "name": "ipython",
        "version": 3
      },
      "file_extension": ".py",
      "mimetype": "text/x-python",
      "name": "python",
      "nbconvert_exporter": "python",
      "pygments_lexer": "ipython3",
      "version": "3.11.5"
    }
  },
  "nbformat": 4,
  "nbformat_minor": 0
}
